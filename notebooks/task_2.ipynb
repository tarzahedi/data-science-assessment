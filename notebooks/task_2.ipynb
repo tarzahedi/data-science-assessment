{
 "cells": [
  {
   "cell_type": "markdown",
   "id": "a89af0af-0735-431e-8b23-f64ff02d82a5",
   "metadata": {},
   "source": [
    "# Import Libraries"
   ]
  },
  {
   "cell_type": "code",
   "execution_count": 1,
   "id": "5e985d9e-7b59-4afe-a787-15af0c292373",
   "metadata": {
    "execution": {
     "iopub.execute_input": "2025-09-09T09:09:22.676030Z",
     "iopub.status.busy": "2025-09-09T09:09:22.675048Z",
     "iopub.status.idle": "2025-09-09T09:09:25.766913Z",
     "shell.execute_reply": "2025-09-09T09:09:25.765155Z",
     "shell.execute_reply.started": "2025-09-09T09:09:22.675954Z"
    }
   },
   "outputs": [],
   "source": [
    "import pandas as pd\n",
    "import numpy as np\n",
    "import matplotlib.pyplot as plt\n",
    "\n",
    "from scipy.stats import spearmanr\n",
    "from sklearn.decomposition import PCA\n",
    "from sklearn.preprocessing import StandardScaler, OneHotEncoder\n",
    "from sklearn.compose import ColumnTransformer\n",
    "from sklearn.pipeline import Pipeline\n",
    "from sklearn.cluster import KMeans\n",
    "from sklearn.metrics import pairwise_distances"
   ]
  },
  {
   "cell_type": "markdown",
   "id": "c043d4d0-711d-4b7e-869f-ffe816d938d0",
   "metadata": {},
   "source": [
    "# Load and Explore Datasets\n",
    "Load `rfq.csv` and `reference_properties.tsv`.  \n",
    "Inspect 5 first rows, data types, shape, missing values, and duplicates."
   ]
  },
  {
   "cell_type": "code",
   "execution_count": 2,
   "id": "e865fb4a-8570-40f8-b350-4d8d52a17805",
   "metadata": {
    "execution": {
     "iopub.execute_input": "2025-09-09T09:09:25.772003Z",
     "iopub.status.busy": "2025-09-09T09:09:25.770141Z",
     "iopub.status.idle": "2025-09-09T09:09:25.798518Z",
     "shell.execute_reply": "2025-09-09T09:09:25.796927Z",
     "shell.execute_reply.started": "2025-09-09T09:09:25.771921Z"
    }
   },
   "outputs": [],
   "source": [
    "rfq = pd.read_csv(\"../resources/task_2/rfq.csv\")\n",
    "ref = pd.read_csv(\"../resources/task_2/reference_properties.tsv\", sep=\"\\t\")"
   ]
  },
  {
   "cell_type": "code",
   "execution_count": 3,
   "id": "cf7a942d-43f7-456e-9ccd-2e4a31cc3a87",
   "metadata": {
    "execution": {
     "iopub.execute_input": "2025-09-09T09:09:25.801041Z",
     "iopub.status.busy": "2025-09-09T09:09:25.800594Z",
     "iopub.status.idle": "2025-09-09T09:09:25.858439Z",
     "shell.execute_reply": "2025-09-09T09:09:25.856391Z",
     "shell.execute_reply.started": "2025-09-09T09:09:25.801003Z"
    }
   },
   "outputs": [
    {
     "data": {
      "text/html": [
       "<div>\n",
       "<style scoped>\n",
       "    .dataframe tbody tr th:only-of-type {\n",
       "        vertical-align: middle;\n",
       "    }\n",
       "\n",
       "    .dataframe tbody tr th {\n",
       "        vertical-align: top;\n",
       "    }\n",
       "\n",
       "    .dataframe thead th {\n",
       "        text-align: right;\n",
       "    }\n",
       "</style>\n",
       "<table border=\"1\" class=\"dataframe\">\n",
       "  <thead>\n",
       "    <tr style=\"text-align: right;\">\n",
       "      <th></th>\n",
       "      <th>Grade/Material</th>\n",
       "      <th>UNS_No</th>\n",
       "      <th>Steel_No</th>\n",
       "      <th>Standards</th>\n",
       "      <th>Carbon (C)</th>\n",
       "      <th>Manganese (Mn)</th>\n",
       "      <th>Silicon (Si)</th>\n",
       "      <th>Sulfur (S)</th>\n",
       "      <th>Phosphorus (P)</th>\n",
       "      <th>Chromium (Cr)</th>\n",
       "      <th>...</th>\n",
       "      <th>Reduction of area (Z%)</th>\n",
       "      <th>Hardness (HB, HV, HRC)</th>\n",
       "      <th>Impact toughness (Charpy V-notch)</th>\n",
       "      <th>Fatigue limit</th>\n",
       "      <th>Creep resistance</th>\n",
       "      <th>Source_Pages</th>\n",
       "      <th>Application</th>\n",
       "      <th>Category</th>\n",
       "      <th>Nb + V + Ti (Others)</th>\n",
       "      <th>Coating</th>\n",
       "    </tr>\n",
       "  </thead>\n",
       "  <tbody>\n",
       "    <tr>\n",
       "      <th>0</th>\n",
       "      <td>S235JR</td>\n",
       "      <td>NaN</td>\n",
       "      <td>NaN</td>\n",
       "      <td>EN 10025-2:2019</td>\n",
       "      <td>≤0.17</td>\n",
       "      <td>≤1.40</td>\n",
       "      <td>≤0.40</td>\n",
       "      <td>≤0.035</td>\n",
       "      <td>≤0.035</td>\n",
       "      <td>NaN</td>\n",
       "      <td>...</td>\n",
       "      <td>NaN</td>\n",
       "      <td>NaN</td>\n",
       "      <td>27J at 20°C</td>\n",
       "      <td>NaN</td>\n",
       "      <td>NaN</td>\n",
       "      <td>Standard Specifications</td>\n",
       "      <td>General structural steels</td>\n",
       "      <td>Structural Steel</td>\n",
       "      <td>NaN</td>\n",
       "      <td>NaN</td>\n",
       "    </tr>\n",
       "    <tr>\n",
       "      <th>1</th>\n",
       "      <td>S275JR</td>\n",
       "      <td>NaN</td>\n",
       "      <td>NaN</td>\n",
       "      <td>EN 10025-2:2019</td>\n",
       "      <td>≤0.21</td>\n",
       "      <td>≤1.50</td>\n",
       "      <td>≤0.40</td>\n",
       "      <td>≤0.035</td>\n",
       "      <td>≤0.035</td>\n",
       "      <td>NaN</td>\n",
       "      <td>...</td>\n",
       "      <td>NaN</td>\n",
       "      <td>NaN</td>\n",
       "      <td>27J at 20°C</td>\n",
       "      <td>NaN</td>\n",
       "      <td>NaN</td>\n",
       "      <td>Standard Specifications</td>\n",
       "      <td>General structural steels</td>\n",
       "      <td>Structural Steel</td>\n",
       "      <td>NaN</td>\n",
       "      <td>NaN</td>\n",
       "    </tr>\n",
       "    <tr>\n",
       "      <th>2</th>\n",
       "      <td>S355JR</td>\n",
       "      <td>NaN</td>\n",
       "      <td>NaN</td>\n",
       "      <td>EN 10025-2:2019</td>\n",
       "      <td>≤0.24</td>\n",
       "      <td>≤1.60</td>\n",
       "      <td>≤0.55</td>\n",
       "      <td>≤0.035</td>\n",
       "      <td>≤0.035</td>\n",
       "      <td>NaN</td>\n",
       "      <td>...</td>\n",
       "      <td>NaN</td>\n",
       "      <td>NaN</td>\n",
       "      <td>27J at 20°C</td>\n",
       "      <td>NaN</td>\n",
       "      <td>NaN</td>\n",
       "      <td>Standard Specifications</td>\n",
       "      <td>General structural steels</td>\n",
       "      <td>Structural Steel</td>\n",
       "      <td>NaN</td>\n",
       "      <td>NaN</td>\n",
       "    </tr>\n",
       "    <tr>\n",
       "      <th>3</th>\n",
       "      <td>S420M</td>\n",
       "      <td>NaN</td>\n",
       "      <td>NaN</td>\n",
       "      <td>EN 10025-3:2019</td>\n",
       "      <td>≤0.20</td>\n",
       "      <td>1.00-1.70</td>\n",
       "      <td>≤0.50</td>\n",
       "      <td>≤0.025</td>\n",
       "      <td>≤0.030</td>\n",
       "      <td>≤0.30</td>\n",
       "      <td>...</td>\n",
       "      <td>NaN</td>\n",
       "      <td>NaN</td>\n",
       "      <td>27J at -20°C</td>\n",
       "      <td>NaN</td>\n",
       "      <td>NaN</td>\n",
       "      <td>Standard Specifications</td>\n",
       "      <td>Thermomechanically rolled steels</td>\n",
       "      <td>High Strength Steel</td>\n",
       "      <td>NaN</td>\n",
       "      <td>NaN</td>\n",
       "    </tr>\n",
       "    <tr>\n",
       "      <th>4</th>\n",
       "      <td>S460M</td>\n",
       "      <td>NaN</td>\n",
       "      <td>NaN</td>\n",
       "      <td>EN 10025-3:2019</td>\n",
       "      <td>≤0.20</td>\n",
       "      <td>1.00-1.70</td>\n",
       "      <td>≤0.50</td>\n",
       "      <td>≤0.025</td>\n",
       "      <td>≤0.030</td>\n",
       "      <td>≤0.30</td>\n",
       "      <td>...</td>\n",
       "      <td>NaN</td>\n",
       "      <td>NaN</td>\n",
       "      <td>27J at -20°C</td>\n",
       "      <td>NaN</td>\n",
       "      <td>NaN</td>\n",
       "      <td>Standard Specifications</td>\n",
       "      <td>Thermomechanically rolled steels</td>\n",
       "      <td>High Strength Steel</td>\n",
       "      <td>NaN</td>\n",
       "      <td>NaN</td>\n",
       "    </tr>\n",
       "  </tbody>\n",
       "</table>\n",
       "<p>5 rows × 34 columns</p>\n",
       "</div>"
      ],
      "text/plain": [
       "  Grade/Material  UNS_No  Steel_No        Standards Carbon (C) Manganese (Mn)  \\\n",
       "0         S235JR     NaN       NaN  EN 10025-2:2019      ≤0.17          ≤1.40   \n",
       "1         S275JR     NaN       NaN  EN 10025-2:2019      ≤0.21          ≤1.50   \n",
       "2         S355JR     NaN       NaN  EN 10025-2:2019      ≤0.24          ≤1.60   \n",
       "3          S420M     NaN       NaN  EN 10025-3:2019      ≤0.20      1.00-1.70   \n",
       "4          S460M     NaN       NaN  EN 10025-3:2019      ≤0.20      1.00-1.70   \n",
       "\n",
       "  Silicon (Si) Sulfur (S) Phosphorus (P) Chromium (Cr)  ...  \\\n",
       "0        ≤0.40     ≤0.035         ≤0.035           NaN  ...   \n",
       "1        ≤0.40     ≤0.035         ≤0.035           NaN  ...   \n",
       "2        ≤0.55     ≤0.035         ≤0.035           NaN  ...   \n",
       "3        ≤0.50     ≤0.025         ≤0.030         ≤0.30  ...   \n",
       "4        ≤0.50     ≤0.025         ≤0.030         ≤0.30  ...   \n",
       "\n",
       "  Reduction of area (Z%) Hardness (HB, HV, HRC)  \\\n",
       "0                    NaN                    NaN   \n",
       "1                    NaN                    NaN   \n",
       "2                    NaN                    NaN   \n",
       "3                    NaN                    NaN   \n",
       "4                    NaN                    NaN   \n",
       "\n",
       "  Impact toughness (Charpy V-notch)  Fatigue limit  Creep resistance  \\\n",
       "0                       27J at 20°C            NaN               NaN   \n",
       "1                       27J at 20°C            NaN               NaN   \n",
       "2                       27J at 20°C            NaN               NaN   \n",
       "3                      27J at -20°C            NaN               NaN   \n",
       "4                      27J at -20°C            NaN               NaN   \n",
       "\n",
       "              Source_Pages                       Application  \\\n",
       "0  Standard Specifications         General structural steels   \n",
       "1  Standard Specifications         General structural steels   \n",
       "2  Standard Specifications         General structural steels   \n",
       "3  Standard Specifications  Thermomechanically rolled steels   \n",
       "4  Standard Specifications  Thermomechanically rolled steels   \n",
       "\n",
       "              Category Nb + V + Ti (Others) Coating  \n",
       "0     Structural Steel                  NaN     NaN  \n",
       "1     Structural Steel                  NaN     NaN  \n",
       "2     Structural Steel                  NaN     NaN  \n",
       "3  High Strength Steel                  NaN     NaN  \n",
       "4  High Strength Steel                  NaN     NaN  \n",
       "\n",
       "[5 rows x 34 columns]"
      ]
     },
     "execution_count": 3,
     "metadata": {},
     "output_type": "execute_result"
    }
   ],
   "source": [
    "# Look at 5 first rows\n",
    "ref.head()"
   ]
  },
  {
   "cell_type": "code",
   "execution_count": 4,
   "id": "bd6129c4-57e3-424a-90a9-7abb13bbb067",
   "metadata": {
    "execution": {
     "iopub.execute_input": "2025-09-09T09:09:25.862194Z",
     "iopub.status.busy": "2025-09-09T09:09:25.861671Z",
     "iopub.status.idle": "2025-09-09T09:09:25.892171Z",
     "shell.execute_reply": "2025-09-09T09:09:25.889901Z",
     "shell.execute_reply.started": "2025-09-09T09:09:25.862151Z"
    }
   },
   "outputs": [
    {
     "name": "stdout",
     "output_type": "stream",
     "text": [
      "<class 'pandas.core.frame.DataFrame'>\n",
      "RangeIndex: 175 entries, 0 to 174\n",
      "Data columns (total 34 columns):\n",
      " #   Column                             Non-Null Count  Dtype  \n",
      "---  ------                             --------------  -----  \n",
      " 0   Grade/Material                     175 non-null    object \n",
      " 1   UNS_No                             0 non-null      float64\n",
      " 2   Steel_No                           0 non-null      float64\n",
      " 3   Standards                          175 non-null    object \n",
      " 4   Carbon (C)                         175 non-null    object \n",
      " 5   Manganese (Mn)                     175 non-null    object \n",
      " 6   Silicon (Si)                       134 non-null    object \n",
      " 7   Sulfur (S)                         163 non-null    object \n",
      " 8   Phosphorus (P)                     163 non-null    object \n",
      " 9   Chromium (Cr)                      42 non-null     object \n",
      " 10  Nickel (Ni)                        16 non-null     object \n",
      " 11  Molybdenum (Mo)                    30 non-null     object \n",
      " 12  Vanadium (V)                       25 non-null     object \n",
      " 13  Tungsten (W)                       0 non-null      float64\n",
      " 14  Cobalt (Co)                        0 non-null      float64\n",
      " 15  Copper (Cu)                        1 non-null      object \n",
      " 16  Aluminum (Al)                      94 non-null     object \n",
      " 17  Titanium (Ti)                      29 non-null     object \n",
      " 18  Niobium (Nb)                       26 non-null     object \n",
      " 19  Boron (B)                          8 non-null      object \n",
      " 20  Nitrogen (N)                       17 non-null     object \n",
      " 21  Tensile strength (Rm)              175 non-null    object \n",
      " 22  Yield strength (Re or Rp0.2)       164 non-null    object \n",
      " 23  Elongation (A%)                    154 non-null    object \n",
      " 24  Reduction of area (Z%)             0 non-null      float64\n",
      " 25  Hardness (HB, HV, HRC)             33 non-null     object \n",
      " 26  Impact toughness (Charpy V-notch)  16 non-null     object \n",
      " 27  Fatigue limit                      0 non-null      float64\n",
      " 28  Creep resistance                   0 non-null      float64\n",
      " 29  Source_Pages                       175 non-null    object \n",
      " 30  Application                        175 non-null    object \n",
      " 31  Category                           175 non-null    object \n",
      " 32  Nb + V + Ti (Others)               8 non-null      object \n",
      " 33  Coating                            20 non-null     object \n",
      "dtypes: float64(7), object(27)\n",
      "memory usage: 46.6+ KB\n"
     ]
    }
   ],
   "source": [
    "ref.info()"
   ]
  },
  {
   "cell_type": "code",
   "execution_count": 5,
   "id": "8af219ee-be8f-4321-8d31-d90d2d9e3632",
   "metadata": {
    "execution": {
     "iopub.execute_input": "2025-09-09T09:09:25.894458Z",
     "iopub.status.busy": "2025-09-09T09:09:25.893927Z",
     "iopub.status.idle": "2025-09-09T09:09:25.912172Z",
     "shell.execute_reply": "2025-09-09T09:09:25.909501Z",
     "shell.execute_reply.started": "2025-09-09T09:09:25.894408Z"
    }
   },
   "outputs": [
    {
     "data": {
      "text/plain": [
       "(175, 34)"
      ]
     },
     "execution_count": 5,
     "metadata": {},
     "output_type": "execute_result"
    }
   ],
   "source": [
    "ref.shape"
   ]
  },
  {
   "cell_type": "code",
   "execution_count": 6,
   "id": "80a6c745-e673-4a90-b87e-6728d84f9128",
   "metadata": {
    "execution": {
     "iopub.execute_input": "2025-09-09T09:09:25.916020Z",
     "iopub.status.busy": "2025-09-09T09:09:25.914948Z",
     "iopub.status.idle": "2025-09-09T09:09:25.938948Z",
     "shell.execute_reply": "2025-09-09T09:09:25.935433Z",
     "shell.execute_reply.started": "2025-09-09T09:09:25.915884Z"
    }
   },
   "outputs": [
    {
     "data": {
      "text/plain": [
       "0"
      ]
     },
     "execution_count": 6,
     "metadata": {},
     "output_type": "execute_result"
    }
   ],
   "source": [
    "# Look for duplicates\n",
    "len(ref[ref[\"Grade/Material\"].duplicated()])"
   ]
  },
  {
   "cell_type": "code",
   "execution_count": 7,
   "id": "dca93736-d14e-4a9b-9459-3088755171a4",
   "metadata": {
    "execution": {
     "iopub.execute_input": "2025-09-09T09:09:25.943069Z",
     "iopub.status.busy": "2025-09-09T09:09:25.942027Z",
     "iopub.status.idle": "2025-09-09T09:09:25.966655Z",
     "shell.execute_reply": "2025-09-09T09:09:25.963493Z",
     "shell.execute_reply.started": "2025-09-09T09:09:25.942969Z"
    }
   },
   "outputs": [
    {
     "data": {
      "text/plain": [
       "Grade/Material                         0\n",
       "UNS_No                               175\n",
       "Steel_No                             175\n",
       "Standards                              0\n",
       "Carbon (C)                             0\n",
       "Manganese (Mn)                         0\n",
       "Silicon (Si)                          41\n",
       "Sulfur (S)                            12\n",
       "Phosphorus (P)                        12\n",
       "Chromium (Cr)                        133\n",
       "Nickel (Ni)                          159\n",
       "Molybdenum (Mo)                      145\n",
       "Vanadium (V)                         150\n",
       "Tungsten (W)                         175\n",
       "Cobalt (Co)                          175\n",
       "Copper (Cu)                          174\n",
       "Aluminum (Al)                         81\n",
       "Titanium (Ti)                        146\n",
       "Niobium (Nb)                         149\n",
       "Boron (B)                            167\n",
       "Nitrogen (N)                         158\n",
       "Tensile strength (Rm)                  0\n",
       "Yield strength (Re or Rp0.2)          11\n",
       "Elongation (A%)                       21\n",
       "Reduction of area (Z%)               175\n",
       "Hardness (HB, HV, HRC)               142\n",
       "Impact toughness (Charpy V-notch)    159\n",
       "Fatigue limit                        175\n",
       "Creep resistance                     175\n",
       "Source_Pages                           0\n",
       "Application                            0\n",
       "Category                               0\n",
       "Nb + V + Ti (Others)                 167\n",
       "Coating                              155\n",
       "dtype: int64"
      ]
     },
     "execution_count": 7,
     "metadata": {},
     "output_type": "execute_result"
    }
   ],
   "source": [
    "ref.isna().sum()"
   ]
  },
  {
   "cell_type": "markdown",
   "id": "90112984-fe25-4290-a2a5-be3f548d65cf",
   "metadata": {},
   "source": [
    "## Missing Data: \n",
    "\n",
    "Currently, both `UNS_No` and `Steel_No` are fully missing in the dataset.  \n",
    "However, it is possible to impute this information using cross-references for steel grades.\n",
    "\n",
    "### Possible Approaches\n",
    "- Scrape reference websites that map steel grades to UNS/Steel numbers. (I created cross_refrence_builder notebook for this purpose)\n",
    "- Use an existing open dataset as a lookup table.  \n",
    "- A prototype scraper function was tested, but the results were not fully reliable, so it was left as-is for now.  \n",
    "\n",
    "This can be improved later by refining the scraper or switching to a more robust dataset."
   ]
  },
  {
   "cell_type": "code",
   "execution_count": 8,
   "id": "b48b7228-0f38-4660-ba24-b4c231c2380f",
   "metadata": {
    "execution": {
     "iopub.execute_input": "2025-09-09T09:09:25.970691Z",
     "iopub.status.busy": "2025-09-09T09:09:25.969417Z",
     "iopub.status.idle": "2025-09-09T09:09:26.034966Z",
     "shell.execute_reply": "2025-09-09T09:09:26.033465Z",
     "shell.execute_reply.started": "2025-09-09T09:09:25.970568Z"
    }
   },
   "outputs": [
    {
     "data": {
      "text/html": [
       "<div>\n",
       "<style scoped>\n",
       "    .dataframe tbody tr th:only-of-type {\n",
       "        vertical-align: middle;\n",
       "    }\n",
       "\n",
       "    .dataframe tbody tr th {\n",
       "        vertical-align: top;\n",
       "    }\n",
       "\n",
       "    .dataframe thead th {\n",
       "        text-align: right;\n",
       "    }\n",
       "</style>\n",
       "<table border=\"1\" class=\"dataframe\">\n",
       "  <thead>\n",
       "    <tr style=\"text-align: right;\">\n",
       "      <th></th>\n",
       "      <th>id</th>\n",
       "      <th>grade</th>\n",
       "      <th>grade_suffix</th>\n",
       "      <th>coating</th>\n",
       "      <th>finish</th>\n",
       "      <th>surface_type</th>\n",
       "      <th>surface_protection</th>\n",
       "      <th>form</th>\n",
       "      <th>thickness_min</th>\n",
       "      <th>thickness_max</th>\n",
       "      <th>...</th>\n",
       "      <th>weight_min</th>\n",
       "      <th>weight_max</th>\n",
       "      <th>inner_diameter_min</th>\n",
       "      <th>inner_diameter_max</th>\n",
       "      <th>outer_diameter_min</th>\n",
       "      <th>outer_diameter_max</th>\n",
       "      <th>yield_strength_min</th>\n",
       "      <th>yield_strength_max</th>\n",
       "      <th>tensile_strength_min</th>\n",
       "      <th>tensile_strength_max</th>\n",
       "    </tr>\n",
       "  </thead>\n",
       "  <tbody>\n",
       "    <tr>\n",
       "      <th>0</th>\n",
       "      <td>8aff426d-b8c0-43aa-ad26-835ef4de6129</td>\n",
       "      <td>S700MC</td>\n",
       "      <td>NaN</td>\n",
       "      <td>NaN</td>\n",
       "      <td>Oiled</td>\n",
       "      <td>NaN</td>\n",
       "      <td>NaN</td>\n",
       "      <td>Coils</td>\n",
       "      <td>6.0</td>\n",
       "      <td>6.0</td>\n",
       "      <td>...</td>\n",
       "      <td>15000.0</td>\n",
       "      <td>25000.0</td>\n",
       "      <td>610.0</td>\n",
       "      <td>610.0</td>\n",
       "      <td>NaN</td>\n",
       "      <td>NaN</td>\n",
       "      <td>NaN</td>\n",
       "      <td>NaN</td>\n",
       "      <td>760.0</td>\n",
       "      <td>810.0</td>\n",
       "    </tr>\n",
       "    <tr>\n",
       "      <th>1</th>\n",
       "      <td>37e624be-b125-464f-85b6-1838530193ef</td>\n",
       "      <td>S250GD</td>\n",
       "      <td>NaN</td>\n",
       "      <td>ZM310</td>\n",
       "      <td>Hot-dip zinc magnesium (+ZM)</td>\n",
       "      <td>NaN</td>\n",
       "      <td>NaN</td>\n",
       "      <td>Slit Coils</td>\n",
       "      <td>1.5</td>\n",
       "      <td>1.5</td>\n",
       "      <td>...</td>\n",
       "      <td>NaN</td>\n",
       "      <td>NaN</td>\n",
       "      <td>NaN</td>\n",
       "      <td>NaN</td>\n",
       "      <td>NaN</td>\n",
       "      <td>NaN</td>\n",
       "      <td>NaN</td>\n",
       "      <td>NaN</td>\n",
       "      <td>NaN</td>\n",
       "      <td>NaN</td>\n",
       "    </tr>\n",
       "    <tr>\n",
       "      <th>2</th>\n",
       "      <td>b8257184-6307-46ab-b06e-d979336d1263</td>\n",
       "      <td>DX51D</td>\n",
       "      <td>NaN</td>\n",
       "      <td>Z100</td>\n",
       "      <td>Hot-dip Galvanized (+Z/+GI)</td>\n",
       "      <td>NaN</td>\n",
       "      <td>Lightly Oiled (L)</td>\n",
       "      <td>Coils</td>\n",
       "      <td>0.4</td>\n",
       "      <td>0.4</td>\n",
       "      <td>...</td>\n",
       "      <td>NaN</td>\n",
       "      <td>NaN</td>\n",
       "      <td>NaN</td>\n",
       "      <td>NaN</td>\n",
       "      <td>NaN</td>\n",
       "      <td>NaN</td>\n",
       "      <td>NaN</td>\n",
       "      <td>NaN</td>\n",
       "      <td>NaN</td>\n",
       "      <td>NaN</td>\n",
       "    </tr>\n",
       "    <tr>\n",
       "      <th>3</th>\n",
       "      <td>63140d1f-dda8-40fe-8931-bcaba65d5772</td>\n",
       "      <td>S235</td>\n",
       "      <td>NaN</td>\n",
       "      <td>NaN</td>\n",
       "      <td>NaN</td>\n",
       "      <td>NaN</td>\n",
       "      <td>NaN</td>\n",
       "      <td>Round Tubes</td>\n",
       "      <td>1.5</td>\n",
       "      <td>1.5</td>\n",
       "      <td>...</td>\n",
       "      <td>53800.0</td>\n",
       "      <td>53800.0</td>\n",
       "      <td>NaN</td>\n",
       "      <td>NaN</td>\n",
       "      <td>60.3</td>\n",
       "      <td>NaN</td>\n",
       "      <td>NaN</td>\n",
       "      <td>NaN</td>\n",
       "      <td>NaN</td>\n",
       "      <td>NaN</td>\n",
       "    </tr>\n",
       "    <tr>\n",
       "      <th>4</th>\n",
       "      <td>11cffc57-44be-4d79-bfd5-97482be566d3</td>\n",
       "      <td>S235</td>\n",
       "      <td>NaN</td>\n",
       "      <td>NaN</td>\n",
       "      <td>NaN</td>\n",
       "      <td>NaN</td>\n",
       "      <td>NaN</td>\n",
       "      <td>Round Tubes</td>\n",
       "      <td>1.5</td>\n",
       "      <td>1.5</td>\n",
       "      <td>...</td>\n",
       "      <td>14500.0</td>\n",
       "      <td>14500.0</td>\n",
       "      <td>NaN</td>\n",
       "      <td>NaN</td>\n",
       "      <td>48.3</td>\n",
       "      <td>NaN</td>\n",
       "      <td>NaN</td>\n",
       "      <td>NaN</td>\n",
       "      <td>NaN</td>\n",
       "      <td>NaN</td>\n",
       "    </tr>\n",
       "  </tbody>\n",
       "</table>\n",
       "<p>5 rows × 25 columns</p>\n",
       "</div>"
      ],
      "text/plain": [
       "                                     id   grade  grade_suffix coating  \\\n",
       "0  8aff426d-b8c0-43aa-ad26-835ef4de6129  S700MC           NaN     NaN   \n",
       "1  37e624be-b125-464f-85b6-1838530193ef  S250GD           NaN   ZM310   \n",
       "2  b8257184-6307-46ab-b06e-d979336d1263   DX51D           NaN    Z100   \n",
       "3  63140d1f-dda8-40fe-8931-bcaba65d5772    S235           NaN     NaN   \n",
       "4  11cffc57-44be-4d79-bfd5-97482be566d3    S235           NaN     NaN   \n",
       "\n",
       "                         finish surface_type surface_protection         form  \\\n",
       "0                         Oiled          NaN                NaN        Coils   \n",
       "1  Hot-dip zinc magnesium (+ZM)          NaN                NaN   Slit Coils   \n",
       "2   Hot-dip Galvanized (+Z/+GI)          NaN  Lightly Oiled (L)        Coils   \n",
       "3                           NaN          NaN                NaN  Round Tubes   \n",
       "4                           NaN          NaN                NaN  Round Tubes   \n",
       "\n",
       "   thickness_min  thickness_max  ...  weight_min  weight_max  \\\n",
       "0            6.0            6.0  ...     15000.0     25000.0   \n",
       "1            1.5            1.5  ...         NaN         NaN   \n",
       "2            0.4            0.4  ...         NaN         NaN   \n",
       "3            1.5            1.5  ...     53800.0     53800.0   \n",
       "4            1.5            1.5  ...     14500.0     14500.0   \n",
       "\n",
       "   inner_diameter_min  inner_diameter_max  outer_diameter_min  \\\n",
       "0               610.0               610.0                 NaN   \n",
       "1                 NaN                 NaN                 NaN   \n",
       "2                 NaN                 NaN                 NaN   \n",
       "3                 NaN                 NaN                60.3   \n",
       "4                 NaN                 NaN                48.3   \n",
       "\n",
       "   outer_diameter_max  yield_strength_min  yield_strength_max  \\\n",
       "0                 NaN                 NaN                 NaN   \n",
       "1                 NaN                 NaN                 NaN   \n",
       "2                 NaN                 NaN                 NaN   \n",
       "3                 NaN                 NaN                 NaN   \n",
       "4                 NaN                 NaN                 NaN   \n",
       "\n",
       "   tensile_strength_min  tensile_strength_max  \n",
       "0                 760.0                 810.0  \n",
       "1                   NaN                   NaN  \n",
       "2                   NaN                   NaN  \n",
       "3                   NaN                   NaN  \n",
       "4                   NaN                   NaN  \n",
       "\n",
       "[5 rows x 25 columns]"
      ]
     },
     "execution_count": 8,
     "metadata": {},
     "output_type": "execute_result"
    }
   ],
   "source": [
    "# Look at 5 first rows\n",
    "rfq.head()"
   ]
  },
  {
   "cell_type": "code",
   "execution_count": 9,
   "id": "47b14c0b-86b6-4c41-8829-83458f3daafa",
   "metadata": {
    "execution": {
     "iopub.execute_input": "2025-09-09T09:09:26.037154Z",
     "iopub.status.busy": "2025-09-09T09:09:26.036562Z",
     "iopub.status.idle": "2025-09-09T09:09:26.060632Z",
     "shell.execute_reply": "2025-09-09T09:09:26.058457Z",
     "shell.execute_reply.started": "2025-09-09T09:09:26.037113Z"
    },
    "scrolled": true
   },
   "outputs": [
    {
     "name": "stdout",
     "output_type": "stream",
     "text": [
      "<class 'pandas.core.frame.DataFrame'>\n",
      "RangeIndex: 1000 entries, 0 to 999\n",
      "Data columns (total 25 columns):\n",
      " #   Column                Non-Null Count  Dtype  \n",
      "---  ------                --------------  -----  \n",
      " 0   id                    1000 non-null   object \n",
      " 1   grade                 941 non-null    object \n",
      " 2   grade_suffix          0 non-null      float64\n",
      " 3   coating               318 non-null    object \n",
      " 4   finish                665 non-null    object \n",
      " 5   surface_type          135 non-null    object \n",
      " 6   surface_protection    287 non-null    object \n",
      " 7   form                  927 non-null    object \n",
      " 8   thickness_min         833 non-null    float64\n",
      " 9   thickness_max         834 non-null    float64\n",
      " 10  width_min             539 non-null    float64\n",
      " 11  width_max             652 non-null    float64\n",
      " 12  length_min            131 non-null    float64\n",
      " 13  height_min            132 non-null    float64\n",
      " 14  height_max            2 non-null      float64\n",
      " 15  weight_min            393 non-null    float64\n",
      " 16  weight_max            631 non-null    float64\n",
      " 17  inner_diameter_min    177 non-null    float64\n",
      " 18  inner_diameter_max    178 non-null    float64\n",
      " 19  outer_diameter_min    23 non-null     float64\n",
      " 20  outer_diameter_max    20 non-null     float64\n",
      " 21  yield_strength_min    36 non-null     float64\n",
      " 22  yield_strength_max    16 non-null     float64\n",
      " 23  tensile_strength_min  49 non-null     float64\n",
      " 24  tensile_strength_max  51 non-null     float64\n",
      "dtypes: float64(18), object(7)\n",
      "memory usage: 195.4+ KB\n"
     ]
    }
   ],
   "source": [
    "rfq.info()"
   ]
  },
  {
   "cell_type": "code",
   "execution_count": 10,
   "id": "63066567-f66d-407a-ab54-6b7c65857472",
   "metadata": {
    "execution": {
     "iopub.execute_input": "2025-09-09T09:09:26.071454Z",
     "iopub.status.busy": "2025-09-09T09:09:26.068036Z",
     "iopub.status.idle": "2025-09-09T09:09:26.101734Z",
     "shell.execute_reply": "2025-09-09T09:09:26.091641Z",
     "shell.execute_reply.started": "2025-09-09T09:09:26.071322Z"
    }
   },
   "outputs": [
    {
     "data": {
      "text/plain": [
       "(1000, 25)"
      ]
     },
     "execution_count": 10,
     "metadata": {},
     "output_type": "execute_result"
    }
   ],
   "source": [
    "rfq.shape"
   ]
  },
  {
   "cell_type": "code",
   "execution_count": 11,
   "id": "673171d6-3a7b-4dd3-9444-1ad7808f5480",
   "metadata": {
    "execution": {
     "iopub.execute_input": "2025-09-09T09:09:26.104801Z",
     "iopub.status.busy": "2025-09-09T09:09:26.103835Z",
     "iopub.status.idle": "2025-09-09T09:09:26.143440Z",
     "shell.execute_reply": "2025-09-09T09:09:26.141500Z",
     "shell.execute_reply.started": "2025-09-09T09:09:26.104703Z"
    }
   },
   "outputs": [
    {
     "data": {
      "text/plain": [
       "id                         0\n",
       "grade                     59\n",
       "grade_suffix            1000\n",
       "coating                  682\n",
       "finish                   335\n",
       "surface_type             865\n",
       "surface_protection       713\n",
       "form                      73\n",
       "thickness_min            167\n",
       "thickness_max            166\n",
       "width_min                461\n",
       "width_max                348\n",
       "length_min               869\n",
       "height_min               868\n",
       "height_max               998\n",
       "weight_min               607\n",
       "weight_max               369\n",
       "inner_diameter_min       823\n",
       "inner_diameter_max       822\n",
       "outer_diameter_min       977\n",
       "outer_diameter_max       980\n",
       "yield_strength_min       964\n",
       "yield_strength_max       984\n",
       "tensile_strength_min     951\n",
       "tensile_strength_max     949\n",
       "dtype: int64"
      ]
     },
     "execution_count": 11,
     "metadata": {},
     "output_type": "execute_result"
    }
   ],
   "source": [
    "rfq.isna().sum()"
   ]
  },
  {
   "cell_type": "markdown",
   "id": "21a0b1d5-968b-4786-b048-6c7f8dbef2a4",
   "metadata": {},
   "source": [
    "# Handling Missing Data\n",
    "\n",
    "- The `grade_suffix` column is completely missing, but we can extract it from the `grade` column.  \n",
    "- The `grade` column has 59 missing values. We can assume these represent cases where there was no strong opinion about the grade and fill them as `\"UNKNOWN\"`.  \n",
    "- We can also explore the dataset for duplicated rows **without grade and ID**. If two rows match exactly except for `id` and `grade`, we can assume they are duplicates and use the available grade to fill the missing one.  \n",
    "- Some information, such as `tensile` and `yield`, can be imputed using reference data.  \n",
    "- For categorical features in general, missing values can be filled with `\"UNKNOWN\"`."
   ]
  },
  {
   "cell_type": "markdown",
   "id": "e17dc8ec-7e00-4876-92dc-58221e8e61d6",
   "metadata": {},
   "source": [
    "# Column Names\n",
    "\n",
    "To maintain consistency across both datasets, all column names should be lowercase and free of whitespace or special characters."
   ]
  },
  {
   "cell_type": "code",
   "execution_count": 12,
   "id": "d801b781-d3fa-4bf3-a99a-6cd4524ead87",
   "metadata": {
    "execution": {
     "iopub.execute_input": "2025-09-09T09:09:26.146188Z",
     "iopub.status.busy": "2025-09-09T09:09:26.145332Z",
     "iopub.status.idle": "2025-09-09T09:09:26.168424Z",
     "shell.execute_reply": "2025-09-09T09:09:26.166013Z",
     "shell.execute_reply.started": "2025-09-09T09:09:26.146097Z"
    }
   },
   "outputs": [],
   "source": [
    "def clean_column(name: str) -> str:\n",
    "    # Lowercase\n",
    "    name = name.lower()\n",
    "    if \"(\" in name and \")\" in name:\n",
    "        start = name.index(\"(\")\n",
    "        end = name.index(\")\")\n",
    "        name = (name[:start] + name[end+1:]).strip()\n",
    "    # Replace common separators with underscore\n",
    "    for ch in [\" \", \"/\", \"-\", \".\", \"+\"]:\n",
    "        name = name.replace(ch, \"_\")\n",
    "    # Remove double underscores\n",
    "    while \"__\" in name:\n",
    "        name = name.replace(\"__\", \"_\")\n",
    "    # Strip underscores at ends\n",
    "    name = name.strip(\"_\")\n",
    "    return name"
   ]
  },
  {
   "cell_type": "code",
   "execution_count": 13,
   "id": "bf0c14c7-5829-4965-ae66-c7c076a68bda",
   "metadata": {
    "execution": {
     "iopub.execute_input": "2025-09-09T09:09:26.171237Z",
     "iopub.status.busy": "2025-09-09T09:09:26.170335Z",
     "iopub.status.idle": "2025-09-09T09:09:26.196395Z",
     "shell.execute_reply": "2025-09-09T09:09:26.191477Z",
     "shell.execute_reply.started": "2025-09-09T09:09:26.171146Z"
    }
   },
   "outputs": [],
   "source": [
    "ref.columns = [clean_column(c) for c in ref.columns]\n",
    "ref.rename(columns={\"grade_material\": \"grade\"}, inplace=True) # Keep consistency\n",
    "\n",
    "rfq.columns = [clean_column(c) for c in rfq.columns]"
   ]
  },
  {
   "cell_type": "markdown",
   "id": "016f6a84-0176-4982-9f29-c5ab64523f78",
   "metadata": {},
   "source": [
    "# Grade"
   ]
  },
  {
   "cell_type": "code",
   "execution_count": 14,
   "id": "9b218fa2-2d6b-437b-95c9-0baf3ad86c23",
   "metadata": {
    "execution": {
     "iopub.execute_input": "2025-09-09T09:09:26.201304Z",
     "iopub.status.busy": "2025-09-09T09:09:26.200263Z",
     "iopub.status.idle": "2025-09-09T09:09:26.216544Z",
     "shell.execute_reply": "2025-09-09T09:09:26.213110Z",
     "shell.execute_reply.started": "2025-09-09T09:09:26.201205Z"
    }
   },
   "outputs": [],
   "source": [
    "def normalize_grade(grade: str):\n",
    "    # Uppercase and remove spaces\n",
    "    grade_norm = str(grade).upper().replace(\" \", \"\")\n",
    "    return grade_norm"
   ]
  },
  {
   "cell_type": "code",
   "execution_count": 15,
   "id": "056aab63-18b3-4e76-9144-7799e9493281",
   "metadata": {
    "execution": {
     "iopub.execute_input": "2025-09-09T09:09:26.221116Z",
     "iopub.status.busy": "2025-09-09T09:09:26.219957Z",
     "iopub.status.idle": "2025-09-09T09:09:26.248336Z",
     "shell.execute_reply": "2025-09-09T09:09:26.245001Z",
     "shell.execute_reply.started": "2025-09-09T09:09:26.220940Z"
    }
   },
   "outputs": [],
   "source": [
    "rfq.loc[rfq[\"grade\"].notna(), \"grade\"] = rfq.loc[rfq[\"grade\"].notna(), \"grade\"].apply(normalize_grade)\n",
    "ref[\"grade\"] = ref[\"grade\"].apply(normalize_grade)"
   ]
  },
  {
   "cell_type": "markdown",
   "id": "e1f56d58-bcaf-40b1-b02f-f5686edc4aca",
   "metadata": {},
   "source": [
    "After uppercasing all grades, it's time to revisit the reference data and identify any potential duplicates."
   ]
  },
  {
   "cell_type": "code",
   "execution_count": 16,
   "id": "445e204a-195f-4551-9e00-88acbf290d19",
   "metadata": {
    "execution": {
     "iopub.execute_input": "2025-09-09T09:09:26.255800Z",
     "iopub.status.busy": "2025-09-09T09:09:26.254719Z",
     "iopub.status.idle": "2025-09-09T09:09:26.327583Z",
     "shell.execute_reply": "2025-09-09T09:09:26.325516Z",
     "shell.execute_reply.started": "2025-09-09T09:09:26.255682Z"
    }
   },
   "outputs": [
    {
     "data": {
      "text/html": [
       "<div>\n",
       "<style scoped>\n",
       "    .dataframe tbody tr th:only-of-type {\n",
       "        vertical-align: middle;\n",
       "    }\n",
       "\n",
       "    .dataframe tbody tr th {\n",
       "        vertical-align: top;\n",
       "    }\n",
       "\n",
       "    .dataframe thead th {\n",
       "        text-align: right;\n",
       "    }\n",
       "</style>\n",
       "<table border=\"1\" class=\"dataframe\">\n",
       "  <thead>\n",
       "    <tr style=\"text-align: right;\">\n",
       "      <th></th>\n",
       "      <th>grade</th>\n",
       "      <th>uns_no</th>\n",
       "      <th>steel_no</th>\n",
       "      <th>standards</th>\n",
       "      <th>carbon</th>\n",
       "      <th>manganese</th>\n",
       "      <th>silicon</th>\n",
       "      <th>sulfur</th>\n",
       "      <th>phosphorus</th>\n",
       "      <th>chromium</th>\n",
       "      <th>...</th>\n",
       "      <th>reduction_of_area</th>\n",
       "      <th>hardness</th>\n",
       "      <th>impact_toughness</th>\n",
       "      <th>fatigue_limit</th>\n",
       "      <th>creep_resistance</th>\n",
       "      <th>source_pages</th>\n",
       "      <th>application</th>\n",
       "      <th>category</th>\n",
       "      <th>nb_v_ti</th>\n",
       "      <th>coating</th>\n",
       "    </tr>\n",
       "  </thead>\n",
       "  <tbody>\n",
       "    <tr>\n",
       "      <th>57</th>\n",
       "      <td>26MNB5</td>\n",
       "      <td>NaN</td>\n",
       "      <td>NaN</td>\n",
       "      <td>Automotive specification</td>\n",
       "      <td>0.23-0.29</td>\n",
       "      <td>1.10-1.40</td>\n",
       "      <td>0.15-0.35</td>\n",
       "      <td>≤0.010</td>\n",
       "      <td>≤0.025</td>\n",
       "      <td>0.14-0.26</td>\n",
       "      <td>...</td>\n",
       "      <td>NaN</td>\n",
       "      <td>42-49 HRC</td>\n",
       "      <td>NaN</td>\n",
       "      <td>NaN</td>\n",
       "      <td>NaN</td>\n",
       "      <td>Standard Specifications</td>\n",
       "      <td>Press hardening steel for automotive</td>\n",
       "      <td>Press Hardening Steel</td>\n",
       "      <td>NaN</td>\n",
       "      <td>NaN</td>\n",
       "    </tr>\n",
       "    <tr>\n",
       "      <th>58</th>\n",
       "      <td>26MNB5</td>\n",
       "      <td>NaN</td>\n",
       "      <td>NaN</td>\n",
       "      <td>Automotive specification</td>\n",
       "      <td>0.23-0.29</td>\n",
       "      <td>1.10-1.40</td>\n",
       "      <td>0.15-0.35</td>\n",
       "      <td>≤0.010</td>\n",
       "      <td>≤0.025</td>\n",
       "      <td>0.14-0.26</td>\n",
       "      <td>...</td>\n",
       "      <td>NaN</td>\n",
       "      <td>42-49 HRC</td>\n",
       "      <td>NaN</td>\n",
       "      <td>NaN</td>\n",
       "      <td>NaN</td>\n",
       "      <td>Standard Specifications</td>\n",
       "      <td>Press hardening steel for automotive</td>\n",
       "      <td>Press Hardening Steel</td>\n",
       "      <td>NaN</td>\n",
       "      <td>NaN</td>\n",
       "    </tr>\n",
       "    <tr>\n",
       "      <th>137</th>\n",
       "      <td>HC380LA</td>\n",
       "      <td>NaN</td>\n",
       "      <td>NaN</td>\n",
       "      <td>Automotive specification</td>\n",
       "      <td>≤0.12</td>\n",
       "      <td>0.70-1.40</td>\n",
       "      <td>≤0.50</td>\n",
       "      <td>≤0.015</td>\n",
       "      <td>≤0.025</td>\n",
       "      <td>NaN</td>\n",
       "      <td>...</td>\n",
       "      <td>NaN</td>\n",
       "      <td>NaN</td>\n",
       "      <td>NaN</td>\n",
       "      <td>NaN</td>\n",
       "      <td>NaN</td>\n",
       "      <td>Standard Specifications</td>\n",
       "      <td>Automotive high strength low alloy</td>\n",
       "      <td>HSLA Steel</td>\n",
       "      <td>NaN</td>\n",
       "      <td>NaN</td>\n",
       "    </tr>\n",
       "    <tr>\n",
       "      <th>138</th>\n",
       "      <td>HC380LA</td>\n",
       "      <td>NaN</td>\n",
       "      <td>NaN</td>\n",
       "      <td>Automotive specification</td>\n",
       "      <td>≤0.12</td>\n",
       "      <td>0.70-1.40</td>\n",
       "      <td>≤0.50</td>\n",
       "      <td>≤0.015</td>\n",
       "      <td>≤0.025</td>\n",
       "      <td>NaN</td>\n",
       "      <td>...</td>\n",
       "      <td>NaN</td>\n",
       "      <td>NaN</td>\n",
       "      <td>NaN</td>\n",
       "      <td>NaN</td>\n",
       "      <td>NaN</td>\n",
       "      <td>Standard Specifications</td>\n",
       "      <td>Automotive high strength low alloy (variant)</td>\n",
       "      <td>HSLA Steel</td>\n",
       "      <td>NaN</td>\n",
       "      <td>NaN</td>\n",
       "    </tr>\n",
       "  </tbody>\n",
       "</table>\n",
       "<p>4 rows × 34 columns</p>\n",
       "</div>"
      ],
      "text/plain": [
       "       grade  uns_no  steel_no                 standards     carbon  \\\n",
       "57    26MNB5     NaN       NaN  Automotive specification  0.23-0.29   \n",
       "58    26MNB5     NaN       NaN  Automotive specification  0.23-0.29   \n",
       "137  HC380LA     NaN       NaN  Automotive specification      ≤0.12   \n",
       "138  HC380LA     NaN       NaN  Automotive specification      ≤0.12   \n",
       "\n",
       "     manganese    silicon  sulfur phosphorus   chromium  ...  \\\n",
       "57   1.10-1.40  0.15-0.35  ≤0.010     ≤0.025  0.14-0.26  ...   \n",
       "58   1.10-1.40  0.15-0.35  ≤0.010     ≤0.025  0.14-0.26  ...   \n",
       "137  0.70-1.40      ≤0.50  ≤0.015     ≤0.025        NaN  ...   \n",
       "138  0.70-1.40      ≤0.50  ≤0.015     ≤0.025        NaN  ...   \n",
       "\n",
       "    reduction_of_area   hardness impact_toughness  fatigue_limit  \\\n",
       "57                NaN  42-49 HRC              NaN            NaN   \n",
       "58                NaN  42-49 HRC              NaN            NaN   \n",
       "137               NaN        NaN              NaN            NaN   \n",
       "138               NaN        NaN              NaN            NaN   \n",
       "\n",
       "     creep_resistance             source_pages  \\\n",
       "57                NaN  Standard Specifications   \n",
       "58                NaN  Standard Specifications   \n",
       "137               NaN  Standard Specifications   \n",
       "138               NaN  Standard Specifications   \n",
       "\n",
       "                                      application               category  \\\n",
       "57           Press hardening steel for automotive  Press Hardening Steel   \n",
       "58           Press hardening steel for automotive  Press Hardening Steel   \n",
       "137            Automotive high strength low alloy             HSLA Steel   \n",
       "138  Automotive high strength low alloy (variant)             HSLA Steel   \n",
       "\n",
       "    nb_v_ti coating  \n",
       "57      NaN     NaN  \n",
       "58      NaN     NaN  \n",
       "137     NaN     NaN  \n",
       "138     NaN     NaN  \n",
       "\n",
       "[4 rows x 34 columns]"
      ]
     },
     "execution_count": 16,
     "metadata": {},
     "output_type": "execute_result"
    }
   ],
   "source": [
    "ref[ref.grade.duplicated(keep=False)]"
   ]
  },
  {
   "cell_type": "code",
   "execution_count": 17,
   "id": "9820f4b5-8fec-4c22-8402-6923448e821a",
   "metadata": {
    "execution": {
     "iopub.execute_input": "2025-09-09T09:09:26.330490Z",
     "iopub.status.busy": "2025-09-09T09:09:26.329706Z",
     "iopub.status.idle": "2025-09-09T09:09:26.342835Z",
     "shell.execute_reply": "2025-09-09T09:09:26.339938Z",
     "shell.execute_reply.started": "2025-09-09T09:09:26.330407Z"
    }
   },
   "outputs": [],
   "source": [
    "ref = ref.drop_duplicates(subset=[\"grade\"]).reset_index(drop=True)"
   ]
  },
  {
   "cell_type": "markdown",
   "id": "e97adccd-f07a-4569-8d75-8ed332b1a9ba",
   "metadata": {},
   "source": [
    "Now, we check the unique values of both datasets to ensure that all `rfq-grade` information is present in the reference data."
   ]
  },
  {
   "cell_type": "code",
   "execution_count": 18,
   "id": "33ad3d78-cca7-47df-9a06-532ebb925fdd",
   "metadata": {
    "execution": {
     "iopub.execute_input": "2025-09-09T09:09:26.348306Z",
     "iopub.status.busy": "2025-09-09T09:09:26.346099Z",
     "iopub.status.idle": "2025-09-09T09:09:26.372601Z",
     "shell.execute_reply": "2025-09-09T09:09:26.369871Z",
     "shell.execute_reply.started": "2025-09-09T09:09:26.348189Z"
    }
   },
   "outputs": [
    {
     "data": {
      "text/plain": [
       "[nan]"
      ]
     },
     "execution_count": 18,
     "metadata": {},
     "output_type": "execute_result"
    }
   ],
   "source": [
    "# Check all rfq grade exist in ref\n",
    "rfq_grade_list =  list(rfq.grade.unique())\n",
    "ref_grade_list =  list(ref.grade.unique())\n",
    "missing = [item for item in rfq_grade_list if item not in ref_grade_list]\n",
    "missing"
   ]
  },
  {
   "cell_type": "markdown",
   "id": "42a2bf73-7b3e-4ed8-a81b-dcc83ee94e08",
   "metadata": {},
   "source": [
    "The only missing values are in the `rfq` dataset; the reference dataset has no missing values."
   ]
  },
  {
   "cell_type": "markdown",
   "id": "1b3e14ab-2823-4691-aed6-1cdf2bd8b201",
   "metadata": {},
   "source": [
    "## Apply Uppercase to All Values for Consistency"
   ]
  },
  {
   "cell_type": "code",
   "execution_count": 19,
   "id": "0c8787e6-4180-4b51-ab61-8df671c73587",
   "metadata": {
    "execution": {
     "iopub.execute_input": "2025-09-09T09:09:26.376910Z",
     "iopub.status.busy": "2025-09-09T09:09:26.375872Z",
     "iopub.status.idle": "2025-09-09T09:09:26.440788Z",
     "shell.execute_reply": "2025-09-09T09:09:26.439432Z",
     "shell.execute_reply.started": "2025-09-09T09:09:26.376850Z"
    }
   },
   "outputs": [],
   "source": [
    "# Rfq\n",
    "# Exclude id column\n",
    "rfq_categorical_columns = rfq.select_dtypes(include=\"object\").drop(columns=[\"id\"]).columns\n",
    "rfq[rfq_categorical_columns] = rfq[rfq_categorical_columns].apply(lambda x: x.str.upper())\n",
    "\n",
    "# Ref\n",
    "ref_categorical_columns = ref.select_dtypes(include=\"object\").columns\n",
    "ref[ref_categorical_columns] = ref[ref_categorical_columns].apply(lambda x: x.str.upper())"
   ]
  },
  {
   "cell_type": "markdown",
   "id": "f9f1a325-5dcb-4d1a-9beb-731909f39b8a",
   "metadata": {},
   "source": [
    "# Finish"
   ]
  },
  {
   "cell_type": "code",
   "execution_count": 20,
   "id": "72732cfc-6fe5-446e-af2b-6404d8126370",
   "metadata": {
    "execution": {
     "iopub.execute_input": "2025-09-09T09:09:26.442510Z",
     "iopub.status.busy": "2025-09-09T09:09:26.442095Z",
     "iopub.status.idle": "2025-09-09T09:09:26.464344Z",
     "shell.execute_reply": "2025-09-09T09:09:26.461971Z",
     "shell.execute_reply.started": "2025-09-09T09:09:26.442465Z"
    }
   },
   "outputs": [
    {
     "data": {
      "text/plain": [
       "array(['OILED', 'HOT-DIP ZINC MAGNESIUM (+ZM)',\n",
       "       'HOT-DIP GALVANIZED (+Z/+GI)', nan, 'GALVANIZED',\n",
       "       'ELECTRO-GALVANIZED (+ZE)', 'BLACK (S1)', 'SUPERVITAC (SVA)',\n",
       "       'NORMALIZED (+N)', 'JVD GALVANIZED (+ZV)', 'HOT ROLLED',\n",
       "       'PREPAINTED (PPGI)', 'COLD ROLLED', '+N', 'ALUMINIZED (+AS/+AL)',\n",
       "       'ALUZINC (+AZ)', 'COLD ROLLED (+CR)', 'HOT-DIP GALVANIZED (+Z)',\n",
       "       'STAINED', 'SEAMLESS', 'GALVANNEALED (+ZF)', 'DRY', '1U',\n",
       "       'AS ROLLED (+AR)', 'QUENCHED AND TEMPERED (+QT)',\n",
       "       'HOT-DIP ALUZINC (+AZ)',\n",
       "       'SOFT ANNEALED (+A), AS ROLLED AND TURNED (+SH)', 'ORGANIC (+OC)',\n",
       "       'SLIGHTLY OILED', 'HOT-DIP GALVANIZED (+GI)', '+HR', '+A',\n",
       "       'LIGHTLY OILED (L)', 'GALVANNEALED (+ZF/+GA)', 'OILED (O)',\n",
       "       '+AR PICKLED', 'NK', '+AR', 'LIGHTLY OILED', 'BRIGHT',\n",
       "       'UNTREATED (+U)', 'FORGED', 'GALVANNEALED',\n",
       "       'THERMOMECHANICALLY ROLLED (+M)', 'ASTM NO. 2B', 'ASTM NO. 2D',\n",
       "       'GALFAN (+ZA)'], dtype=object)"
      ]
     },
     "execution_count": 20,
     "metadata": {},
     "output_type": "execute_result"
    }
   ],
   "source": [
    "rfq.finish.unique()"
   ]
  },
  {
   "cell_type": "markdown",
   "id": "ab989489-64aa-4b41-a111-39a47f56683a",
   "metadata": {},
   "source": [
    "As we can see, some `finish` values are repeated in different forms. We need to standardize them to ensure consistency."
   ]
  },
  {
   "cell_type": "code",
   "execution_count": 21,
   "id": "2aae5e3d-231b-4c79-a351-0e97bee87292",
   "metadata": {
    "execution": {
     "iopub.execute_input": "2025-09-09T09:09:26.467079Z",
     "iopub.status.busy": "2025-09-09T09:09:26.466463Z",
     "iopub.status.idle": "2025-09-09T09:09:26.480618Z",
     "shell.execute_reply": "2025-09-09T09:09:26.478544Z",
     "shell.execute_reply.started": "2025-09-09T09:09:26.466996Z"
    }
   },
   "outputs": [],
   "source": [
    "finish_dict = {\n",
    "    \"+AR\": \"AS ROLLED (+AR)\",\n",
    "    \"OILED\": \"OILED (O)\",\n",
    "    \"LIGHTLY OILED\": \"LIGHTLY OILED (L)\",\n",
    "    \"+N\": \"NORMALIZED (+N)\",\n",
    "    \"COLD ROLLED\": \"COLD ROLLED (+CR)\",\n",
    "    \"+A\": \"SOFT ANNEALED (+A)\"\n",
    "}\n",
    "rfq[\"finish\"] = rfq[\"finish\"].apply(lambda x: finish_dict.get(x, x))"
   ]
  },
  {
   "cell_type": "markdown",
   "id": "2c990673-7ed9-40a8-92e5-c611ae305723",
   "metadata": {},
   "source": [
    "# Suffix\n",
    "\n",
    "Based on the `grade`, we can extract the suffix (`+` or `-`) and then derive additional information from it."
   ]
  },
  {
   "cell_type": "code",
   "execution_count": 22,
   "id": "01affa74-6dcd-4a8e-a655-b32de520c89c",
   "metadata": {
    "execution": {
     "iopub.execute_input": "2025-09-09T09:09:26.483446Z",
     "iopub.status.busy": "2025-09-09T09:09:26.482430Z",
     "iopub.status.idle": "2025-09-09T09:09:26.500993Z",
     "shell.execute_reply": "2025-09-09T09:09:26.497614Z",
     "shell.execute_reply.started": "2025-09-09T09:09:26.483361Z"
    }
   },
   "outputs": [],
   "source": [
    "def suffix_finder(grade):\n",
    "    # Initialize suffix\n",
    "    grade_suffix = None\n",
    "    # Look for suffix starting with '+' or '-'\n",
    "    for i, c in enumerate(str(grade)):\n",
    "        if c in \"+-\":\n",
    "            grade_suffix = grade[i:]\n",
    "            break\n",
    "    if (grade_suffix is not None) and (len(grade_suffix) > 4): \n",
    "        return None\n",
    "    return grade_suffix"
   ]
  },
  {
   "cell_type": "code",
   "execution_count": 23,
   "id": "a12117dc-c725-4644-9a72-b12b96c7d45a",
   "metadata": {
    "execution": {
     "iopub.execute_input": "2025-09-09T09:09:26.504673Z",
     "iopub.status.busy": "2025-09-09T09:09:26.503465Z",
     "iopub.status.idle": "2025-09-09T09:09:26.527830Z",
     "shell.execute_reply": "2025-09-09T09:09:26.525209Z",
     "shell.execute_reply.started": "2025-09-09T09:09:26.504584Z"
    }
   },
   "outputs": [
    {
     "data": {
      "text/plain": [
       "array([None, '+N', '+C', '+QT', '-DP'], dtype=object)"
      ]
     },
     "execution_count": 23,
     "metadata": {},
     "output_type": "execute_result"
    }
   ],
   "source": [
    "rfq[\"grade_suffix\"] = rfq[\"grade\"].apply(suffix_finder)\n",
    "rfq[\"grade_suffix\"].unique()"
   ]
  },
  {
   "cell_type": "markdown",
   "id": "d2781cba-9fca-409c-a1e4-f0cc5122d891",
   "metadata": {},
   "source": [
    "Now, we can use these suffixes and their corresponding matches from the reference website to impute missing information."
   ]
  },
  {
   "cell_type": "code",
   "execution_count": 24,
   "id": "00989792-40c3-4b5c-9336-44026101e563",
   "metadata": {
    "execution": {
     "iopub.execute_input": "2025-09-09T09:09:26.531622Z",
     "iopub.status.busy": "2025-09-09T09:09:26.530599Z",
     "iopub.status.idle": "2025-09-09T09:09:26.552905Z",
     "shell.execute_reply": "2025-09-09T09:09:26.550349Z",
     "shell.execute_reply.started": "2025-09-09T09:09:26.531504Z"
    }
   },
   "outputs": [],
   "source": [
    "suffix_finish = {\"+N\": \"Normalized (+N)\",\n",
    " \"+C\": \"Cold Drawn (+C)\",\n",
    " \"QT\": \"Quenched and Tempered (+QT)\"}\n",
    "rfq.loc[rfq[\"finish\"].isna(), \"finish\"] = rfq[rfq[\"finish\"].isna()][\"grade_suffix\"].apply(lambda x: suffix_finish.get(x, x))"
   ]
  },
  {
   "cell_type": "markdown",
   "id": "1da8c420-26c5-40d7-8242-15e39c775af5",
   "metadata": {
    "execution": {
     "iopub.execute_input": "2025-09-08T20:54:17.452860Z",
     "iopub.status.busy": "2025-09-08T20:54:17.451689Z",
     "iopub.status.idle": "2025-09-08T20:54:17.468696Z",
     "shell.execute_reply": "2025-09-08T20:54:17.465537Z",
     "shell.execute_reply.started": "2025-09-08T20:54:17.452786Z"
    }
   },
   "source": [
    "# Other columns\n",
    "\n",
    "**`surface_protection` → `finish` for RFQ**  \n",
    "It is possible to extract some information from this column and impute it into other columns.\n",
    "\n",
    "**`application_ref` → `finish`**  \n",
    "This column contains a lot of useful information. We could potentially use NLP techniques to automate the extraction, but for now, we will leave it as is.\n"
   ]
  },
  {
   "cell_type": "code",
   "execution_count": 25,
   "id": "81f719af-d648-4d97-b529-bc082621aab6",
   "metadata": {
    "execution": {
     "iopub.execute_input": "2025-09-09T09:09:26.557136Z",
     "iopub.status.busy": "2025-09-09T09:09:26.555963Z",
     "iopub.status.idle": "2025-09-09T09:09:26.586668Z",
     "shell.execute_reply": "2025-09-09T09:09:26.584400Z",
     "shell.execute_reply.started": "2025-09-09T09:09:26.557023Z"
    }
   },
   "outputs": [],
   "source": [
    "# rfq.surface_protection.unique()"
   ]
  },
  {
   "cell_type": "code",
   "execution_count": 26,
   "id": "39be8170-848a-44b5-8198-531225feefbd",
   "metadata": {
    "execution": {
     "iopub.execute_input": "2025-09-09T09:09:26.588919Z",
     "iopub.status.busy": "2025-09-09T09:09:26.588340Z",
     "iopub.status.idle": "2025-09-09T09:09:26.603810Z",
     "shell.execute_reply": "2025-09-09T09:09:26.600737Z",
     "shell.execute_reply.started": "2025-09-09T09:09:26.588867Z"
    }
   },
   "outputs": [],
   "source": [
    "# ref.application.unique()"
   ]
  },
  {
   "cell_type": "code",
   "execution_count": 27,
   "id": "96d79895-8901-48aa-895a-f218c28dec64",
   "metadata": {
    "execution": {
     "iopub.execute_input": "2025-09-09T09:09:26.607304Z",
     "iopub.status.busy": "2025-09-09T09:09:26.606324Z",
     "iopub.status.idle": "2025-09-09T09:09:26.621035Z",
     "shell.execute_reply": "2025-09-09T09:09:26.617942Z",
     "shell.execute_reply.started": "2025-09-09T09:09:26.607173Z"
    }
   },
   "outputs": [],
   "source": [
    "# rfq.coating.unique()"
   ]
  },
  {
   "cell_type": "markdown",
   "id": "9d048444-fe45-4a14-a65e-5156f11f7582",
   "metadata": {},
   "source": [
    "For now, we will focus on other tasks, but there are several ways to impute missing values and extract information from these columns."
   ]
  },
  {
   "cell_type": "markdown",
   "id": "5b2bd7ef-4c0b-4e70-b910-1bbb13374e64",
   "metadata": {},
   "source": [
    "# Parse Range\n",
    "\n",
    "Parse simple range strings into `(min, max)`, ignoring units.\n",
    "\n",
    "**Examples:**  \n",
    "- `\"5-10 kg\"`  → `(5.0, 10.0)`  \n",
    "- `\">=7 m\"`    → `(7.0, None)`  \n",
    "- `\"≤3.5 cm\"`  → `(0.0, 3.5)`  \n",
    "- `\">10%\"`     → `(10.0, 100.0)`  \n",
    "- `\"<20%\"`     → `(0.0, 20.0)`  \n",
    "- `\"35\"`       → `(35.0, 35.0)`  "
   ]
  },
  {
   "cell_type": "code",
   "execution_count": 28,
   "id": "883cab34-e550-4a2e-940e-f710d3a16b5d",
   "metadata": {
    "execution": {
     "iopub.execute_input": "2025-09-09T09:09:26.648571Z",
     "iopub.status.busy": "2025-09-09T09:09:26.646645Z",
     "iopub.status.idle": "2025-09-09T09:09:26.668054Z",
     "shell.execute_reply": "2025-09-09T09:09:26.665736Z",
     "shell.execute_reply.started": "2025-09-09T09:09:26.648485Z"
    }
   },
   "outputs": [],
   "source": [
    "def parse_range(s: str):\n",
    "    if s is None or str(s).strip() == \"\":\n",
    "        return None, None\n",
    "\n",
    "    s = str(s).strip()\n",
    "    allowed = set(\"0123456789.-≤≥<>% \")\n",
    "    \n",
    "    # Remove trailing units (keep only allowed characters)\n",
    "    i = len(s)\n",
    "    while i > 0 and s[i-1] not in allowed:\n",
    "        i -= 1\n",
    "    s = s[:i].strip()\n",
    "\n",
    "    # Normalize characters\n",
    "    s = s.replace(\"–\", \"-\").replace(\" \", \"\")\n",
    "\n",
    "    # Range with dash (\"5-10\")\n",
    "    if \"-\" in s and not s.startswith(\"-\"):\n",
    "        try:\n",
    "            a, b = map(float, s.split(\"-\", 1))\n",
    "            return min(a, b), max(a, b)\n",
    "        except ValueError:\n",
    "            return None, None\n",
    "\n",
    "    # Inequalities\n",
    "    if s.startswith((\"≥\", \">\")):\n",
    "        if s.endswith(\"%\"):\n",
    "            try:\n",
    "                n = float(s[1:-1])\n",
    "                return n, 100.0\n",
    "            except ValueError:\n",
    "                return None, None\n",
    "        else:\n",
    "            try:\n",
    "                n = float(s[1:])\n",
    "                return n, None\n",
    "            except ValueError:\n",
    "                return None, None\n",
    "\n",
    "    if s.startswith((\"≤\", \"<\")):\n",
    "        if s.endswith(\"%\"):\n",
    "            try:\n",
    "                n = float(s[1:-1])\n",
    "                return 0.0, n\n",
    "            except ValueError:\n",
    "                return None, None\n",
    "        else:\n",
    "            try:\n",
    "                n = float(s[1:])\n",
    "                return 0.0, n\n",
    "            except ValueError:\n",
    "                return None, None\n",
    "\n",
    "    # -Single number\n",
    "    try:\n",
    "        n = float(s)\n",
    "        return n, n\n",
    "    except ValueError:\n",
    "        return None, None"
   ]
  },
  {
   "cell_type": "code",
   "execution_count": 29,
   "id": "7a97b985-b53c-4751-bb98-4d0e1a1274bd",
   "metadata": {
    "execution": {
     "iopub.execute_input": "2025-09-09T09:09:26.672777Z",
     "iopub.status.busy": "2025-09-09T09:09:26.670901Z",
     "iopub.status.idle": "2025-09-09T09:09:26.690912Z",
     "shell.execute_reply": "2025-09-09T09:09:26.688148Z",
     "shell.execute_reply.started": "2025-09-09T09:09:26.672689Z"
    }
   },
   "outputs": [],
   "source": [
    "def char_finder(df):\n",
    "    # Look for column with these character\n",
    "    special_chars = [\"-\", \"≤\", \"≥\", \"<\", \">\", \"%\"]\n",
    "\n",
    "    cols_with_special = []\n",
    "\n",
    "    for col in df.columns:\n",
    "        if df[col].dtype == \"object\":  # only check text columns\n",
    "            # Check if any value in the column contains one of the special characters\n",
    "            if df[col].astype(str).str.contains(\"|\".join(special_chars), na=False).any():\n",
    "                cols_with_special.append(col)\n",
    "    return cols_with_special"
   ]
  },
  {
   "cell_type": "code",
   "execution_count": 30,
   "id": "c4754546-e4b4-476e-93b1-526c98c556db",
   "metadata": {
    "execution": {
     "iopub.execute_input": "2025-09-09T09:09:26.694775Z",
     "iopub.status.busy": "2025-09-09T09:09:26.693695Z",
     "iopub.status.idle": "2025-09-09T09:09:26.743586Z",
     "shell.execute_reply": "2025-09-09T09:09:26.741921Z",
     "shell.execute_reply.started": "2025-09-09T09:09:26.694679Z"
    }
   },
   "outputs": [
    {
     "name": "stdout",
     "output_type": "stream",
     "text": [
      "Columns containing special characters: ['grade', 'standards', 'carbon', 'manganese', 'silicon', 'sulfur', 'phosphorus', 'chromium', 'nickel', 'molybdenum', 'vanadium', 'copper', 'aluminum', 'titanium', 'niobium', 'boron', 'nitrogen', 'tensile_strength', 'yield_strength', 'elongation', 'hardness', 'impact_toughness', 'application', 'nb_v_ti', 'coating']\n"
     ]
    }
   ],
   "source": [
    "cols_with_special = char_finder(ref)\n",
    "print(\"Columns containing special characters:\", cols_with_special)"
   ]
  },
  {
   "cell_type": "markdown",
   "id": "b26888dc-9db1-4dcc-8216-04b50225505a",
   "metadata": {},
   "source": [
    "## Function for Checking Missing Values\n",
    "\n",
    "If a column has too many missing values, splitting it into multiple columns can create many `NaN`s, which is inefficient.  \n",
    "We check the percentage of missing values and make decisions based on that."
   ]
  },
  {
   "cell_type": "code",
   "execution_count": 31,
   "id": "25eef049-549b-4acb-a836-aebe524918c6",
   "metadata": {
    "execution": {
     "iopub.execute_input": "2025-09-09T09:09:26.745290Z",
     "iopub.status.busy": "2025-09-09T09:09:26.744878Z",
     "iopub.status.idle": "2025-09-09T09:09:26.764186Z",
     "shell.execute_reply": "2025-09-09T09:09:26.762256Z",
     "shell.execute_reply.started": "2025-09-09T09:09:26.745252Z"
    },
    "scrolled": true
   },
   "outputs": [],
   "source": [
    "# ref[cols_with_special].isna().mean() * 100 "
   ]
  },
  {
   "cell_type": "markdown",
   "id": "05ad6c20-8688-4420-9164-d2353db73543",
   "metadata": {
    "execution": {
     "iopub.execute_input": "2025-09-08T12:37:36.207338Z",
     "iopub.status.busy": "2025-09-08T12:37:36.205902Z",
     "iopub.status.idle": "2025-09-08T12:37:36.221812Z",
     "shell.execute_reply": "2025-09-08T12:37:36.218843Z",
     "shell.execute_reply.started": "2025-09-08T12:37:36.207187Z"
    }
   },
   "source": [
    "Some columns are not numerical features and may only contain special characters, such as `grade` and `application`, so we exclude them.  \n",
    "We keep only columns with less than 70% missing values."
   ]
  },
  {
   "cell_type": "code",
   "execution_count": 32,
   "id": "d3dc5df7-89e1-4fb6-b297-8dae346d0675",
   "metadata": {
    "execution": {
     "iopub.execute_input": "2025-09-09T09:09:26.767245Z",
     "iopub.status.busy": "2025-09-09T09:09:26.766480Z",
     "iopub.status.idle": "2025-09-09T09:09:26.792362Z",
     "shell.execute_reply": "2025-09-09T09:09:26.790620Z",
     "shell.execute_reply.started": "2025-09-09T09:09:26.767199Z"
    }
   },
   "outputs": [],
   "source": [
    "import pandas as pd\n",
    "\n",
    "def parse_columns(df, cols_with_special, threshold=70):\n",
    "    \n",
    "    # Compute missing percentage, excluding 'grade' and 'application'\n",
    "    missing_pct = df[cols_with_special].drop(columns=[\"grade\", \"application\"], errors='ignore').isna().mean() * 100\n",
    "    \n",
    "    # Filter columns below threshold\n",
    "    cols_below_threshold = missing_pct[missing_pct < threshold].index    \n",
    "    # Parse ranges and create new columns\n",
    "    for col in cols_below_threshold:\n",
    "        df[[f\"{col}_min\", f\"{col}_max\"]] = df[col].apply(parse_range).apply(pd.Series)\n",
    "        df.drop(columns=[col], inplace=True)\n",
    "    \n",
    "    return df\n"
   ]
  },
  {
   "cell_type": "code",
   "execution_count": 33,
   "id": "d28e8c7a-3fee-4030-99f6-127a5ffa7053",
   "metadata": {
    "execution": {
     "iopub.execute_input": "2025-09-09T09:09:26.795004Z",
     "iopub.status.busy": "2025-09-09T09:09:26.794242Z",
     "iopub.status.idle": "2025-09-09T09:09:27.296958Z",
     "shell.execute_reply": "2025-09-09T09:09:27.295275Z",
     "shell.execute_reply.started": "2025-09-09T09:09:26.794927Z"
    }
   },
   "outputs": [],
   "source": [
    "ref = parse_columns(ref, char_finder(ref))"
   ]
  },
  {
   "cell_type": "markdown",
   "id": "a7038df6-5de8-4682-bc84-92b2563a9f83",
   "metadata": {},
   "source": [
    "# Merge\n",
    "We left-merge `rfq` with `ref` on `grade`, keeping all `rfq` rows. Suffixes `_rfq` and `_ref` distinguish overlapping columns."
   ]
  },
  {
   "cell_type": "code",
   "execution_count": 34,
   "id": "adad7d17-71f6-4634-bf7a-495c37f30db1",
   "metadata": {
    "execution": {
     "iopub.execute_input": "2025-09-09T09:09:27.298631Z",
     "iopub.status.busy": "2025-09-09T09:09:27.298204Z",
     "iopub.status.idle": "2025-09-09T09:09:27.323820Z",
     "shell.execute_reply": "2025-09-09T09:09:27.321308Z",
     "shell.execute_reply.started": "2025-09-09T09:09:27.298592Z"
    },
    "scrolled": true
   },
   "outputs": [],
   "source": [
    "merge_df = rfq.merge(ref, on=\"grade\", how=\"left\", suffixes=(\"_rfq\", \"_ref\"))"
   ]
  },
  {
   "cell_type": "markdown",
   "id": "68119406-3e47-4a57-ab9f-b5053ac09995",
   "metadata": {},
   "source": [
    "# Handling Tensile and Yield\n",
    "\n",
    "Both datasets contain `tensile` and `yield` information.  \n",
    "\n",
    "- If a value exists in `ref` but not in `rfq`, we can fill it from `ref`.  \n",
    "- When both datasets have values, one approach is to take the **maximum of the min values** and **minimum of the max values**.  \n",
    "\n",
    "For now, we decide to keep `rfq` values unchanged as much as possible."
   ]
  },
  {
   "cell_type": "code",
   "execution_count": 35,
   "id": "e6d8b7e0-e5b4-4b05-8e86-59fb823b531f",
   "metadata": {
    "execution": {
     "iopub.execute_input": "2025-09-09T09:09:27.326747Z",
     "iopub.status.busy": "2025-09-09T09:09:27.326055Z",
     "iopub.status.idle": "2025-09-09T09:09:27.335340Z",
     "shell.execute_reply": "2025-09-09T09:09:27.333176Z",
     "shell.execute_reply.started": "2025-09-09T09:09:27.326683Z"
    }
   },
   "outputs": [],
   "source": [
    "# def combine_min_max(min_x, min_y, max_x, max_y):\n",
    "#     # min: if both exist, take max; else take whichever exists\n",
    "#     combined_min = pd.Series(np.where(\n",
    "#         pd.notna(min_x) & pd.notna(min_y),\n",
    "#         np.maximum(min_x, min_y),\n",
    "#         min_x.fillna(min_y)\n",
    "#     ))\n",
    "#     # max: if both exist, take min; else take whichever exists\n",
    "#     combined_max = pd.Series(np.where(\n",
    "#         pd.notna(max_x) & pd.notna(max_y),\n",
    "#         np.minimum(max_x, max_y),\n",
    "#         max_x.fillna(max_y)\n",
    "#     ))\n",
    "#     return combined_min, combined_max"
   ]
  },
  {
   "cell_type": "code",
   "execution_count": 36,
   "id": "78310d0c-9481-45c1-b400-2a01061d6a59",
   "metadata": {
    "execution": {
     "iopub.execute_input": "2025-09-09T09:09:27.338667Z",
     "iopub.status.busy": "2025-09-09T09:09:27.337938Z",
     "iopub.status.idle": "2025-09-09T09:09:27.352940Z",
     "shell.execute_reply": "2025-09-09T09:09:27.350141Z",
     "shell.execute_reply.started": "2025-09-09T09:09:27.338590Z"
    }
   },
   "outputs": [],
   "source": [
    "def fill_rfq_with_ref(df):\n",
    "\n",
    "    # Loop over columns ending with \"_rfq\"\n",
    "    for col in df.columns:\n",
    "        if col.endswith(\"_rfq\"):\n",
    "            col_ref = col.replace(\"_rfq\", \"_ref\")\n",
    "            if col_ref in df.columns:\n",
    "                df[col] = df[col].fillna(df[col_ref])\n",
    "    df = df.drop(columns=[col for col in df.columns if col.endswith(\"_ref\")])\n",
    "    df = df.rename(columns={col: col.replace(\"_rfq\", \"\") for col in df.columns if col.endswith(\"_rfq\")})\n",
    "\n",
    "    return df"
   ]
  },
  {
   "cell_type": "code",
   "execution_count": 37,
   "id": "edbb7d2b-8e71-47c3-8d12-5bd2376d7741",
   "metadata": {
    "execution": {
     "iopub.execute_input": "2025-09-09T09:09:27.356979Z",
     "iopub.status.busy": "2025-09-09T09:09:27.355827Z",
     "iopub.status.idle": "2025-09-09T09:09:27.411169Z",
     "shell.execute_reply": "2025-09-09T09:09:27.409399Z",
     "shell.execute_reply.started": "2025-09-09T09:09:27.356880Z"
    }
   },
   "outputs": [
    {
     "data": {
      "text/plain": [
       "id                 0.0\n",
       "grade              5.9\n",
       "grade_suffix      99.0\n",
       "coating           66.4\n",
       "finish            33.1\n",
       "                  ... \n",
       "phosphorus_max     7.1\n",
       "aluminum_min      46.0\n",
       "aluminum_max      86.4\n",
       "elongation_min     7.9\n",
       "elongation_max     7.9\n",
       "Length: 63, dtype: float64"
      ]
     },
     "execution_count": 37,
     "metadata": {},
     "output_type": "execute_result"
    }
   ],
   "source": [
    "merge_df = fill_rfq_with_ref(merge_df)\n",
    "merge_df.isna().mean() * 100"
   ]
  },
  {
   "cell_type": "code",
   "execution_count": 38,
   "id": "58c489cd-95cc-4c23-903d-24716119ea27",
   "metadata": {
    "execution": {
     "iopub.execute_input": "2025-09-09T09:09:27.413684Z",
     "iopub.status.busy": "2025-09-09T09:09:27.413057Z",
     "iopub.status.idle": "2025-09-09T09:09:27.424668Z",
     "shell.execute_reply": "2025-09-09T09:09:27.422254Z",
     "shell.execute_reply.started": "2025-09-09T09:09:27.413635Z"
    }
   },
   "outputs": [],
   "source": [
    "def drop_high_missing(df, threshold=0.7):\n",
    "\n",
    "    missing_ratio = df.isnull().mean()  # proportion of missing values per column\n",
    "    cols_to_drop = missing_ratio[missing_ratio > threshold].index\n",
    "    return df.drop(columns=cols_to_drop)\n"
   ]
  },
  {
   "cell_type": "code",
   "execution_count": 39,
   "id": "c9f929ca-31e6-494a-b0b7-c38a06bb85eb",
   "metadata": {
    "execution": {
     "iopub.execute_input": "2025-09-09T09:09:27.429522Z",
     "iopub.status.busy": "2025-09-09T09:09:27.427981Z",
     "iopub.status.idle": "2025-09-09T09:09:27.449899Z",
     "shell.execute_reply": "2025-09-09T09:09:27.447423Z",
     "shell.execute_reply.started": "2025-09-09T09:09:27.429413Z"
    }
   },
   "outputs": [],
   "source": [
    "merge_df = drop_high_missing(merge_df, threshold=0.9)"
   ]
  },
  {
   "cell_type": "code",
   "execution_count": 40,
   "id": "c25343d4-1e6f-4c93-aecb-2118860513bc",
   "metadata": {
    "execution": {
     "iopub.execute_input": "2025-09-09T09:09:27.454016Z",
     "iopub.status.busy": "2025-09-09T09:09:27.453054Z",
     "iopub.status.idle": "2025-09-09T09:09:27.471701Z",
     "shell.execute_reply": "2025-09-09T09:09:27.468986Z",
     "shell.execute_reply.started": "2025-09-09T09:09:27.453920Z"
    }
   },
   "outputs": [],
   "source": [
    "def custom_fillna(df: pd.DataFrame) -> pd.DataFrame:\n",
    "    df = df.copy()\n",
    "    \n",
    "    for col in df.columns:\n",
    "        if df[col].dtype == \"object\":  \n",
    "            # categorical/string\n",
    "            df[col] = df[col].fillna(\"UNKNOWN\")\n",
    "        elif col.endswith(\"_min\"):  \n",
    "            df[col] = df[col].fillna(df[col].min(skipna=True))\n",
    "        elif col.endswith(\"_max\"):  \n",
    "            df[col] = df[col].fillna(df[col].max(skipna=True))\n",
    "        else:  \n",
    "            # numeric general\n",
    "            if np.issubdtype(df[col].dtype, np.number):\n",
    "                df[col] = df[col].fillna(df[col].mean(skipna=True))\n",
    "    return df"
   ]
  },
  {
   "cell_type": "code",
   "execution_count": 41,
   "id": "a375de2f-fc70-4294-a3eb-854b35df8adc",
   "metadata": {
    "execution": {
     "iopub.execute_input": "2025-09-09T09:09:27.475839Z",
     "iopub.status.busy": "2025-09-09T09:09:27.474511Z",
     "iopub.status.idle": "2025-09-09T09:09:27.538465Z",
     "shell.execute_reply": "2025-09-09T09:09:27.536840Z",
     "shell.execute_reply.started": "2025-09-09T09:09:27.475726Z"
    }
   },
   "outputs": [],
   "source": [
    "merge_df = custom_fillna(merge_df)\n",
    "df = merge_df.copy()"
   ]
  },
  {
   "cell_type": "markdown",
   "id": "d7fbf28e-5ca5-4067-97cf-686c57ca0cc2",
   "metadata": {},
   "source": [
    "# Similarity"
   ]
  },
  {
   "cell_type": "markdown",
   "id": "d2df216c-1700-4841-a72d-938da82ac1a5",
   "metadata": {},
   "source": [
    "## Interval Metrics\n",
    "\n",
    "For two intervals $A = [a_{\\rm min}, a_{\\rm max}]$ and $B = [b_{\\rm min}, b_{\\rm max}]$:\n",
    "\n",
    "### 1. Intersection over Union (IoU)\n",
    "$$\n",
    "\\text{IoU}(A, B) = \\frac{|A \\cap B|}{|A \\cup B|}\n",
    "= \\frac{\\max(0, \\min(a_{\\rm max}, b_{\\rm max}) - \\max(a_{\\rm min}, b_{\\rm min}))}\n",
    "       {\\max(a_{\\rm max}, b_{\\rm max}) - \\min(a_{\\rm min}, b_{\\rm min})}\n",
    "$$\n",
    "\n",
    "- Fraction of the **combined span** that overlaps.\n",
    "- Symmetric: $\\text{IoU}(A,B) = \\text{IoU}(B,A)$\n",
    "- Range: 0 (no overlap) → 1 (perfect overlap)\n",
    "\n",
    "### 2. Overlap Ratio (Intersection over Smaller Interval)\n",
    "$$\n",
    "\\text{Overlap}(A, B) = \\frac{|A \\cap B|}{\\min(|A|, |B|)}\n",
    "= \\frac{\\max(0, \\min(a_{\\rm max}, b_{\\rm max}) - \\max(a_{\\rm min}, b_{\\rm min}))}\n",
    "       {\\min(a_{\\rm max}-a_{\\rm min}, b_{\\rm max}-b_{\\rm min})}\n",
    "$$\n",
    "\n",
    "- Fraction of the **smaller interval** that is covered by the overlap.\n",
    "- Symmetric: $\\text{Overlap}(A,B) = \\text{Overlap}(B,A)$\n",
    "- Range: 0 → 1, where 1 means the smaller interval is fully contained\n"
   ]
  },
  {
   "cell_type": "code",
   "execution_count": 42,
   "id": "67a38d24-331b-46b2-988a-c23fe72e40ce",
   "metadata": {
    "execution": {
     "iopub.execute_input": "2025-09-09T09:09:27.540923Z",
     "iopub.status.busy": "2025-09-09T09:09:27.540480Z",
     "iopub.status.idle": "2025-09-09T09:09:27.555622Z",
     "shell.execute_reply": "2025-09-09T09:09:27.553340Z",
     "shell.execute_reply.started": "2025-09-09T09:09:27.540885Z"
    }
   },
   "outputs": [],
   "source": [
    "# Compute similarity matrices\n",
    "def interval_matrix(mins, maxs, sim_method='iou'):\n",
    "\n",
    "    n, m = mins.shape\n",
    "    \n",
    "    mins_exp = mins[:, np.newaxis, :]  # shape (n,1,m)\n",
    "    maxs_exp = maxs[:, np.newaxis, :]  # shape (n,1,m)\n",
    "    \n",
    "    mins_pair = mins[np.newaxis, :, :]  # shape (1,n,m)\n",
    "    maxs_pair = maxs[np.newaxis, :, :]  # shape (1,n,m)\n",
    "    \n",
    "    # Compute intersection and union\n",
    "    intersection = np.maximum(0, np.minimum(maxs_exp, maxs_pair) - np.maximum(mins_exp, mins_pair))\n",
    "    \n",
    "    if sim_method == \"iou\":\n",
    "        union = np.maximum(maxs_exp, maxs_pair) - np.minimum(mins_exp, mins_pair)\n",
    "        iou = np.divide(intersection, union, out=np.zeros_like(intersection), where=union != 0)\n",
    "    elif sim_method == \"overlap\":\n",
    "        lengths = np.minimum(maxs_exp - mins_exp, maxs_pair - mins_pair)\n",
    "        iou = np.divide(intersection, lengths, out=np.zeros_like(intersection), where=lengths != 0)\n",
    "    else:\n",
    "        raise ValueError(\"sim_method must be 'iou' or 'overlap'\")\n",
    "    \n",
    "    # Aggregate across dimensions (average)\n",
    "    sims = np.nanmean(iou, axis=2)\n",
    "    \n",
    "    return sims    # Expand dimensions to (n, 1, m) and (1, n, m) to broadcast pairwise\n"
   ]
  },
  {
   "cell_type": "code",
   "execution_count": 43,
   "id": "148b74bc-6c6c-4bfb-ac33-07b878720b8e",
   "metadata": {
    "execution": {
     "iopub.execute_input": "2025-09-09T09:09:27.558730Z",
     "iopub.status.busy": "2025-09-09T09:09:27.557796Z",
     "iopub.status.idle": "2025-09-09T09:09:27.584788Z",
     "shell.execute_reply": "2025-09-09T09:09:27.582094Z",
     "shell.execute_reply.started": "2025-09-09T09:09:27.558673Z"
    }
   },
   "outputs": [],
   "source": [
    "def dim_similarity(df: pd.DataFrame, sim_method: str=\"iou\"):\n",
    "    dimension_cols = [\n",
    "        (\"thickness_min\", \"thickness_max\"),\n",
    "        (\"width_min\", \"width_max\"),\n",
    "        (\"length_min\", \"length_max\"),\n",
    "        (\"height_min\", \"height_max\"),\n",
    "        (\"weight_min\", \"weight_max\"),\n",
    "        (\"inner_diameter_min\", \"inner_diameter_max\"),\n",
    "        (\"outer_diameter_min\", \"outer_diameter_max\")\n",
    "    ]\n",
    "\n",
    "    existing_dims = []\n",
    "    for min_col, max_col in dimension_cols:\n",
    "        if min_col in df.columns:\n",
    "            if max_col is None or max_col not in df.columns:\n",
    "                max_col = min_col\n",
    "            df[min_col] = df[min_col].fillna(df[max_col])\n",
    "            df[max_col] = df[max_col].fillna(df[min_col])\n",
    "            existing_dims.append((min_col, max_col))\n",
    "            \n",
    "    dim_min = df[[c[0] for c in existing_dims]].to_numpy()\n",
    "    dim_max = df[[c[1] for c in existing_dims]].to_numpy()\n",
    "\n",
    "    dim_sims = interval_matrix(dim_min, dim_max, sim_method=sim_method)\n",
    "    # Remove self matches\n",
    "    np.fill_diagonal(dim_sims, 0) \n",
    "\n",
    "    return dim_sims"
   ]
  },
  {
   "cell_type": "code",
   "execution_count": 44,
   "id": "bf5a73a1-7ade-43a0-ab8d-ae2f54ab2b12",
   "metadata": {
    "execution": {
     "iopub.execute_input": "2025-09-09T09:09:27.588430Z",
     "iopub.status.busy": "2025-09-09T09:09:27.587005Z",
     "iopub.status.idle": "2025-09-09T09:09:27.611095Z",
     "shell.execute_reply": "2025-09-09T09:09:27.608805Z",
     "shell.execute_reply.started": "2025-09-09T09:09:27.588312Z"
    }
   },
   "outputs": [],
   "source": [
    "def cat_similarity(df, sim_method=\"partial\"):\n",
    "    categorical_cols = [\"coating\", \"finish\", \"form\", \"surface_type\"]\n",
    "    categorical_cols = [c for c in categorical_cols if c in df.columns]\n",
    "    cat_array = df[categorical_cols].to_numpy(dtype=object) if categorical_cols else None\n",
    "    cat_array = np.array([tuple(row) for row in cat_array])\n",
    "    cat_match = cat_array[:, None] == cat_array[None, :]\n",
    "    # Vectorized pairwise equality\n",
    "    if sim_method == \"partial\":\n",
    "        cat_sims = cat_match.mean(-1).astype(float)  # Mean of all categories that match\n",
    "    elif sim_method == \"exact\":\n",
    "        cat_sims = cat_match.all(-1).astype(int)  # All categories match\n",
    "    elif sim_method == \"jaccard\":\n",
    "        # Vectorized Jaccard for categorical tuples\n",
    "        # Convert to 2D one-hot encoding per column\n",
    "        # First, find unique values per column\n",
    "        n_rows, n_cols = cat_array.shape\n",
    "        encoded = []\n",
    "        for c in range(n_cols):\n",
    "            uniques, inv = np.unique(cat_array[:, c], return_inverse=True)\n",
    "            one_hot = np.zeros((n_rows, len(uniques)), dtype=bool)\n",
    "            one_hot[np.arange(n_rows), inv] = True\n",
    "            encoded.append(one_hot)\n",
    "        # Concatenate all columns\n",
    "        encoded = np.hstack(encoded)  # shape: (n_rows, total_unique_categories)\n",
    "        \n",
    "        # Compute pairwise intersection and union\n",
    "        intersection = np.dot(encoded, encoded.T)\n",
    "        row_sums = encoded.sum(axis=1)\n",
    "        union = row_sums[:, None] + row_sums[None, :] - intersection\n",
    "        \n",
    "        cat_sims = intersection / np.where(union == 0, 1, union)\n",
    "    else:\n",
    "        raise ValueError(f\"Similarity method {sim_method} is not supported!\")\n",
    "        \n",
    "    # Remove self matches\n",
    "    np.fill_diagonal(cat_sims, 0)\n",
    "\n",
    "    return cat_sims"
   ]
  },
  {
   "cell_type": "code",
   "execution_count": 45,
   "id": "55cc3261-b279-4835-b498-df9bd8691f2c",
   "metadata": {
    "execution": {
     "iopub.execute_input": "2025-09-09T09:09:27.614318Z",
     "iopub.status.busy": "2025-09-09T09:09:27.613419Z",
     "iopub.status.idle": "2025-09-09T09:09:27.634357Z",
     "shell.execute_reply": "2025-09-09T09:09:27.632086Z",
     "shell.execute_reply.started": "2025-09-09T09:09:27.614236Z"
    }
   },
   "outputs": [],
   "source": [
    "# # Another approach for grade similarity\n",
    "# def grade_sim_matrix(grades):\n",
    "#     n, m = grades.shape\n",
    "#     sims = np.zeros((n, n))\n",
    "#     for i in range(n):\n",
    "#         val1 = grades[i]\n",
    "#         val2 = grades\n",
    "#         mask = (~np.isnan(val1)) & (~np.isnan(val2))\n",
    "#         diff = np.abs(val1 - val2)\n",
    "#         max_val = np.maximum(val1, val2)\n",
    "#         sim = np.where(mask & (max_val != 0), 1 - diff / max_val, np.nan)\n",
    "#         sims[i] = np.nanmean(sim, axis=1)\n",
    "#     return np.nan_to_num(sims, nan=0.0)\n",
    "\n",
    "# grade_sims = grade_sim_matrix(grade_array) if grade_array is not None else np.zeros((len(df), len(df)))"
   ]
  },
  {
   "cell_type": "code",
   "execution_count": 46,
   "id": "b4e93812-1c1e-4062-9b50-f1af87385f0b",
   "metadata": {
    "execution": {
     "iopub.execute_input": "2025-09-09T09:09:27.638963Z",
     "iopub.status.busy": "2025-09-09T09:09:27.637760Z",
     "iopub.status.idle": "2025-09-09T09:09:27.659357Z",
     "shell.execute_reply": "2025-09-09T09:09:27.656565Z",
     "shell.execute_reply.started": "2025-09-09T09:09:27.638825Z"
    }
   },
   "outputs": [],
   "source": [
    "def cosine_sim_matrix(grades):\n",
    "    \n",
    "    n, m = grades.shape\n",
    "    sims = np.zeros((n, n))\n",
    "    \n",
    "    for i in range(n):\n",
    "        row_i = grades[i]\n",
    "        valid_mask = ~np.isnan(row_i)  # which features are valid for this row\n",
    "        vecs = grades[:, valid_mask]   # pick only valid features\n",
    "        row_i_vec = row_i[valid_mask]\n",
    "        \n",
    "        # Compute norms\n",
    "        norms = np.linalg.norm(vecs, axis=1) * np.linalg.norm(row_i_vec)\n",
    "        # Avoid division by zero\n",
    "        norms[norms == 0] = 1e-10\n",
    "        \n",
    "        # Compute cosine similarity\n",
    "        sims[i] = np.dot(vecs, row_i_vec) / norms\n",
    "    \n",
    "    return sims"
   ]
  },
  {
   "cell_type": "code",
   "execution_count": 47,
   "id": "dce1f452-636e-42db-abea-0ca1b46a4207",
   "metadata": {
    "execution": {
     "iopub.execute_input": "2025-09-09T09:09:27.663028Z",
     "iopub.status.busy": "2025-09-09T09:09:27.661946Z",
     "iopub.status.idle": "2025-09-09T09:09:27.683687Z",
     "shell.execute_reply": "2025-09-09T09:09:27.681431Z",
     "shell.execute_reply.started": "2025-09-09T09:09:27.662936Z"
    }
   },
   "outputs": [],
   "source": [
    "def grade_similarity(df, sim_method=\"cosine\"):\n",
    "    numeric_range_cols = [\n",
    "        (\"yield_strength_min\", \"yield_strength_max\"),\n",
    "        (\"tensile_strength_min\", \"tensile_strength_max\"),\n",
    "        (\"elongation_min\", \"elongation_max\"),\n",
    "        (\"carbon_min\", \"carbon_max\"), \n",
    "        (\"manganese_min\", \"manganese_max\"),\n",
    "        (\"silicon_min\", \"silicon_max\"), \n",
    "        (\"sulfur_min\", \"sulfur_max\"),\n",
    "        (\"phosphorus_min\", \"phosphorus_max\"), \n",
    "        (\"aluminum_min\", \"aluminum_max\")\n",
    "    ]\n",
    "\n",
    "    mid_cols = []\n",
    "    for min_col, max_col in numeric_range_cols:\n",
    "        if min_col in df.columns and max_col in df.columns:\n",
    "            mid_col = min_col.replace(\"_min\", \"_mid\")\n",
    "            df[mid_col] = df[[min_col, max_col]].mean(axis=1, skipna=True)\n",
    "            mid_cols.append(mid_col)\n",
    "    \n",
    "    grade_array = df[mid_cols].to_numpy(dtype=float) if mid_cols else None\n",
    "\n",
    "    similarity_func = cosine_sim_matrix\n",
    "    if sim_method == \"cosine\":\n",
    "        similarity_func = cosine_sim_matrix\n",
    "    else:\n",
    "        raise ValueError(f\"Similarity method {sim_method} is not supported!\")\n",
    "    \n",
    "    grade_sims = similarity_func(grade_array) if grade_array is not None else np.zeros((len(df), len(df)))\n",
    "    np.fill_diagonal(grade_sims, 0)\n",
    "    return grade_sims"
   ]
  },
  {
   "cell_type": "code",
   "execution_count": 48,
   "id": "1e595663-2b45-4ea7-bb68-96d9f169fbd3",
   "metadata": {
    "execution": {
     "iopub.execute_input": "2025-09-09T09:09:27.688192Z",
     "iopub.status.busy": "2025-09-09T09:09:27.686593Z",
     "iopub.status.idle": "2025-09-09T09:09:27.708690Z",
     "shell.execute_reply": "2025-09-09T09:09:27.705505Z",
     "shell.execute_reply.started": "2025-09-09T09:09:27.688087Z"
    }
   },
   "outputs": [],
   "source": [
    "def aggregate_sim_score(\n",
    "    df: pd.DataFrame,\n",
    "    w_dim: float = 0.3,\n",
    "    w_cat: float = 0.3,\n",
    "    w_grade: float = 0.4,\n",
    "    dimensional_method: str = \"iou\",\n",
    "    categorical_method: str = \"partial\",\n",
    "    grade_method: str = \"cosine\",\n",
    ") -> np.array:\n",
    "    dim_sims = dim_similarity(df, sim_method=dimensional_method)\n",
    "    cat_sims = cat_similarity(df, sim_method=categorical_method)\n",
    "    grade_sims = grade_similarity(df, sim_method=grade_method)\n",
    "    aggregate_sims = w_dim * dim_sims + w_cat * cat_sims + w_grade * grade_sims\n",
    "    # np.fill_diagonal(aggregate_sims, 0)\n",
    "    np.fill_diagonal(aggregate_sims, 0)\n",
    "    return aggregate_sims\n"
   ]
  },
  {
   "cell_type": "code",
   "execution_count": 49,
   "id": "07735178-7209-4f83-b9e9-f8eb8915308d",
   "metadata": {
    "execution": {
     "iopub.execute_input": "2025-09-09T09:09:27.712671Z",
     "iopub.status.busy": "2025-09-09T09:09:27.711259Z",
     "iopub.status.idle": "2025-09-09T09:09:27.731757Z",
     "shell.execute_reply": "2025-09-09T09:09:27.729081Z",
     "shell.execute_reply.started": "2025-09-09T09:09:27.712599Z"
    }
   },
   "outputs": [],
   "source": [
    "def generate_top_k(\n",
    "    df: pd.DataFrame,\n",
    "    w_dim: float = 0.3,\n",
    "    w_cat: float = 0.3,\n",
    "    w_grade: float = 0.4,\n",
    "    top_k: float = 3,\n",
    "    dimensional_method: str = \"iou\",\n",
    "    categorical_method: str = \"partial\",\n",
    "    grade_method: str = \"cosine\",\n",
    ") -> pd.DataFrame:\n",
    "    records = []\n",
    "    aggregate_sims = aggregate_sim_score(\n",
    "        df,\n",
    "        w_dim,\n",
    "        w_cat,\n",
    "        w_grade,\n",
    "        dimensional_method=dimensional_method,\n",
    "        categorical_method=categorical_method,\n",
    "        grade_method=grade_method,\n",
    "    )\n",
    "    for i, row in enumerate(aggregate_sims):\n",
    "        top_idx = np.argsort(row)[-top_k:][::-1]  # best → worst\n",
    "        for j in top_idx:\n",
    "            records.append(\n",
    "                {\n",
    "                    \"rfq_id\": df.loc[i, \"id\"],\n",
    "                    \"match_id\": df.loc[j, \"id\"],\n",
    "                    \"similarity_score\": float(row[j]),  # force float, no NaN\n",
    "                }\n",
    "            )\n",
    "\n",
    "    similarity_df = pd.DataFrame(records)\n",
    "\n",
    "    return similarity_df\n"
   ]
  },
  {
   "cell_type": "code",
   "execution_count": 50,
   "id": "26f54e67-9169-4910-b1de-aee5e53e8e9c",
   "metadata": {
    "execution": {
     "iopub.execute_input": "2025-09-09T09:09:27.736029Z",
     "iopub.status.busy": "2025-09-09T09:09:27.735299Z",
     "iopub.status.idle": "2025-09-09T09:09:28.846653Z",
     "shell.execute_reply": "2025-09-09T09:09:28.845293Z",
     "shell.execute_reply.started": "2025-09-09T09:09:27.735969Z"
    }
   },
   "outputs": [],
   "source": [
    "similarity_df = generate_top_k(df, w_dim=0.3, w_cat=0.3, w_grade=0.4)"
   ]
  },
  {
   "cell_type": "code",
   "execution_count": 51,
   "id": "d3e32074-9c44-43ea-ada2-380a2aafec55",
   "metadata": {
    "execution": {
     "iopub.execute_input": "2025-09-09T09:09:28.848164Z",
     "iopub.status.busy": "2025-09-09T09:09:28.847772Z",
     "iopub.status.idle": "2025-09-09T09:09:28.889108Z",
     "shell.execute_reply": "2025-09-09T09:09:28.887577Z",
     "shell.execute_reply.started": "2025-09-09T09:09:28.848127Z"
    }
   },
   "outputs": [],
   "source": [
    "similarity_df.to_csv(\"../resources/export/top3.csv\", index=False)"
   ]
  },
  {
   "cell_type": "code",
   "execution_count": 52,
   "id": "d5a97990-f9a7-4cfa-9990-ed2af92ce5df",
   "metadata": {
    "execution": {
     "iopub.execute_input": "2025-09-09T09:09:28.890846Z",
     "iopub.status.busy": "2025-09-09T09:09:28.890451Z",
     "iopub.status.idle": "2025-09-09T09:09:28.914507Z",
     "shell.execute_reply": "2025-09-09T09:09:28.912755Z",
     "shell.execute_reply.started": "2025-09-09T09:09:28.890809Z"
    }
   },
   "outputs": [
    {
     "data": {
      "text/html": [
       "<div>\n",
       "<style scoped>\n",
       "    .dataframe tbody tr th:only-of-type {\n",
       "        vertical-align: middle;\n",
       "    }\n",
       "\n",
       "    .dataframe tbody tr th {\n",
       "        vertical-align: top;\n",
       "    }\n",
       "\n",
       "    .dataframe thead th {\n",
       "        text-align: right;\n",
       "    }\n",
       "</style>\n",
       "<table border=\"1\" class=\"dataframe\">\n",
       "  <thead>\n",
       "    <tr style=\"text-align: right;\">\n",
       "      <th></th>\n",
       "      <th>rfq_id</th>\n",
       "      <th>match_id</th>\n",
       "      <th>similarity_score</th>\n",
       "    </tr>\n",
       "  </thead>\n",
       "  <tbody>\n",
       "    <tr>\n",
       "      <th>0</th>\n",
       "      <td>8aff426d-b8c0-43aa-ad26-835ef4de6129</td>\n",
       "      <td>6b506c00-8ca5-4f8c-b3b1-2e94eb1ca16f</td>\n",
       "      <td>0.779222</td>\n",
       "    </tr>\n",
       "    <tr>\n",
       "      <th>1</th>\n",
       "      <td>8aff426d-b8c0-43aa-ad26-835ef4de6129</td>\n",
       "      <td>2624655e-ea07-468a-8da8-2e39c9d1e7f0</td>\n",
       "      <td>0.769451</td>\n",
       "    </tr>\n",
       "    <tr>\n",
       "      <th>2</th>\n",
       "      <td>8aff426d-b8c0-43aa-ad26-835ef4de6129</td>\n",
       "      <td>295e4030-78b4-46a6-936f-5cc18c97d642</td>\n",
       "      <td>0.769351</td>\n",
       "    </tr>\n",
       "    <tr>\n",
       "      <th>3</th>\n",
       "      <td>37e624be-b125-464f-85b6-1838530193ef</td>\n",
       "      <td>a3f38767-02ae-4990-be18-35ca819684a7</td>\n",
       "      <td>0.650000</td>\n",
       "    </tr>\n",
       "    <tr>\n",
       "      <th>4</th>\n",
       "      <td>37e624be-b125-464f-85b6-1838530193ef</td>\n",
       "      <td>56c75e72-50ae-4e29-aea4-f6394e1d986b</td>\n",
       "      <td>0.650000</td>\n",
       "    </tr>\n",
       "    <tr>\n",
       "      <th>...</th>\n",
       "      <td>...</td>\n",
       "      <td>...</td>\n",
       "      <td>...</td>\n",
       "    </tr>\n",
       "    <tr>\n",
       "      <th>2995</th>\n",
       "      <td>90b02a62-3da9-4648-948c-52627d086a50</td>\n",
       "      <td>a462a4cb-bbaa-4417-b876-4b8606c6f8db</td>\n",
       "      <td>0.772683</td>\n",
       "    </tr>\n",
       "    <tr>\n",
       "      <th>2996</th>\n",
       "      <td>90b02a62-3da9-4648-948c-52627d086a50</td>\n",
       "      <td>ee5c62d7-b0f9-4818-8698-425ffdcdb11a</td>\n",
       "      <td>0.771831</td>\n",
       "    </tr>\n",
       "    <tr>\n",
       "      <th>2997</th>\n",
       "      <td>26ea35b5-2ccf-4fdc-884f-50a7c3a000b8</td>\n",
       "      <td>2c4f5100-fe7a-4ac2-8be5-de8348728af0</td>\n",
       "      <td>0.790812</td>\n",
       "    </tr>\n",
       "    <tr>\n",
       "      <th>2998</th>\n",
       "      <td>26ea35b5-2ccf-4fdc-884f-50a7c3a000b8</td>\n",
       "      <td>3b606200-2d2b-46cb-9d7e-146e9d5f564a</td>\n",
       "      <td>0.773589</td>\n",
       "    </tr>\n",
       "    <tr>\n",
       "      <th>2999</th>\n",
       "      <td>26ea35b5-2ccf-4fdc-884f-50a7c3a000b8</td>\n",
       "      <td>0222eb2e-ceb8-4967-9796-e220209c6b00</td>\n",
       "      <td>0.771265</td>\n",
       "    </tr>\n",
       "  </tbody>\n",
       "</table>\n",
       "<p>3000 rows × 3 columns</p>\n",
       "</div>"
      ],
      "text/plain": [
       "                                    rfq_id  \\\n",
       "0     8aff426d-b8c0-43aa-ad26-835ef4de6129   \n",
       "1     8aff426d-b8c0-43aa-ad26-835ef4de6129   \n",
       "2     8aff426d-b8c0-43aa-ad26-835ef4de6129   \n",
       "3     37e624be-b125-464f-85b6-1838530193ef   \n",
       "4     37e624be-b125-464f-85b6-1838530193ef   \n",
       "...                                    ...   \n",
       "2995  90b02a62-3da9-4648-948c-52627d086a50   \n",
       "2996  90b02a62-3da9-4648-948c-52627d086a50   \n",
       "2997  26ea35b5-2ccf-4fdc-884f-50a7c3a000b8   \n",
       "2998  26ea35b5-2ccf-4fdc-884f-50a7c3a000b8   \n",
       "2999  26ea35b5-2ccf-4fdc-884f-50a7c3a000b8   \n",
       "\n",
       "                                  match_id  similarity_score  \n",
       "0     6b506c00-8ca5-4f8c-b3b1-2e94eb1ca16f          0.779222  \n",
       "1     2624655e-ea07-468a-8da8-2e39c9d1e7f0          0.769451  \n",
       "2     295e4030-78b4-46a6-936f-5cc18c97d642          0.769351  \n",
       "3     a3f38767-02ae-4990-be18-35ca819684a7          0.650000  \n",
       "4     56c75e72-50ae-4e29-aea4-f6394e1d986b          0.650000  \n",
       "...                                    ...               ...  \n",
       "2995  a462a4cb-bbaa-4417-b876-4b8606c6f8db          0.772683  \n",
       "2996  ee5c62d7-b0f9-4818-8698-425ffdcdb11a          0.771831  \n",
       "2997  2c4f5100-fe7a-4ac2-8be5-de8348728af0          0.790812  \n",
       "2998  3b606200-2d2b-46cb-9d7e-146e9d5f564a          0.773589  \n",
       "2999  0222eb2e-ceb8-4967-9796-e220209c6b00          0.771265  \n",
       "\n",
       "[3000 rows x 3 columns]"
      ]
     },
     "execution_count": 52,
     "metadata": {},
     "output_type": "execute_result"
    }
   ],
   "source": [
    "similarity_df"
   ]
  },
  {
   "cell_type": "markdown",
   "id": "e29d02eb-1e05-4669-8d39-05631b1e27c4",
   "metadata": {},
   "source": [
    "# Ablation analysis"
   ]
  },
  {
   "cell_type": "code",
   "execution_count": 53,
   "id": "899c71a7-a184-4815-9c4a-a241685c9268",
   "metadata": {
    "execution": {
     "iopub.execute_input": "2025-09-09T09:09:28.917335Z",
     "iopub.status.busy": "2025-09-09T09:09:28.916677Z",
     "iopub.status.idle": "2025-09-09T09:09:54.158679Z",
     "shell.execute_reply": "2025-09-09T09:09:54.157154Z",
     "shell.execute_reply.started": "2025-09-09T09:09:28.917239Z"
    }
   },
   "outputs": [
    {
     "name": "stdout",
     "output_type": "stream",
     "text": [
      "dims_only-iou-partial-cosine\n",
      "Running with: Weight=dims_only dimensional=iou, categorical=partial, grade=cosine\n",
      "dims_only-iou-exact-cosine\n",
      "Running with: Weight=dims_only dimensional=iou, categorical=exact, grade=cosine\n",
      "dims_only-iou-jaccard-cosine\n",
      "Running with: Weight=dims_only dimensional=iou, categorical=jaccard, grade=cosine\n",
      "dims_only-overlap-partial-cosine\n",
      "Running with: Weight=dims_only dimensional=overlap, categorical=partial, grade=cosine\n",
      "dims_only-overlap-exact-cosine\n",
      "Running with: Weight=dims_only dimensional=overlap, categorical=exact, grade=cosine\n",
      "dims_only-overlap-jaccard-cosine\n",
      "Running with: Weight=dims_only dimensional=overlap, categorical=jaccard, grade=cosine\n",
      "cats_only-iou-partial-cosine\n",
      "Running with: Weight=cats_only dimensional=iou, categorical=partial, grade=cosine\n",
      "cats_only-iou-exact-cosine\n",
      "Running with: Weight=cats_only dimensional=iou, categorical=exact, grade=cosine\n",
      "cats_only-iou-jaccard-cosine\n",
      "Running with: Weight=cats_only dimensional=iou, categorical=jaccard, grade=cosine\n",
      "cats_only-overlap-partial-cosine\n",
      "Running with: Weight=cats_only dimensional=overlap, categorical=partial, grade=cosine\n",
      "cats_only-overlap-exact-cosine\n",
      "Running with: Weight=cats_only dimensional=overlap, categorical=exact, grade=cosine\n",
      "cats_only-overlap-jaccard-cosine\n",
      "Running with: Weight=cats_only dimensional=overlap, categorical=jaccard, grade=cosine\n",
      "grades_only-iou-partial-cosine\n",
      "Running with: Weight=grades_only dimensional=iou, categorical=partial, grade=cosine\n",
      "grades_only-iou-exact-cosine\n",
      "Running with: Weight=grades_only dimensional=iou, categorical=exact, grade=cosine\n",
      "grades_only-iou-jaccard-cosine\n",
      "Running with: Weight=grades_only dimensional=iou, categorical=jaccard, grade=cosine\n",
      "grades_only-overlap-partial-cosine\n",
      "Running with: Weight=grades_only dimensional=overlap, categorical=partial, grade=cosine\n",
      "grades_only-overlap-exact-cosine\n",
      "Running with: Weight=grades_only dimensional=overlap, categorical=exact, grade=cosine\n",
      "grades_only-overlap-jaccard-cosine\n",
      "Running with: Weight=grades_only dimensional=overlap, categorical=jaccard, grade=cosine\n",
      "full_mix-iou-partial-cosine\n",
      "Running with: Weight=full_mix dimensional=iou, categorical=partial, grade=cosine\n",
      "full_mix-iou-exact-cosine\n",
      "Running with: Weight=full_mix dimensional=iou, categorical=exact, grade=cosine\n",
      "full_mix-iou-jaccard-cosine\n",
      "Running with: Weight=full_mix dimensional=iou, categorical=jaccard, grade=cosine\n",
      "full_mix-overlap-partial-cosine\n",
      "Running with: Weight=full_mix dimensional=overlap, categorical=partial, grade=cosine\n",
      "full_mix-overlap-exact-cosine\n",
      "Running with: Weight=full_mix dimensional=overlap, categorical=exact, grade=cosine\n",
      "full_mix-overlap-jaccard-cosine\n",
      "Running with: Weight=full_mix dimensional=overlap, categorical=jaccard, grade=cosine\n",
      "Finished\n",
      "24\n",
      "{'dims_only-iou-partial-cosine':                                     rfq_id  \\\n",
      "0     8aff426d-b8c0-43aa-ad26-835ef4de6129   \n",
      "1     8aff426d-b8c0-43aa-ad26-835ef4de6129   \n",
      "2     8aff426d-b8c0-43aa-ad26-835ef4de6129   \n",
      "3     37e624be-b125-464f-85b6-1838530193ef   \n",
      "4     37e624be-b125-464f-85b6-1838530193ef   \n",
      "...                                    ...   \n",
      "2995  90b02a62-3da9-4648-948c-52627d086a50   \n",
      "2996  90b02a62-3da9-4648-948c-52627d086a50   \n",
      "2997  26ea35b5-2ccf-4fdc-884f-50a7c3a000b8   \n",
      "2998  26ea35b5-2ccf-4fdc-884f-50a7c3a000b8   \n",
      "2999  26ea35b5-2ccf-4fdc-884f-50a7c3a000b8   \n",
      "\n",
      "                                  match_id  similarity_score  \n",
      "0     ee5c62d7-b0f9-4818-8698-425ffdcdb11a          0.333333  \n",
      "1     51edaf19-20d9-4df2-90aa-246c478b3532          0.333333  \n",
      "2     1008838b-bf71-442f-a6e8-3de016146f89          0.333333  \n",
      "3     b8257184-6307-46ab-b06e-d979336d1263          0.333333  \n",
      "4     973d80a1-f1b8-461b-bb25-7d8852968b1c          0.333333  \n",
      "...                                    ...               ...  \n",
      "2995  a462a4cb-bbaa-4417-b876-4b8606c6f8db          0.500000  \n",
      "2996  9195d6ad-120f-4ae2-8e69-462ca56c3fc0          0.333509  \n",
      "2997  0f632107-6ad6-4b1b-9ad2-becc33bf0a50          0.333333  \n",
      "2998  3c24e625-9798-4fd5-a554-1ab812d18abe          0.333333  \n",
      "2999  294f8dc9-c7a3-4507-95d5-1e4d3c983ab3          0.333333  \n",
      "\n",
      "[3000 rows x 3 columns], 'dims_only-iou-exact-cosine':                                     rfq_id  \\\n",
      "0     8aff426d-b8c0-43aa-ad26-835ef4de6129   \n",
      "1     8aff426d-b8c0-43aa-ad26-835ef4de6129   \n",
      "2     8aff426d-b8c0-43aa-ad26-835ef4de6129   \n",
      "3     37e624be-b125-464f-85b6-1838530193ef   \n",
      "4     37e624be-b125-464f-85b6-1838530193ef   \n",
      "...                                    ...   \n",
      "2995  90b02a62-3da9-4648-948c-52627d086a50   \n",
      "2996  90b02a62-3da9-4648-948c-52627d086a50   \n",
      "2997  26ea35b5-2ccf-4fdc-884f-50a7c3a000b8   \n",
      "2998  26ea35b5-2ccf-4fdc-884f-50a7c3a000b8   \n",
      "2999  26ea35b5-2ccf-4fdc-884f-50a7c3a000b8   \n",
      "\n",
      "                                  match_id  similarity_score  \n",
      "0     ee5c62d7-b0f9-4818-8698-425ffdcdb11a          0.333333  \n",
      "1     51edaf19-20d9-4df2-90aa-246c478b3532          0.333333  \n",
      "2     1008838b-bf71-442f-a6e8-3de016146f89          0.333333  \n",
      "3     b8257184-6307-46ab-b06e-d979336d1263          0.333333  \n",
      "4     973d80a1-f1b8-461b-bb25-7d8852968b1c          0.333333  \n",
      "...                                    ...               ...  \n",
      "2995  a462a4cb-bbaa-4417-b876-4b8606c6f8db          0.500000  \n",
      "2996  9195d6ad-120f-4ae2-8e69-462ca56c3fc0          0.333509  \n",
      "2997  0f632107-6ad6-4b1b-9ad2-becc33bf0a50          0.333333  \n",
      "2998  3c24e625-9798-4fd5-a554-1ab812d18abe          0.333333  \n",
      "2999  294f8dc9-c7a3-4507-95d5-1e4d3c983ab3          0.333333  \n",
      "\n",
      "[3000 rows x 3 columns], 'dims_only-iou-jaccard-cosine':                                     rfq_id  \\\n",
      "0     8aff426d-b8c0-43aa-ad26-835ef4de6129   \n",
      "1     8aff426d-b8c0-43aa-ad26-835ef4de6129   \n",
      "2     8aff426d-b8c0-43aa-ad26-835ef4de6129   \n",
      "3     37e624be-b125-464f-85b6-1838530193ef   \n",
      "4     37e624be-b125-464f-85b6-1838530193ef   \n",
      "...                                    ...   \n",
      "2995  90b02a62-3da9-4648-948c-52627d086a50   \n",
      "2996  90b02a62-3da9-4648-948c-52627d086a50   \n",
      "2997  26ea35b5-2ccf-4fdc-884f-50a7c3a000b8   \n",
      "2998  26ea35b5-2ccf-4fdc-884f-50a7c3a000b8   \n",
      "2999  26ea35b5-2ccf-4fdc-884f-50a7c3a000b8   \n",
      "\n",
      "                                  match_id  similarity_score  \n",
      "0     ee5c62d7-b0f9-4818-8698-425ffdcdb11a          0.333333  \n",
      "1     51edaf19-20d9-4df2-90aa-246c478b3532          0.333333  \n",
      "2     1008838b-bf71-442f-a6e8-3de016146f89          0.333333  \n",
      "3     b8257184-6307-46ab-b06e-d979336d1263          0.333333  \n",
      "4     973d80a1-f1b8-461b-bb25-7d8852968b1c          0.333333  \n",
      "...                                    ...               ...  \n",
      "2995  a462a4cb-bbaa-4417-b876-4b8606c6f8db          0.500000  \n",
      "2996  9195d6ad-120f-4ae2-8e69-462ca56c3fc0          0.333509  \n",
      "2997  0f632107-6ad6-4b1b-9ad2-becc33bf0a50          0.333333  \n",
      "2998  3c24e625-9798-4fd5-a554-1ab812d18abe          0.333333  \n",
      "2999  294f8dc9-c7a3-4507-95d5-1e4d3c983ab3          0.333333  \n",
      "\n",
      "[3000 rows x 3 columns], 'dims_only-overlap-partial-cosine':                                     rfq_id  \\\n",
      "0     8aff426d-b8c0-43aa-ad26-835ef4de6129   \n",
      "1     8aff426d-b8c0-43aa-ad26-835ef4de6129   \n",
      "2     8aff426d-b8c0-43aa-ad26-835ef4de6129   \n",
      "3     37e624be-b125-464f-85b6-1838530193ef   \n",
      "4     37e624be-b125-464f-85b6-1838530193ef   \n",
      "...                                    ...   \n",
      "2995  90b02a62-3da9-4648-948c-52627d086a50   \n",
      "2996  90b02a62-3da9-4648-948c-52627d086a50   \n",
      "2997  26ea35b5-2ccf-4fdc-884f-50a7c3a000b8   \n",
      "2998  26ea35b5-2ccf-4fdc-884f-50a7c3a000b8   \n",
      "2999  26ea35b5-2ccf-4fdc-884f-50a7c3a000b8   \n",
      "\n",
      "                                  match_id  similarity_score  \n",
      "0     b8257184-6307-46ab-b06e-d979336d1263          0.333333  \n",
      "1     26ea35b5-2ccf-4fdc-884f-50a7c3a000b8          0.333333  \n",
      "2     90b02a62-3da9-4648-948c-52627d086a50          0.333333  \n",
      "3     b8257184-6307-46ab-b06e-d979336d1263          0.333333  \n",
      "4     973d80a1-f1b8-461b-bb25-7d8852968b1c          0.333333  \n",
      "...                                    ...               ...  \n",
      "2995  9354b8e1-178a-42bf-b4ef-4ce2e4492d5f          0.500000  \n",
      "2996  6fe4647f-8c06-48d0-8ea3-15d24e7315b7          0.500000  \n",
      "2997  8aff426d-b8c0-43aa-ad26-835ef4de6129          0.333333  \n",
      "2998  b8257184-6307-46ab-b06e-d979336d1263          0.333333  \n",
      "2999  90b02a62-3da9-4648-948c-52627d086a50          0.333333  \n",
      "\n",
      "[3000 rows x 3 columns], 'dims_only-overlap-exact-cosine':                                     rfq_id  \\\n",
      "0     8aff426d-b8c0-43aa-ad26-835ef4de6129   \n",
      "1     8aff426d-b8c0-43aa-ad26-835ef4de6129   \n",
      "2     8aff426d-b8c0-43aa-ad26-835ef4de6129   \n",
      "3     37e624be-b125-464f-85b6-1838530193ef   \n",
      "4     37e624be-b125-464f-85b6-1838530193ef   \n",
      "...                                    ...   \n",
      "2995  90b02a62-3da9-4648-948c-52627d086a50   \n",
      "2996  90b02a62-3da9-4648-948c-52627d086a50   \n",
      "2997  26ea35b5-2ccf-4fdc-884f-50a7c3a000b8   \n",
      "2998  26ea35b5-2ccf-4fdc-884f-50a7c3a000b8   \n",
      "2999  26ea35b5-2ccf-4fdc-884f-50a7c3a000b8   \n",
      "\n",
      "                                  match_id  similarity_score  \n",
      "0     b8257184-6307-46ab-b06e-d979336d1263          0.333333  \n",
      "1     26ea35b5-2ccf-4fdc-884f-50a7c3a000b8          0.333333  \n",
      "2     90b02a62-3da9-4648-948c-52627d086a50          0.333333  \n",
      "3     b8257184-6307-46ab-b06e-d979336d1263          0.333333  \n",
      "4     973d80a1-f1b8-461b-bb25-7d8852968b1c          0.333333  \n",
      "...                                    ...               ...  \n",
      "2995  9354b8e1-178a-42bf-b4ef-4ce2e4492d5f          0.500000  \n",
      "2996  6fe4647f-8c06-48d0-8ea3-15d24e7315b7          0.500000  \n",
      "2997  8aff426d-b8c0-43aa-ad26-835ef4de6129          0.333333  \n",
      "2998  b8257184-6307-46ab-b06e-d979336d1263          0.333333  \n",
      "2999  90b02a62-3da9-4648-948c-52627d086a50          0.333333  \n",
      "\n",
      "[3000 rows x 3 columns], 'dims_only-overlap-jaccard-cosine':                                     rfq_id  \\\n",
      "0     8aff426d-b8c0-43aa-ad26-835ef4de6129   \n",
      "1     8aff426d-b8c0-43aa-ad26-835ef4de6129   \n",
      "2     8aff426d-b8c0-43aa-ad26-835ef4de6129   \n",
      "3     37e624be-b125-464f-85b6-1838530193ef   \n",
      "4     37e624be-b125-464f-85b6-1838530193ef   \n",
      "...                                    ...   \n",
      "2995  90b02a62-3da9-4648-948c-52627d086a50   \n",
      "2996  90b02a62-3da9-4648-948c-52627d086a50   \n",
      "2997  26ea35b5-2ccf-4fdc-884f-50a7c3a000b8   \n",
      "2998  26ea35b5-2ccf-4fdc-884f-50a7c3a000b8   \n",
      "2999  26ea35b5-2ccf-4fdc-884f-50a7c3a000b8   \n",
      "\n",
      "                                  match_id  similarity_score  \n",
      "0     b8257184-6307-46ab-b06e-d979336d1263          0.333333  \n",
      "1     26ea35b5-2ccf-4fdc-884f-50a7c3a000b8          0.333333  \n",
      "2     90b02a62-3da9-4648-948c-52627d086a50          0.333333  \n",
      "3     b8257184-6307-46ab-b06e-d979336d1263          0.333333  \n",
      "4     973d80a1-f1b8-461b-bb25-7d8852968b1c          0.333333  \n",
      "...                                    ...               ...  \n",
      "2995  9354b8e1-178a-42bf-b4ef-4ce2e4492d5f          0.500000  \n",
      "2996  6fe4647f-8c06-48d0-8ea3-15d24e7315b7          0.500000  \n",
      "2997  8aff426d-b8c0-43aa-ad26-835ef4de6129          0.333333  \n",
      "2998  b8257184-6307-46ab-b06e-d979336d1263          0.333333  \n",
      "2999  90b02a62-3da9-4648-948c-52627d086a50          0.333333  \n",
      "\n",
      "[3000 rows x 3 columns], 'cats_only-iou-partial-cosine':                                     rfq_id  \\\n",
      "0     8aff426d-b8c0-43aa-ad26-835ef4de6129   \n",
      "1     8aff426d-b8c0-43aa-ad26-835ef4de6129   \n",
      "2     8aff426d-b8c0-43aa-ad26-835ef4de6129   \n",
      "3     37e624be-b125-464f-85b6-1838530193ef   \n",
      "4     37e624be-b125-464f-85b6-1838530193ef   \n",
      "...                                    ...   \n",
      "2995  90b02a62-3da9-4648-948c-52627d086a50   \n",
      "2996  90b02a62-3da9-4648-948c-52627d086a50   \n",
      "2997  26ea35b5-2ccf-4fdc-884f-50a7c3a000b8   \n",
      "2998  26ea35b5-2ccf-4fdc-884f-50a7c3a000b8   \n",
      "2999  26ea35b5-2ccf-4fdc-884f-50a7c3a000b8   \n",
      "\n",
      "                                  match_id  similarity_score  \n",
      "0     87ba0db6-dcd7-419a-b043-d32652eb4c05               1.0  \n",
      "1     52f74dd3-7131-48a6-8de2-a4f2b4b2a4ec               1.0  \n",
      "2     3b00dedd-fcb8-4d71-9ffb-40b92b6cdfe7               1.0  \n",
      "3     eb12b319-97e9-4acf-9991-d051e38d0210               0.5  \n",
      "4     1c405089-f867-4741-ac84-58870ab6c7c7               0.5  \n",
      "...                                    ...               ...  \n",
      "2995  ec98a66f-6cc0-4a39-80d8-5b525b428ec7               1.0  \n",
      "2996  cadc217f-b8a2-4df4-b389-886fb43265c5               1.0  \n",
      "2997  8453ab51-f78f-4b28-93a5-248068505454               1.0  \n",
      "2998  ec98a66f-6cc0-4a39-80d8-5b525b428ec7               1.0  \n",
      "2999  cadc217f-b8a2-4df4-b389-886fb43265c5               1.0  \n",
      "\n",
      "[3000 rows x 3 columns], 'cats_only-iou-exact-cosine':                                     rfq_id  \\\n",
      "0     8aff426d-b8c0-43aa-ad26-835ef4de6129   \n",
      "1     8aff426d-b8c0-43aa-ad26-835ef4de6129   \n",
      "2     8aff426d-b8c0-43aa-ad26-835ef4de6129   \n",
      "3     37e624be-b125-464f-85b6-1838530193ef   \n",
      "4     37e624be-b125-464f-85b6-1838530193ef   \n",
      "...                                    ...   \n",
      "2995  90b02a62-3da9-4648-948c-52627d086a50   \n",
      "2996  90b02a62-3da9-4648-948c-52627d086a50   \n",
      "2997  26ea35b5-2ccf-4fdc-884f-50a7c3a000b8   \n",
      "2998  26ea35b5-2ccf-4fdc-884f-50a7c3a000b8   \n",
      "2999  26ea35b5-2ccf-4fdc-884f-50a7c3a000b8   \n",
      "\n",
      "                                  match_id  similarity_score  \n",
      "0     1b636cb7-9acc-4872-9c4d-e99af92409b7               1.0  \n",
      "1     a46d8ecb-c4de-45b2-b518-693d0f065a68               1.0  \n",
      "2     90746b8f-f625-49a8-a957-a482c9de1816               1.0  \n",
      "3     8aff426d-b8c0-43aa-ad26-835ef4de6129               0.0  \n",
      "4     26ea35b5-2ccf-4fdc-884f-50a7c3a000b8               0.0  \n",
      "...                                    ...               ...  \n",
      "2995  761b9fc9-1000-476c-bebe-6c40dd431b1c               1.0  \n",
      "2996  3b606200-2d2b-46cb-9d7e-146e9d5f564a               1.0  \n",
      "2997  dc696fa0-e0b2-465f-bd4a-21db18fa35fa               1.0  \n",
      "2998  761b9fc9-1000-476c-bebe-6c40dd431b1c               1.0  \n",
      "2999  3b606200-2d2b-46cb-9d7e-146e9d5f564a               1.0  \n",
      "\n",
      "[3000 rows x 3 columns], 'cats_only-iou-jaccard-cosine':                                     rfq_id  \\\n",
      "0     8aff426d-b8c0-43aa-ad26-835ef4de6129   \n",
      "1     8aff426d-b8c0-43aa-ad26-835ef4de6129   \n",
      "2     8aff426d-b8c0-43aa-ad26-835ef4de6129   \n",
      "3     37e624be-b125-464f-85b6-1838530193ef   \n",
      "4     37e624be-b125-464f-85b6-1838530193ef   \n",
      "...                                    ...   \n",
      "2995  90b02a62-3da9-4648-948c-52627d086a50   \n",
      "2996  90b02a62-3da9-4648-948c-52627d086a50   \n",
      "2997  26ea35b5-2ccf-4fdc-884f-50a7c3a000b8   \n",
      "2998  26ea35b5-2ccf-4fdc-884f-50a7c3a000b8   \n",
      "2999  26ea35b5-2ccf-4fdc-884f-50a7c3a000b8   \n",
      "\n",
      "                                  match_id  similarity_score  \n",
      "0     37e624be-b125-464f-85b6-1838530193ef          0.142857  \n",
      "1     26ea35b5-2ccf-4fdc-884f-50a7c3a000b8          0.142857  \n",
      "2     90b02a62-3da9-4648-948c-52627d086a50          0.142857  \n",
      "3     8aff426d-b8c0-43aa-ad26-835ef4de6129          0.142857  \n",
      "4     26ea35b5-2ccf-4fdc-884f-50a7c3a000b8          0.142857  \n",
      "...                                    ...               ...  \n",
      "2995  26ea35b5-2ccf-4fdc-884f-50a7c3a000b8          0.142857  \n",
      "2996  37e624be-b125-464f-85b6-1838530193ef          0.142857  \n",
      "2997  8aff426d-b8c0-43aa-ad26-835ef4de6129          0.142857  \n",
      "2998  37e624be-b125-464f-85b6-1838530193ef          0.142857  \n",
      "2999  90b02a62-3da9-4648-948c-52627d086a50          0.142857  \n",
      "\n",
      "[3000 rows x 3 columns], 'cats_only-overlap-partial-cosine':                                     rfq_id  \\\n",
      "0     8aff426d-b8c0-43aa-ad26-835ef4de6129   \n",
      "1     8aff426d-b8c0-43aa-ad26-835ef4de6129   \n",
      "2     8aff426d-b8c0-43aa-ad26-835ef4de6129   \n",
      "3     37e624be-b125-464f-85b6-1838530193ef   \n",
      "4     37e624be-b125-464f-85b6-1838530193ef   \n",
      "...                                    ...   \n",
      "2995  90b02a62-3da9-4648-948c-52627d086a50   \n",
      "2996  90b02a62-3da9-4648-948c-52627d086a50   \n",
      "2997  26ea35b5-2ccf-4fdc-884f-50a7c3a000b8   \n",
      "2998  26ea35b5-2ccf-4fdc-884f-50a7c3a000b8   \n",
      "2999  26ea35b5-2ccf-4fdc-884f-50a7c3a000b8   \n",
      "\n",
      "                                  match_id  similarity_score  \n",
      "0     87ba0db6-dcd7-419a-b043-d32652eb4c05               1.0  \n",
      "1     52f74dd3-7131-48a6-8de2-a4f2b4b2a4ec               1.0  \n",
      "2     3b00dedd-fcb8-4d71-9ffb-40b92b6cdfe7               1.0  \n",
      "3     eb12b319-97e9-4acf-9991-d051e38d0210               0.5  \n",
      "4     1c405089-f867-4741-ac84-58870ab6c7c7               0.5  \n",
      "...                                    ...               ...  \n",
      "2995  ec98a66f-6cc0-4a39-80d8-5b525b428ec7               1.0  \n",
      "2996  cadc217f-b8a2-4df4-b389-886fb43265c5               1.0  \n",
      "2997  8453ab51-f78f-4b28-93a5-248068505454               1.0  \n",
      "2998  ec98a66f-6cc0-4a39-80d8-5b525b428ec7               1.0  \n",
      "2999  cadc217f-b8a2-4df4-b389-886fb43265c5               1.0  \n",
      "\n",
      "[3000 rows x 3 columns], 'cats_only-overlap-exact-cosine':                                     rfq_id  \\\n",
      "0     8aff426d-b8c0-43aa-ad26-835ef4de6129   \n",
      "1     8aff426d-b8c0-43aa-ad26-835ef4de6129   \n",
      "2     8aff426d-b8c0-43aa-ad26-835ef4de6129   \n",
      "3     37e624be-b125-464f-85b6-1838530193ef   \n",
      "4     37e624be-b125-464f-85b6-1838530193ef   \n",
      "...                                    ...   \n",
      "2995  90b02a62-3da9-4648-948c-52627d086a50   \n",
      "2996  90b02a62-3da9-4648-948c-52627d086a50   \n",
      "2997  26ea35b5-2ccf-4fdc-884f-50a7c3a000b8   \n",
      "2998  26ea35b5-2ccf-4fdc-884f-50a7c3a000b8   \n",
      "2999  26ea35b5-2ccf-4fdc-884f-50a7c3a000b8   \n",
      "\n",
      "                                  match_id  similarity_score  \n",
      "0     1b636cb7-9acc-4872-9c4d-e99af92409b7               1.0  \n",
      "1     a46d8ecb-c4de-45b2-b518-693d0f065a68               1.0  \n",
      "2     90746b8f-f625-49a8-a957-a482c9de1816               1.0  \n",
      "3     8aff426d-b8c0-43aa-ad26-835ef4de6129               0.0  \n",
      "4     26ea35b5-2ccf-4fdc-884f-50a7c3a000b8               0.0  \n",
      "...                                    ...               ...  \n",
      "2995  761b9fc9-1000-476c-bebe-6c40dd431b1c               1.0  \n",
      "2996  3b606200-2d2b-46cb-9d7e-146e9d5f564a               1.0  \n",
      "2997  dc696fa0-e0b2-465f-bd4a-21db18fa35fa               1.0  \n",
      "2998  761b9fc9-1000-476c-bebe-6c40dd431b1c               1.0  \n",
      "2999  3b606200-2d2b-46cb-9d7e-146e9d5f564a               1.0  \n",
      "\n",
      "[3000 rows x 3 columns], 'cats_only-overlap-jaccard-cosine':                                     rfq_id  \\\n",
      "0     8aff426d-b8c0-43aa-ad26-835ef4de6129   \n",
      "1     8aff426d-b8c0-43aa-ad26-835ef4de6129   \n",
      "2     8aff426d-b8c0-43aa-ad26-835ef4de6129   \n",
      "3     37e624be-b125-464f-85b6-1838530193ef   \n",
      "4     37e624be-b125-464f-85b6-1838530193ef   \n",
      "...                                    ...   \n",
      "2995  90b02a62-3da9-4648-948c-52627d086a50   \n",
      "2996  90b02a62-3da9-4648-948c-52627d086a50   \n",
      "2997  26ea35b5-2ccf-4fdc-884f-50a7c3a000b8   \n",
      "2998  26ea35b5-2ccf-4fdc-884f-50a7c3a000b8   \n",
      "2999  26ea35b5-2ccf-4fdc-884f-50a7c3a000b8   \n",
      "\n",
      "                                  match_id  similarity_score  \n",
      "0     37e624be-b125-464f-85b6-1838530193ef          0.142857  \n",
      "1     26ea35b5-2ccf-4fdc-884f-50a7c3a000b8          0.142857  \n",
      "2     90b02a62-3da9-4648-948c-52627d086a50          0.142857  \n",
      "3     8aff426d-b8c0-43aa-ad26-835ef4de6129          0.142857  \n",
      "4     26ea35b5-2ccf-4fdc-884f-50a7c3a000b8          0.142857  \n",
      "...                                    ...               ...  \n",
      "2995  26ea35b5-2ccf-4fdc-884f-50a7c3a000b8          0.142857  \n",
      "2996  37e624be-b125-464f-85b6-1838530193ef          0.142857  \n",
      "2997  8aff426d-b8c0-43aa-ad26-835ef4de6129          0.142857  \n",
      "2998  37e624be-b125-464f-85b6-1838530193ef          0.142857  \n",
      "2999  90b02a62-3da9-4648-948c-52627d086a50          0.142857  \n",
      "\n",
      "[3000 rows x 3 columns], 'grades_only-iou-partial-cosine':                                     rfq_id  \\\n",
      "0     8aff426d-b8c0-43aa-ad26-835ef4de6129   \n",
      "1     8aff426d-b8c0-43aa-ad26-835ef4de6129   \n",
      "2     8aff426d-b8c0-43aa-ad26-835ef4de6129   \n",
      "3     37e624be-b125-464f-85b6-1838530193ef   \n",
      "4     37e624be-b125-464f-85b6-1838530193ef   \n",
      "...                                    ...   \n",
      "2995  90b02a62-3da9-4648-948c-52627d086a50   \n",
      "2996  90b02a62-3da9-4648-948c-52627d086a50   \n",
      "2997  26ea35b5-2ccf-4fdc-884f-50a7c3a000b8   \n",
      "2998  26ea35b5-2ccf-4fdc-884f-50a7c3a000b8   \n",
      "2999  26ea35b5-2ccf-4fdc-884f-50a7c3a000b8   \n",
      "\n",
      "                                  match_id  similarity_score  \n",
      "0     7d1ab305-7fc6-4ab0-bc2a-9ae1e038e67e          1.000000  \n",
      "1     2624655e-ea07-468a-8da8-2e39c9d1e7f0          0.999947  \n",
      "2     e0afcea5-f091-4db3-afa2-c7370146f983          0.999936  \n",
      "3     a3f38767-02ae-4990-be18-35ca819684a7          1.000000  \n",
      "4     2b9db833-2ec8-427e-90f9-3e78078c466e          1.000000  \n",
      "...                                    ...               ...  \n",
      "2995  c02ac938-a3f5-4c69-a2db-375afa85f548          1.000000  \n",
      "2996  493caf8e-eb37-491e-8442-ee7d7cc49bd0          1.000000  \n",
      "2997  314be464-4d5d-4414-b61b-866ec86f72ae          1.000000  \n",
      "2998  fc8cf4d1-ac28-4a43-8661-5a9c39e86369          1.000000  \n",
      "2999  0859ccb4-cfe1-4930-aaeb-63fc31b5844e          1.000000  \n",
      "\n",
      "[3000 rows x 3 columns], 'grades_only-iou-exact-cosine':                                     rfq_id  \\\n",
      "0     8aff426d-b8c0-43aa-ad26-835ef4de6129   \n",
      "1     8aff426d-b8c0-43aa-ad26-835ef4de6129   \n",
      "2     8aff426d-b8c0-43aa-ad26-835ef4de6129   \n",
      "3     37e624be-b125-464f-85b6-1838530193ef   \n",
      "4     37e624be-b125-464f-85b6-1838530193ef   \n",
      "...                                    ...   \n",
      "2995  90b02a62-3da9-4648-948c-52627d086a50   \n",
      "2996  90b02a62-3da9-4648-948c-52627d086a50   \n",
      "2997  26ea35b5-2ccf-4fdc-884f-50a7c3a000b8   \n",
      "2998  26ea35b5-2ccf-4fdc-884f-50a7c3a000b8   \n",
      "2999  26ea35b5-2ccf-4fdc-884f-50a7c3a000b8   \n",
      "\n",
      "                                  match_id  similarity_score  \n",
      "0     7d1ab305-7fc6-4ab0-bc2a-9ae1e038e67e          1.000000  \n",
      "1     2624655e-ea07-468a-8da8-2e39c9d1e7f0          0.999947  \n",
      "2     e0afcea5-f091-4db3-afa2-c7370146f983          0.999936  \n",
      "3     a3f38767-02ae-4990-be18-35ca819684a7          1.000000  \n",
      "4     2b9db833-2ec8-427e-90f9-3e78078c466e          1.000000  \n",
      "...                                    ...               ...  \n",
      "2995  c02ac938-a3f5-4c69-a2db-375afa85f548          1.000000  \n",
      "2996  493caf8e-eb37-491e-8442-ee7d7cc49bd0          1.000000  \n",
      "2997  314be464-4d5d-4414-b61b-866ec86f72ae          1.000000  \n",
      "2998  fc8cf4d1-ac28-4a43-8661-5a9c39e86369          1.000000  \n",
      "2999  0859ccb4-cfe1-4930-aaeb-63fc31b5844e          1.000000  \n",
      "\n",
      "[3000 rows x 3 columns], 'grades_only-iou-jaccard-cosine':                                     rfq_id  \\\n",
      "0     8aff426d-b8c0-43aa-ad26-835ef4de6129   \n",
      "1     8aff426d-b8c0-43aa-ad26-835ef4de6129   \n",
      "2     8aff426d-b8c0-43aa-ad26-835ef4de6129   \n",
      "3     37e624be-b125-464f-85b6-1838530193ef   \n",
      "4     37e624be-b125-464f-85b6-1838530193ef   \n",
      "...                                    ...   \n",
      "2995  90b02a62-3da9-4648-948c-52627d086a50   \n",
      "2996  90b02a62-3da9-4648-948c-52627d086a50   \n",
      "2997  26ea35b5-2ccf-4fdc-884f-50a7c3a000b8   \n",
      "2998  26ea35b5-2ccf-4fdc-884f-50a7c3a000b8   \n",
      "2999  26ea35b5-2ccf-4fdc-884f-50a7c3a000b8   \n",
      "\n",
      "                                  match_id  similarity_score  \n",
      "0     7d1ab305-7fc6-4ab0-bc2a-9ae1e038e67e          1.000000  \n",
      "1     2624655e-ea07-468a-8da8-2e39c9d1e7f0          0.999947  \n",
      "2     e0afcea5-f091-4db3-afa2-c7370146f983          0.999936  \n",
      "3     a3f38767-02ae-4990-be18-35ca819684a7          1.000000  \n",
      "4     2b9db833-2ec8-427e-90f9-3e78078c466e          1.000000  \n",
      "...                                    ...               ...  \n",
      "2995  c02ac938-a3f5-4c69-a2db-375afa85f548          1.000000  \n",
      "2996  493caf8e-eb37-491e-8442-ee7d7cc49bd0          1.000000  \n",
      "2997  314be464-4d5d-4414-b61b-866ec86f72ae          1.000000  \n",
      "2998  fc8cf4d1-ac28-4a43-8661-5a9c39e86369          1.000000  \n",
      "2999  0859ccb4-cfe1-4930-aaeb-63fc31b5844e          1.000000  \n",
      "\n",
      "[3000 rows x 3 columns], 'grades_only-overlap-partial-cosine':                                     rfq_id  \\\n",
      "0     8aff426d-b8c0-43aa-ad26-835ef4de6129   \n",
      "1     8aff426d-b8c0-43aa-ad26-835ef4de6129   \n",
      "2     8aff426d-b8c0-43aa-ad26-835ef4de6129   \n",
      "3     37e624be-b125-464f-85b6-1838530193ef   \n",
      "4     37e624be-b125-464f-85b6-1838530193ef   \n",
      "...                                    ...   \n",
      "2995  90b02a62-3da9-4648-948c-52627d086a50   \n",
      "2996  90b02a62-3da9-4648-948c-52627d086a50   \n",
      "2997  26ea35b5-2ccf-4fdc-884f-50a7c3a000b8   \n",
      "2998  26ea35b5-2ccf-4fdc-884f-50a7c3a000b8   \n",
      "2999  26ea35b5-2ccf-4fdc-884f-50a7c3a000b8   \n",
      "\n",
      "                                  match_id  similarity_score  \n",
      "0     7d1ab305-7fc6-4ab0-bc2a-9ae1e038e67e          1.000000  \n",
      "1     2624655e-ea07-468a-8da8-2e39c9d1e7f0          0.999947  \n",
      "2     e0afcea5-f091-4db3-afa2-c7370146f983          0.999936  \n",
      "3     a3f38767-02ae-4990-be18-35ca819684a7          1.000000  \n",
      "4     2b9db833-2ec8-427e-90f9-3e78078c466e          1.000000  \n",
      "...                                    ...               ...  \n",
      "2995  c02ac938-a3f5-4c69-a2db-375afa85f548          1.000000  \n",
      "2996  493caf8e-eb37-491e-8442-ee7d7cc49bd0          1.000000  \n",
      "2997  314be464-4d5d-4414-b61b-866ec86f72ae          1.000000  \n",
      "2998  fc8cf4d1-ac28-4a43-8661-5a9c39e86369          1.000000  \n",
      "2999  0859ccb4-cfe1-4930-aaeb-63fc31b5844e          1.000000  \n",
      "\n",
      "[3000 rows x 3 columns], 'grades_only-overlap-exact-cosine':                                     rfq_id  \\\n",
      "0     8aff426d-b8c0-43aa-ad26-835ef4de6129   \n",
      "1     8aff426d-b8c0-43aa-ad26-835ef4de6129   \n",
      "2     8aff426d-b8c0-43aa-ad26-835ef4de6129   \n",
      "3     37e624be-b125-464f-85b6-1838530193ef   \n",
      "4     37e624be-b125-464f-85b6-1838530193ef   \n",
      "...                                    ...   \n",
      "2995  90b02a62-3da9-4648-948c-52627d086a50   \n",
      "2996  90b02a62-3da9-4648-948c-52627d086a50   \n",
      "2997  26ea35b5-2ccf-4fdc-884f-50a7c3a000b8   \n",
      "2998  26ea35b5-2ccf-4fdc-884f-50a7c3a000b8   \n",
      "2999  26ea35b5-2ccf-4fdc-884f-50a7c3a000b8   \n",
      "\n",
      "                                  match_id  similarity_score  \n",
      "0     7d1ab305-7fc6-4ab0-bc2a-9ae1e038e67e          1.000000  \n",
      "1     2624655e-ea07-468a-8da8-2e39c9d1e7f0          0.999947  \n",
      "2     e0afcea5-f091-4db3-afa2-c7370146f983          0.999936  \n",
      "3     a3f38767-02ae-4990-be18-35ca819684a7          1.000000  \n",
      "4     2b9db833-2ec8-427e-90f9-3e78078c466e          1.000000  \n",
      "...                                    ...               ...  \n",
      "2995  c02ac938-a3f5-4c69-a2db-375afa85f548          1.000000  \n",
      "2996  493caf8e-eb37-491e-8442-ee7d7cc49bd0          1.000000  \n",
      "2997  314be464-4d5d-4414-b61b-866ec86f72ae          1.000000  \n",
      "2998  fc8cf4d1-ac28-4a43-8661-5a9c39e86369          1.000000  \n",
      "2999  0859ccb4-cfe1-4930-aaeb-63fc31b5844e          1.000000  \n",
      "\n",
      "[3000 rows x 3 columns], 'grades_only-overlap-jaccard-cosine':                                     rfq_id  \\\n",
      "0     8aff426d-b8c0-43aa-ad26-835ef4de6129   \n",
      "1     8aff426d-b8c0-43aa-ad26-835ef4de6129   \n",
      "2     8aff426d-b8c0-43aa-ad26-835ef4de6129   \n",
      "3     37e624be-b125-464f-85b6-1838530193ef   \n",
      "4     37e624be-b125-464f-85b6-1838530193ef   \n",
      "...                                    ...   \n",
      "2995  90b02a62-3da9-4648-948c-52627d086a50   \n",
      "2996  90b02a62-3da9-4648-948c-52627d086a50   \n",
      "2997  26ea35b5-2ccf-4fdc-884f-50a7c3a000b8   \n",
      "2998  26ea35b5-2ccf-4fdc-884f-50a7c3a000b8   \n",
      "2999  26ea35b5-2ccf-4fdc-884f-50a7c3a000b8   \n",
      "\n",
      "                                  match_id  similarity_score  \n",
      "0     7d1ab305-7fc6-4ab0-bc2a-9ae1e038e67e          1.000000  \n",
      "1     2624655e-ea07-468a-8da8-2e39c9d1e7f0          0.999947  \n",
      "2     e0afcea5-f091-4db3-afa2-c7370146f983          0.999936  \n",
      "3     a3f38767-02ae-4990-be18-35ca819684a7          1.000000  \n",
      "4     2b9db833-2ec8-427e-90f9-3e78078c466e          1.000000  \n",
      "...                                    ...               ...  \n",
      "2995  c02ac938-a3f5-4c69-a2db-375afa85f548          1.000000  \n",
      "2996  493caf8e-eb37-491e-8442-ee7d7cc49bd0          1.000000  \n",
      "2997  314be464-4d5d-4414-b61b-866ec86f72ae          1.000000  \n",
      "2998  fc8cf4d1-ac28-4a43-8661-5a9c39e86369          1.000000  \n",
      "2999  0859ccb4-cfe1-4930-aaeb-63fc31b5844e          1.000000  \n",
      "\n",
      "[3000 rows x 3 columns], 'full_mix-iou-partial-cosine':                                     rfq_id  \\\n",
      "0     8aff426d-b8c0-43aa-ad26-835ef4de6129   \n",
      "1     8aff426d-b8c0-43aa-ad26-835ef4de6129   \n",
      "2     8aff426d-b8c0-43aa-ad26-835ef4de6129   \n",
      "3     37e624be-b125-464f-85b6-1838530193ef   \n",
      "4     37e624be-b125-464f-85b6-1838530193ef   \n",
      "...                                    ...   \n",
      "2995  90b02a62-3da9-4648-948c-52627d086a50   \n",
      "2996  90b02a62-3da9-4648-948c-52627d086a50   \n",
      "2997  26ea35b5-2ccf-4fdc-884f-50a7c3a000b8   \n",
      "2998  26ea35b5-2ccf-4fdc-884f-50a7c3a000b8   \n",
      "2999  26ea35b5-2ccf-4fdc-884f-50a7c3a000b8   \n",
      "\n",
      "                                  match_id  similarity_score  \n",
      "0     6b506c00-8ca5-4f8c-b3b1-2e94eb1ca16f          0.706271  \n",
      "1     87ba0db6-dcd7-419a-b043-d32652eb4c05          0.698557  \n",
      "2     2624655e-ea07-468a-8da8-2e39c9d1e7f0          0.692614  \n",
      "3     56c75e72-50ae-4e29-aea4-f6394e1d986b          0.583333  \n",
      "4     a3f38767-02ae-4990-be18-35ca819684a7          0.583333  \n",
      "...                                    ...               ...  \n",
      "2995  a462a4cb-bbaa-4417-b876-4b8606c6f8db          0.723262  \n",
      "2996  1008838b-bf71-442f-a6e8-3de016146f89          0.697623  \n",
      "2997  2c4f5100-fe7a-4ac2-8be5-de8348728af0          0.721256  \n",
      "2998  3b606200-2d2b-46cb-9d7e-146e9d5f564a          0.704208  \n",
      "2999  cadc217f-b8a2-4df4-b389-886fb43265c5          0.701881  \n",
      "\n",
      "[3000 rows x 3 columns], 'full_mix-iou-exact-cosine':                                     rfq_id  \\\n",
      "0     8aff426d-b8c0-43aa-ad26-835ef4de6129   \n",
      "1     8aff426d-b8c0-43aa-ad26-835ef4de6129   \n",
      "2     8aff426d-b8c0-43aa-ad26-835ef4de6129   \n",
      "3     37e624be-b125-464f-85b6-1838530193ef   \n",
      "4     37e624be-b125-464f-85b6-1838530193ef   \n",
      "...                                    ...   \n",
      "2995  90b02a62-3da9-4648-948c-52627d086a50   \n",
      "2996  90b02a62-3da9-4648-948c-52627d086a50   \n",
      "2997  26ea35b5-2ccf-4fdc-884f-50a7c3a000b8   \n",
      "2998  26ea35b5-2ccf-4fdc-884f-50a7c3a000b8   \n",
      "2999  26ea35b5-2ccf-4fdc-884f-50a7c3a000b8   \n",
      "\n",
      "                                  match_id  similarity_score  \n",
      "0     6b506c00-8ca5-4f8c-b3b1-2e94eb1ca16f          0.706271  \n",
      "1     87ba0db6-dcd7-419a-b043-d32652eb4c05          0.698557  \n",
      "2     2624655e-ea07-468a-8da8-2e39c9d1e7f0          0.692614  \n",
      "3     a3f38767-02ae-4990-be18-35ca819684a7          0.433333  \n",
      "4     99bbb98d-d06d-4633-a68c-9be3bb9f6011          0.433333  \n",
      "...                                    ...               ...  \n",
      "2995  1008838b-bf71-442f-a6e8-3de016146f89          0.697623  \n",
      "2996  51edaf19-20d9-4df2-90aa-246c478b3532          0.697623  \n",
      "2997  2c4f5100-fe7a-4ac2-8be5-de8348728af0          0.721256  \n",
      "2998  3b606200-2d2b-46cb-9d7e-146e9d5f564a          0.704208  \n",
      "2999  cadc217f-b8a2-4df4-b389-886fb43265c5          0.701881  \n",
      "\n",
      "[3000 rows x 3 columns], 'full_mix-iou-jaccard-cosine':                                     rfq_id  \\\n",
      "0     8aff426d-b8c0-43aa-ad26-835ef4de6129   \n",
      "1     8aff426d-b8c0-43aa-ad26-835ef4de6129   \n",
      "2     8aff426d-b8c0-43aa-ad26-835ef4de6129   \n",
      "3     37e624be-b125-464f-85b6-1838530193ef   \n",
      "4     37e624be-b125-464f-85b6-1838530193ef   \n",
      "...                                    ...   \n",
      "2995  90b02a62-3da9-4648-948c-52627d086a50   \n",
      "2996  90b02a62-3da9-4648-948c-52627d086a50   \n",
      "2997  26ea35b5-2ccf-4fdc-884f-50a7c3a000b8   \n",
      "2998  26ea35b5-2ccf-4fdc-884f-50a7c3a000b8   \n",
      "2999  26ea35b5-2ccf-4fdc-884f-50a7c3a000b8   \n",
      "\n",
      "                                  match_id  similarity_score  \n",
      "0     1008838b-bf71-442f-a6e8-3de016146f89          0.476155  \n",
      "1     ee5c62d7-b0f9-4818-8698-425ffdcdb11a          0.476155  \n",
      "2     51edaf19-20d9-4df2-90aa-246c478b3532          0.476155  \n",
      "3     2b9db833-2ec8-427e-90f9-3e78078c466e          0.476190  \n",
      "4     56c75e72-50ae-4e29-aea4-f6394e1d986b          0.476190  \n",
      "...                                    ...               ...  \n",
      "2995  a462a4cb-bbaa-4417-b876-4b8606c6f8db          0.541119  \n",
      "2996  88787789-76a4-44ab-8e89-743b83d2b563          0.473528  \n",
      "2997  0f632107-6ad6-4b1b-9ad2-becc33bf0a50          0.475874  \n",
      "2998  eb692c7e-4ed8-403c-9afa-f2d619884ac1          0.475874  \n",
      "2999  f0693953-271c-4c00-9921-48696b3cd0ea          0.475874  \n",
      "\n",
      "[3000 rows x 3 columns], 'full_mix-overlap-partial-cosine':                                     rfq_id  \\\n",
      "0     8aff426d-b8c0-43aa-ad26-835ef4de6129   \n",
      "1     8aff426d-b8c0-43aa-ad26-835ef4de6129   \n",
      "2     8aff426d-b8c0-43aa-ad26-835ef4de6129   \n",
      "3     37e624be-b125-464f-85b6-1838530193ef   \n",
      "4     37e624be-b125-464f-85b6-1838530193ef   \n",
      "...                                    ...   \n",
      "2995  90b02a62-3da9-4648-948c-52627d086a50   \n",
      "2996  90b02a62-3da9-4648-948c-52627d086a50   \n",
      "2997  26ea35b5-2ccf-4fdc-884f-50a7c3a000b8   \n",
      "2998  26ea35b5-2ccf-4fdc-884f-50a7c3a000b8   \n",
      "2999  26ea35b5-2ccf-4fdc-884f-50a7c3a000b8   \n",
      "\n",
      "                                  match_id  similarity_score  \n",
      "0     2624655e-ea07-468a-8da8-2e39c9d1e7f0          0.733318  \n",
      "1     ea343100-cced-4730-9f96-c84a75a2cd5f          0.733314  \n",
      "2     146a67a8-eae0-45ea-b93d-08c5fd9ed2d4          0.733314  \n",
      "3     a3f38767-02ae-4990-be18-35ca819684a7          0.583333  \n",
      "4     56c75e72-50ae-4e29-aea4-f6394e1d986b          0.583333  \n",
      "...                                    ...               ...  \n",
      "2995  ca1ccf90-ef97-446d-b9ba-214844ffc371          0.799974  \n",
      "2996  9d458cc0-67ea-40ff-8f46-49c8d116041a          0.799285  \n",
      "2997  314be464-4d5d-4414-b61b-866ec86f72ae          0.733333  \n",
      "2998  0859ccb4-cfe1-4930-aaeb-63fc31b5844e          0.733333  \n",
      "2999  9efe576f-61cd-4570-bbd6-5564117623aa          0.733111  \n",
      "\n",
      "[3000 rows x 3 columns], 'full_mix-overlap-exact-cosine':                                     rfq_id  \\\n",
      "0     8aff426d-b8c0-43aa-ad26-835ef4de6129   \n",
      "1     8aff426d-b8c0-43aa-ad26-835ef4de6129   \n",
      "2     8aff426d-b8c0-43aa-ad26-835ef4de6129   \n",
      "3     37e624be-b125-464f-85b6-1838530193ef   \n",
      "4     37e624be-b125-464f-85b6-1838530193ef   \n",
      "...                                    ...   \n",
      "2995  90b02a62-3da9-4648-948c-52627d086a50   \n",
      "2996  90b02a62-3da9-4648-948c-52627d086a50   \n",
      "2997  26ea35b5-2ccf-4fdc-884f-50a7c3a000b8   \n",
      "2998  26ea35b5-2ccf-4fdc-884f-50a7c3a000b8   \n",
      "2999  26ea35b5-2ccf-4fdc-884f-50a7c3a000b8   \n",
      "\n",
      "                                  match_id  similarity_score  \n",
      "0     2624655e-ea07-468a-8da8-2e39c9d1e7f0          0.733318  \n",
      "1     c64aac64-f8db-475b-8584-da8551b0a712          0.733314  \n",
      "2     ea343100-cced-4730-9f96-c84a75a2cd5f          0.733314  \n",
      "3     56c75e72-50ae-4e29-aea4-f6394e1d986b          0.433333  \n",
      "4     2b9db833-2ec8-427e-90f9-3e78078c466e          0.433333  \n",
      "...                                    ...               ...  \n",
      "2995  ca1ccf90-ef97-446d-b9ba-214844ffc371          0.799974  \n",
      "2996  9d458cc0-67ea-40ff-8f46-49c8d116041a          0.799285  \n",
      "2997  314be464-4d5d-4414-b61b-866ec86f72ae          0.733333  \n",
      "2998  0859ccb4-cfe1-4930-aaeb-63fc31b5844e          0.733333  \n",
      "2999  9efe576f-61cd-4570-bbd6-5564117623aa          0.733111  \n",
      "\n",
      "[3000 rows x 3 columns], 'full_mix-overlap-jaccard-cosine':                                     rfq_id  \\\n",
      "0     8aff426d-b8c0-43aa-ad26-835ef4de6129   \n",
      "1     8aff426d-b8c0-43aa-ad26-835ef4de6129   \n",
      "2     8aff426d-b8c0-43aa-ad26-835ef4de6129   \n",
      "3     37e624be-b125-464f-85b6-1838530193ef   \n",
      "4     37e624be-b125-464f-85b6-1838530193ef   \n",
      "...                                    ...   \n",
      "2995  90b02a62-3da9-4648-948c-52627d086a50   \n",
      "2996  90b02a62-3da9-4648-948c-52627d086a50   \n",
      "2997  26ea35b5-2ccf-4fdc-884f-50a7c3a000b8   \n",
      "2998  26ea35b5-2ccf-4fdc-884f-50a7c3a000b8   \n",
      "2999  26ea35b5-2ccf-4fdc-884f-50a7c3a000b8   \n",
      "\n",
      "                                  match_id  similarity_score  \n",
      "0     7d1ab305-7fc6-4ab0-bc2a-9ae1e038e67e          0.476190  \n",
      "1     2624655e-ea07-468a-8da8-2e39c9d1e7f0          0.476175  \n",
      "2     d8071191-6962-4d7f-9456-18587f52a79f          0.476171  \n",
      "3     2b9db833-2ec8-427e-90f9-3e78078c466e          0.476190  \n",
      "4     a3f38767-02ae-4990-be18-35ca819684a7          0.476190  \n",
      "...                                    ...               ...  \n",
      "2995  8cc82a77-7371-4839-bca3-86f8d3ea627a          0.542857  \n",
      "2996  e42b147c-89f1-46de-b56e-0f201d709601          0.542857  \n",
      "2997  314be464-4d5d-4414-b61b-866ec86f72ae          0.476190  \n",
      "2998  fc8cf4d1-ac28-4a43-8661-5a9c39e86369          0.476190  \n",
      "2999  0859ccb4-cfe1-4930-aaeb-63fc31b5844e          0.476190  \n",
      "\n",
      "[3000 rows x 3 columns]}\n"
     ]
    }
   ],
   "source": [
    "def run_ablation() -> dict[pd.DataFrame]:\n",
    "\n",
    "    weight_configs = {\n",
    "        \"dims_only\": (1, 0, 0),\n",
    "        \"cats_only\": (0, 1, 0),\n",
    "        \"grades_only\": (0, 0, 1),\n",
    "        \"full_mix\": (0.4, 0.3, 0.3),\n",
    "    }\n",
    "    dimensional_methods = [\"iou\", \"overlap\"]\n",
    "    categorical_methods = [\"partial\", \"exact\", \"jaccard\"]\n",
    "    grade_methods = [\"cosine\"]\n",
    "\n",
    "    results = {}\n",
    "    # TODO: use tqdm library to track the progress\n",
    "    # TODO: Improve combination generator\n",
    "    for weights_type in weight_configs.keys():\n",
    "        for dim_method in dimensional_methods:\n",
    "            for cat_method in categorical_methods:\n",
    "                for grade_method in grade_methods:\n",
    "                    experiment_name = f\"{weights_type}-{dim_method}-{cat_method}-{grade_method}\"\n",
    "                    print(experiment_name)\n",
    "                    print(f\"Running with: Weight={weights_type} dimensional={dim_method}, categorical={cat_method}, grade={grade_method}\")\n",
    "                    \n",
    "                    top_k_results = generate_top_k(\n",
    "                        df,\n",
    "                        w_dim=weight_configs[weights_type][0],\n",
    "                        w_cat=weight_configs[weights_type][1],\n",
    "                        w_grade=weight_configs[weights_type][2],\n",
    "                        top_k=3,\n",
    "                        dimensional_method=dim_method,\n",
    "                        categorical_method=cat_method,\n",
    "                        grade_method=grade_method\n",
    "                    )\n",
    "                    results[experiment_name] = top_k_results\n",
    "                \n",
    "            # Do something with top_k_results\n",
    "            # print(top_k_results.head())\n",
    "    print(\"Finished\")\n",
    "    return results\n",
    "\n",
    "results = run_ablation()\n",
    "print(len(results))\n",
    "print(results)"
   ]
  },
  {
   "cell_type": "code",
   "execution_count": 54,
   "id": "5b580ca8-b006-46f7-a646-7c44eef13371",
   "metadata": {
    "execution": {
     "iopub.execute_input": "2025-09-09T09:09:54.160575Z",
     "iopub.status.busy": "2025-09-09T09:09:54.160066Z",
     "iopub.status.idle": "2025-09-09T09:09:54.172862Z",
     "shell.execute_reply": "2025-09-09T09:09:54.170522Z",
     "shell.execute_reply.started": "2025-09-09T09:09:54.160535Z"
    }
   },
   "outputs": [
    {
     "data": {
      "text/plain": [
       "np.float64(0.9996548204338813)"
      ]
     },
     "execution_count": 54,
     "metadata": {},
     "output_type": "execute_result"
    }
   ],
   "source": [
    "results[\"grades_only-iou-exact-cosine\"][\"similarity_score\"].mean()"
   ]
  },
  {
   "cell_type": "code",
   "execution_count": 55,
   "id": "aac8694e-c5e0-4b9c-bb10-585d5f9d81f8",
   "metadata": {
    "execution": {
     "iopub.execute_input": "2025-09-09T09:09:54.175785Z",
     "iopub.status.busy": "2025-09-09T09:09:54.174712Z",
     "iopub.status.idle": "2025-09-09T09:09:54.998419Z",
     "shell.execute_reply": "2025-09-09T09:09:54.996287Z",
     "shell.execute_reply.started": "2025-09-09T09:09:54.175686Z"
    }
   },
   "outputs": [
    {
     "data": {
      "image/png": "[encoded data removed]",
      "text/plain": [
       "<Figure size 1000x600 with 1 Axes>"
      ]
     },
     "metadata": {},
     "output_type": "display_data"
    }
   ],
   "source": [
    "# Compute mean and std\n",
    "avg_scores = {cfg: df[\"similarity_score\"].mean() for cfg, df in results.items()}\n",
    "std_scores = {cfg: df[\"similarity_score\"].std() for cfg, df in results.items()}\n",
    "\n",
    "plt.figure(figsize=(10, 6))\n",
    "bars = plt.bar(avg_scores.keys(), avg_scores.values(), yerr=std_scores.values(), capsize=5)\n",
    "\n",
    "# Add labels at the bottom of each bar\n",
    "for bar, mean in zip(bars, avg_scores.values()):\n",
    "    plt.text(\n",
    "        bar.get_x() + bar.get_width() / 2,  # center of bar\n",
    "        0.001,                               # small offset above 0\n",
    "        f\"{mean:.2f}\",                       # formatted value\n",
    "        ha=\"center\", va=\"bottom\",            # align center-bottom\n",
    "        rotation=90, color=\"white\", weight=\"bold\"\n",
    "    )\n",
    "\n",
    "plt.xticks(range(len(avg_scores.keys())), avg_scores.keys(), rotation=90)\n",
    "plt.ylabel(\"Avg Similarity Score\")\n",
    "plt.title(\"Ablation Analysis on RFQ Similarity\")\n",
    "plt.ylim(0, 1.05)  # optional: adjust top to leave space for error bars\n",
    "plt.tight_layout()\n",
    "plt.show()\n"
   ]
  },
  {
   "cell_type": "markdown",
   "id": "ec31e767-d481-487d-bf5c-783b17045c2a",
   "metadata": {},
   "source": [
    "Interpreting the results:\n",
    "\n",
    "- Bars shorter than the majority => low average similarity => not good enough.\n",
    "- Bars with long error bars that reach below the main cluster => unstable, less reliable.\n",
    "- Bars with labels near the bottom or far from the cluster => visually confirm low performance."
   ]
  },
  {
   "cell_type": "code",
   "execution_count": 56,
   "id": "3166b5f1-d24b-494f-aa49-a52ef3ec7ffd",
   "metadata": {
    "execution": {
     "iopub.execute_input": "2025-09-09T09:09:55.000962Z",
     "iopub.status.busy": "2025-09-09T09:09:55.000260Z",
     "iopub.status.idle": "2025-09-09T09:09:55.013130Z",
     "shell.execute_reply": "2025-09-09T09:09:55.010770Z",
     "shell.execute_reply.started": "2025-09-09T09:09:55.000890Z"
    }
   },
   "outputs": [
    {
     "name": "stdout",
     "output_type": "stream",
     "text": [
      "Experiments not good enough: ['dims_only-iou-partial-cosine', 'dims_only-iou-exact-cosine', 'dims_only-iou-jaccard-cosine', 'dims_only-overlap-partial-cosine', 'dims_only-overlap-exact-cosine', 'dims_only-overlap-jaccard-cosine', 'cats_only-iou-partial-cosine', 'cats_only-iou-exact-cosine', 'cats_only-iou-jaccard-cosine', 'cats_only-overlap-partial-cosine', 'cats_only-overlap-exact-cosine', 'cats_only-overlap-jaccard-cosine', 'full_mix-iou-partial-cosine', 'full_mix-iou-exact-cosine', 'full_mix-iou-jaccard-cosine', 'full_mix-overlap-partial-cosine', 'full_mix-overlap-exact-cosine', 'full_mix-overlap-jaccard-cosine']\n",
      "\n",
      "Experiments that are potentially good: ['cats_only-iou-partial-cosine', 'cats_only-iou-exact-cosine', 'cats_only-overlap-partial-cosine', 'cats_only-overlap-exact-cosine', 'full_mix-iou-partial-cosine', 'full_mix-overlap-partial-cosine', 'full_mix-overlap-exact-cosine']\n"
     ]
    }
   ],
   "source": [
    "threshold_mean = 0.70 # below this, experiment is underperforming\n",
    "threshold_std = 0.05 # above this, experiment is unstable\n",
    "\n",
    "not_good = [\n",
    "    cfg for cfg, mean in avg_scores.items()\n",
    "    if mean < threshold_mean or std_scores[cfg] > threshold_std\n",
    "]\n",
    "\n",
    "good_experiments = [\n",
    "    cfg for cfg, mean in avg_scores.items()\n",
    "    if mean >= threshold_mean and std_scores[cfg] >= threshold_std\n",
    "]\n",
    "\n",
    "print(\"Experiments not good enough:\", not_good)\n",
    "print()\n",
    "print(\"Experiments that are potentially good:\", good_experiments)"
   ]
  },
  {
   "cell_type": "markdown",
   "id": "74472a65-a9a0-46c1-aa9d-6281ee42c3bf",
   "metadata": {},
   "source": [
    "# Investigating overlap between results"
   ]
  },
  {
   "cell_type": "code",
   "execution_count": 57,
   "id": "9ef1fb1e-fd1f-4734-9dc7-62dcb3a43dc2",
   "metadata": {
    "execution": {
     "iopub.execute_input": "2025-09-09T09:09:55.016722Z",
     "iopub.status.busy": "2025-09-09T09:09:55.015480Z",
     "iopub.status.idle": "2025-09-09T09:11:25.357820Z",
     "shell.execute_reply": "2025-09-09T09:11:25.356231Z",
     "shell.execute_reply.started": "2025-09-09T09:09:55.016676Z"
    }
   },
   "outputs": [],
   "source": [
    "def compare_top3_overlap(res1, res2):\n",
    "    merged = res1.merge(res2, on=\"rfq_id\", suffixes=(\"_1\", \"_2\"))\n",
    "    overlaps = merged.apply(\n",
    "        lambda row: len(set([row.match_id_1]) & set([row.match_id_2])), axis=1\n",
    "    )\n",
    "    return overlaps.mean()\n",
    "\n",
    "\n",
    "keys = list(results.keys())\n",
    "\n",
    "# Create empty matrix\n",
    "overlap_matrix = pd.DataFrame(\n",
    "    np.zeros((len(keys), len(keys))),\n",
    "    index=keys,\n",
    "    columns=keys\n",
    ")\n",
    "\n",
    "# Fill matrix with overlaps\n",
    "for i, k1 in enumerate(keys):\n",
    "    for j, k2 in enumerate(keys):\n",
    "        if i <= j:  # upper triangle (matrix is symmetric)\n",
    "            overlap_matrix.loc[k1, k2] = compare_top3_overlap(results[k1], results[k2])\n",
    "            overlap_matrix.loc[k2, k1] = overlap_matrix.loc[k1, k2]"
   ]
  },
  {
   "cell_type": "markdown",
   "id": "19f4934d-d788-4b8d-bd65-5fa6a3d9907d",
   "metadata": {},
   "source": [
    "- Blocks of darker cells => groups of methods that behave similarly (clusters).\n",
    "- Rows/columns that are dark everywhere => a method that agrees with many others (a “consensus” approach).\n",
    "- Rows/columns that are light compared to others => a method that behaves differently, producing distinct recommendations."
   ]
  },
  {
   "cell_type": "code",
   "execution_count": 58,
   "id": "768916bd-bca8-4ab8-8160-8fcfe7b57454",
   "metadata": {
    "execution": {
     "iopub.execute_input": "2025-09-09T09:11:25.359917Z",
     "iopub.status.busy": "2025-09-09T09:11:25.359257Z",
     "iopub.status.idle": "2025-09-09T09:11:26.188768Z",
     "shell.execute_reply": "2025-09-09T09:11:26.186893Z",
     "shell.execute_reply.started": "2025-09-09T09:11:25.359855Z"
    }
   },
   "outputs": [
    {
     "data": {
      "image/png": "[encoded data removed]",
      "text/plain": [
       "<Figure size 800x600 with 2 Axes>"
      ]
     },
     "metadata": {},
     "output_type": "display_data"
    }
   ],
   "source": [
    "plt.figure(figsize=(8, 6))\n",
    "plt.imshow(overlap_matrix, cmap=\"Blues\", interpolation=\"nearest\")\n",
    "plt.colorbar(label=\"Average Top-3 Overlap\")\n",
    "plt.xticks(range(len(keys)), keys, rotation=90)\n",
    "plt.yticks(range(len(keys)), keys)\n",
    "plt.title(\"Pairwise Top-3 Overlap Between Result Variants\")\n",
    "plt.tight_layout()\n",
    "plt.show()"
   ]
  },
  {
   "cell_type": "markdown",
   "id": "c05e8db9-c4d7-4034-b053-ef1cb6247b64",
   "metadata": {},
   "source": [
    "We can sort the overlapping method to find about the methods that agrees the most with others:"
   ]
  },
  {
   "cell_type": "code",
   "execution_count": 59,
   "id": "253ad048-14de-490c-8483-e9e3cd60656e",
   "metadata": {
    "execution": {
     "iopub.execute_input": "2025-09-09T09:11:26.192334Z",
     "iopub.status.busy": "2025-09-09T09:11:26.191112Z",
     "iopub.status.idle": "2025-09-09T09:11:26.205365Z",
     "shell.execute_reply": "2025-09-09T09:11:26.203439Z",
     "shell.execute_reply.started": "2025-09-09T09:11:26.192286Z"
    }
   },
   "outputs": [
    {
     "name": "stdout",
     "output_type": "stream",
     "text": [
      "Average overlap per method:\n",
      "grades_only-iou-partial-cosine        9.970370\n",
      "grades_only-iou-exact-cosine          9.970370\n",
      "grades_only-overlap-exact-cosine      9.970370\n",
      "grades_only-overlap-jaccard-cosine    9.970370\n",
      "grades_only-iou-jaccard-cosine        9.970370\n",
      "grades_only-overlap-partial-cosine    9.970370\n",
      "full_mix-iou-exact-cosine             7.984259\n",
      "full_mix-iou-partial-cosine           7.672685\n",
      "full_mix-overlap-exact-cosine         7.581944\n",
      "full_mix-overlap-partial-cosine       7.476389\n",
      "dims_only-iou-exact-cosine            7.397222\n",
      "dims_only-iou-partial-cosine          7.397222\n",
      "dims_only-iou-jaccard-cosine          7.397222\n",
      "full_mix-iou-jaccard-cosine           6.529630\n",
      "cats_only-iou-partial-cosine          5.905556\n",
      "cats_only-overlap-partial-cosine      5.905556\n",
      "cats_only-overlap-exact-cosine        5.773611\n",
      "cats_only-iou-exact-cosine            5.773611\n",
      "dims_only-overlap-partial-cosine      5.755556\n",
      "dims_only-overlap-jaccard-cosine      5.755556\n",
      "dims_only-overlap-exact-cosine        5.755556\n",
      "full_mix-overlap-jaccard-cosine       5.405093\n",
      "cats_only-iou-jaccard-cosine          3.427778\n",
      "cats_only-overlap-jaccard-cosine      3.427778\n",
      "dtype: float64\n"
     ]
    }
   ],
   "source": [
    "# No need to exclude diagonal (self-overlap = 0.0)\n",
    "avg_overlap = overlap_matrix.mean(axis=1)\n",
    "\n",
    "# Sort from most to least consensus-like\n",
    "avg_overlap = avg_overlap.sort_values(ascending=False)\n",
    "\n",
    "print(\"Average overlap per method:\")\n",
    "print(avg_overlap * 100)"
   ]
  },
  {
   "cell_type": "markdown",
   "id": "d35edcfd-6f22-4049-b9ed-214afaa172db",
   "metadata": {},
   "source": [
    "# Using spearman\n",
    "\n",
    "Ignoring this part as it takes a lot of time to run."
   ]
  },
  {
   "cell_type": "code",
   "execution_count": 60,
   "id": "0cdc568c-b627-4967-bb1e-e85feae20f3b",
   "metadata": {
    "execution": {
     "iopub.execute_input": "2025-09-09T09:11:26.208802Z",
     "iopub.status.busy": "2025-09-09T09:11:26.208024Z",
     "iopub.status.idle": "2025-09-09T09:11:26.230656Z",
     "shell.execute_reply": "2025-09-09T09:11:26.228791Z",
     "shell.execute_reply.started": "2025-09-09T09:11:26.208755Z"
    }
   },
   "outputs": [],
   "source": [
    "def compare_topk_spearman(res1, res2, k=3):\n",
    "\n",
    "    # Ensure same RFQs\n",
    "    rfqs = set(res1[\"rfq_id\"]).intersection(res2[\"rfq_id\"])\n",
    "    correlations = []\n",
    "    \n",
    "    for rfq in rfqs:\n",
    "        r1 = res1[res1[\"rfq_id\"] == rfq].head(k).reset_index(drop=True)\n",
    "        r2 = res2[res2[\"rfq_id\"] == rfq].head(k).reset_index(drop=True)\n",
    "\n",
    "        # Align by match_id (union of items in both lists)\n",
    "        all_matches = list(set(r1[\"match_id\"]).union(set(r2[\"match_id\"])))\n",
    "        \n",
    "        # Build rank vectors\n",
    "        ranks1 = []\n",
    "        ranks2 = []\n",
    "        for m in all_matches:\n",
    "            # If missing, assign rank = k+1 (as if ranked after top-k)\n",
    "            rank1 = r1.index[r1[\"match_id\"] == m].tolist()\n",
    "            rank2 = r2.index[r2[\"match_id\"] == m].tolist()\n",
    "            ranks1.append(rank1[0] + 1 if rank1 else k + 1)\n",
    "            ranks2.append(rank2[0] + 1 if rank2 else k + 1)\n",
    "        \n",
    "        # Compute Spearman correlation\n",
    "        rho, _ = spearmanr(ranks1, ranks2)\n",
    "        if not np.isnan(rho):\n",
    "            correlations.append(rho)\n",
    "    \n",
    "    return np.mean(correlations) if correlations else 0.0"
   ]
  },
  {
   "cell_type": "code",
   "execution_count": 61,
   "id": "feac8337-d6cd-4081-a68b-d488355dd817",
   "metadata": {
    "execution": {
     "iopub.execute_input": "2025-09-09T09:11:26.233114Z",
     "iopub.status.busy": "2025-09-09T09:11:26.232486Z",
     "iopub.status.idle": "2025-09-09T09:11:26.255092Z",
     "shell.execute_reply": "2025-09-09T09:11:26.253642Z",
     "shell.execute_reply.started": "2025-09-09T09:11:26.233071Z"
    }
   },
   "outputs": [],
   "source": [
    "# rho = compare_topk_spearman(\n",
    "#     results[\"full_mix-iou-partial-cosine\"],\n",
    "#     results[\"cats+grades-iou-exact-cosine\"],\n",
    "#     k=3\n",
    "# )"
   ]
  },
  {
   "cell_type": "code",
   "execution_count": 62,
   "id": "7dfad95e-9716-48b4-a513-19dd9cacb284",
   "metadata": {
    "execution": {
     "iopub.execute_input": "2025-09-09T09:11:26.258196Z",
     "iopub.status.busy": "2025-09-09T09:11:26.256606Z",
     "iopub.status.idle": "2025-09-09T09:11:26.280322Z",
     "shell.execute_reply": "2025-09-09T09:11:26.278635Z",
     "shell.execute_reply.started": "2025-09-09T09:11:26.258110Z"
    }
   },
   "outputs": [],
   "source": [
    "# keys = list(results.keys())\n",
    "\n",
    "# # Create empty Spearman correlation matrix\n",
    "# spearman_matrix = pd.DataFrame(\n",
    "#     np.zeros((len(keys), len(keys))),\n",
    "#     index=keys,\n",
    "#     columns=keys\n",
    "# )\n",
    "\n",
    "# # Fill matrix with Spearman results\n",
    "# for i, k1 in enumerate(keys):\n",
    "#     for j, k2 in enumerate(keys):\n",
    "#         if i <= j:  # upper triangle\n",
    "#             rho = compare_topk_spearman(results[k1], results[k2], k=3)\n",
    "#             print(f\"Comparing {k1},{k2}: Spearmen rho={rho}\")\n",
    "#             spearman_matrix.loc[k1, k2] = rho\n",
    "#             spearman_matrix.loc[k2, k1] = rho  # symmetric"
   ]
  },
  {
   "cell_type": "code",
   "execution_count": 63,
   "id": "92ff8d8d-4994-4bed-a578-980771a1c5cc",
   "metadata": {
    "execution": {
     "iopub.execute_input": "2025-09-09T09:11:26.282308Z",
     "iopub.status.busy": "2025-09-09T09:11:26.281869Z",
     "iopub.status.idle": "2025-09-09T09:11:26.303648Z",
     "shell.execute_reply": "2025-09-09T09:11:26.301263Z",
     "shell.execute_reply.started": "2025-09-09T09:11:26.282268Z"
    }
   },
   "outputs": [],
   "source": [
    "# most_similar = spearman_matrix.stack().idxmax()\n",
    "# least_similar = spearman_matrix.stack().idxmin()"
   ]
  },
  {
   "cell_type": "markdown",
   "id": "405b8ced-f33f-4a33-980f-310c54fa9e7a",
   "metadata": {},
   "source": [
    "# Cluster"
   ]
  },
  {
   "cell_type": "code",
   "execution_count": 64,
   "id": "67503f6c-936f-423d-a815-b9b09db66f51",
   "metadata": {
    "execution": {
     "iopub.execute_input": "2025-09-09T09:11:26.306466Z",
     "iopub.status.busy": "2025-09-09T09:11:26.305758Z",
     "iopub.status.idle": "2025-09-09T09:11:26.329666Z",
     "shell.execute_reply": "2025-09-09T09:11:26.327574Z",
     "shell.execute_reply.started": "2025-09-09T09:11:26.306414Z"
    }
   },
   "outputs": [],
   "source": [
    "df = merge_df.copy()"
   ]
  },
  {
   "cell_type": "code",
   "execution_count": 65,
   "id": "20aff558-6b01-4c87-bb65-5c5e4a5fa691",
   "metadata": {
    "execution": {
     "iopub.execute_input": "2025-09-09T09:11:26.332883Z",
     "iopub.status.busy": "2025-09-09T09:11:26.332128Z",
     "iopub.status.idle": "2025-09-09T09:11:26.552191Z",
     "shell.execute_reply": "2025-09-09T09:11:26.550824Z",
     "shell.execute_reply.started": "2025-09-09T09:11:26.332816Z"
    }
   },
   "outputs": [],
   "source": [
    "# Select features\n",
    "categorical = [\"grade\", \"coating\", \"finish\", \"form\"]\n",
    "\n",
    "numeric = [\"thickness_min\", \"thickness_max\", \"width_min\", \"width_max\", \"length_min\", \"height_min\", \"weight_min\", \"weight_max\", \n",
    "           \"yield_strength_min\", \"yield_strength_max\", \"tensile_strength_min\", \"tensile_strength_max\", \"elongation_min\", \"elongation_max\",\n",
    "           \"carbon_min\", \"carbon_max\", \"manganese_min\", \"manganese_max\",\n",
    "           \"silicon_min\", \"silicon_max\", \"sulfur_min\", \"sulfur_max\",\n",
    "           \"phosphorus_min\", \"phosphorus_max\", \"aluminum_min\", \"aluminum_max\"\n",
    "]\n",
    "\n",
    "# Preprocessing & Clustering\n",
    "preprocessor = ColumnTransformer([\n",
    "    (\"num\", StandardScaler(), numeric),\n",
    "    (\"cat\", OneHotEncoder(handle_unknown=\"ignore\"), categorical)\n",
    "])\n",
    "\n",
    "kmeans = KMeans(n_clusters=4, random_state=42, n_init=10)\n",
    "pipeline = Pipeline([\n",
    "    (\"preprocessor\", preprocessor),\n",
    "    (\"cluster\", kmeans)\n",
    "])\n",
    "\n",
    "df[\"cluster\"] = pipeline.fit_predict(df)"
   ]
  },
  {
   "cell_type": "code",
   "execution_count": 66,
   "id": "44e7d1f4-4191-44ff-aa89-68e0c200480e",
   "metadata": {
    "execution": {
     "iopub.execute_input": "2025-09-09T09:11:26.554557Z",
     "iopub.status.busy": "2025-09-09T09:11:26.553792Z",
     "iopub.status.idle": "2025-09-09T09:11:29.536918Z",
     "shell.execute_reply": "2025-09-09T09:11:29.534976Z",
     "shell.execute_reply.started": "2025-09-09T09:11:26.554502Z"
    }
   },
   "outputs": [
    {
     "name": "stdout",
     "output_type": "stream",
     "text": [
      "Cluster Interpretations:\n",
      "Cluster 0: S235JR COILS (UNKNOWN, UNKNOWN) ~4.6mm thick, elongation ~22% (Avg similarity: 0.61)\n",
      "Cluster 1: DX51D COILS (HOT-DIP GALVANIZED (+Z/+GI), UNKNOWN) ~1.5mm thick, elongation ~28% (Avg similarity: 0.56)\n",
      "Cluster 2: 16MNCRS5 ROUND BARS (AS ROLLED (+AR), UNKNOWN) ~35.5mm thick, elongation ~9% (Avg similarity: 0.65)\n",
      "Cluster 3: UNKNOWN COILS (UNKNOWN, UNKNOWN) ~1.7mm thick, elongation ~0% (Avg similarity: 0.67)\n"
     ]
    },
    {
     "data": {
      "image/png": "[encoded data removed]",
      "text/plain": [
       "<Figure size 1000x700 with 1 Axes>"
      ]
     },
     "metadata": {},
     "output_type": "display_data"
    }
   ],
   "source": [
    "# Compute similarity score for each RFQ in its cluster \n",
    "aggregate_sims = aggregate_sim_score(df)\n",
    "\n",
    "similarity_scores = []\n",
    "for i, row in df.iterrows():\n",
    "    cluster_idx = df[df[\"cluster\"] == row[\"cluster\"]].index\n",
    "    # Average similarity to all other RFQs in the same cluster\n",
    "    score = aggregate_sims[i, cluster_idx].mean()\n",
    "    similarity_scores.append(score)\n",
    "\n",
    "df[\"cluster_similarity\"] = similarity_scores\n",
    "\n",
    "# Generate cluster summaries \n",
    "cluster_labels = {}\n",
    "for c in sorted(df[\"cluster\"].unique()):\n",
    "    cluster_data = df[df[\"cluster\"] == c]\n",
    "    \n",
    "    # Most common categorical values\n",
    "    common_values = {col: cluster_data[col].mode()[0] for col in categorical}\n",
    "    \n",
    "    # Average numeric values\n",
    "    avg_values = {col: cluster_data[col].mean() for col in numeric}\n",
    "    \n",
    "    # Build short description\n",
    "    description = (\n",
    "        f\"{common_values['grade']} {common_values['form']} \"\n",
    "        f\"({common_values['finish']}, {common_values['coating']}) \"\n",
    "        f\"~{avg_values['thickness_min']:.1f}mm thick, \"\n",
    "        f\"elongation ~{avg_values['elongation_min']:.0f}%\"\n",
    "    )\n",
    "    cluster_labels[c] = description\n",
    "\n",
    "df[\"cluster_label\"] = df[\"cluster\"].map(cluster_labels)\n",
    "\n",
    "# Print cluster interpretations & similarity stats\n",
    "print(\"Cluster Interpretations:\")\n",
    "for c in sorted(df[\"cluster\"].unique()):\n",
    "    cluster_data = df[df[\"cluster\"] == c]\n",
    "    avg_sim = cluster_data[\"cluster_similarity\"].mean()\n",
    "    print(f\"Cluster {c}: {cluster_labels[c]} (Avg similarity: {avg_sim:.2f})\")\n",
    "\n",
    "# Optional visualization \n",
    "\n",
    "X_processed = preprocessor.fit_transform(df)\n",
    "X_reduced = PCA(n_components=2).fit_transform(X_processed.toarray())\n",
    "plt.figure(figsize=(10,7))\n",
    "plt.scatter(X_reduced[:, 0], X_reduced[:, 1], c=df[\"cluster\"], cmap=\"tab10\", alpha=0.6)\n",
    "for c in cluster_labels.keys():\n",
    "    x_mean = X_reduced[df[\"cluster\"] == c, 0].mean()\n",
    "    y_mean = X_reduced[df[\"cluster\"] == c, 1].mean()\n",
    "    plt.text(x_mean, y_mean, f\"{c}\", fontsize=12, weight=\"bold\")\n",
    "plt.title(\"RFQ Clusters with Families & Similarity\")\n",
    "# plt.savefig(\"../docs/cluster.png\")\n",
    "plt.show()"
   ]
  }
 ],
 "metadata": {
  "kernelspec": {
   "display_name": "Python 3 (ipykernel)",
   "language": "python",
   "name": "python3"
  },
  "language_info": {
   "codemirror_mode": {
    "name": "ipython",
    "version": 3
   },
   "file_extension": ".py",
   "mimetype": "text/x-python",
   "name": "python",
   "nbconvert_exporter": "python",
   "pygments_lexer": "ipython3",
   "version": "3.12.9"
  }
 },
 "nbformat": 4,
 "nbformat_minor": 5
}
