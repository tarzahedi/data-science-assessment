{
 "cells": [
  {
   "cell_type": "markdown",
   "id": "a9aa1fe0-b336-48c4-bb7a-12158789c626",
   "metadata": {},
   "source": [
    "# Load Required Libraries\n",
    "We start by importing the necessary libraries: `pandas` for data manipulation and `uuid` for generating unique identifiers for articles."
   ]
  },
  {
   "cell_type": "code",
   "execution_count": 1,
   "id": "429699dd-9632-453f-befd-79c75f7026cb",
   "metadata": {
    "execution": {
     "iopub.execute_input": "2025-09-10T10:09:44.820216Z",
     "iopub.status.busy": "2025-09-10T10:09:44.819279Z",
     "iopub.status.idle": "2025-09-10T10:09:45.833180Z",
     "shell.execute_reply": "2025-09-10T10:09:45.831620Z",
     "shell.execute_reply.started": "2025-09-10T10:09:44.820113Z"
    }
   },
   "outputs": [],
   "source": [
    "import pandas as pd\n",
    "import uuid"
   ]
  },
  {
   "cell_type": "markdown",
   "id": "18c0d839-677c-4373-ac83-05f1d2abd10f",
   "metadata": {},
   "source": [
    "# Load Excel Files\n",
    "We define a function `load_excel_file` to load Excel files.  \n",
    "It ensures that each Excel file contains exactly one sheet.  \n",
    "If multiple sheets exist, it raises an exception to avoid ambiguity."
   ]
  },
  {
   "cell_type": "code",
   "execution_count": 2,
   "id": "85ad5ee9-fb6d-44ec-abbf-49cebe0d80fb",
   "metadata": {
    "execution": {
     "iopub.execute_input": "2025-09-10T10:09:45.835614Z",
     "iopub.status.busy": "2025-09-10T10:09:45.835046Z",
     "iopub.status.idle": "2025-09-10T10:09:45.844215Z",
     "shell.execute_reply": "2025-09-10T10:09:45.842426Z",
     "shell.execute_reply.started": "2025-09-10T10:09:45.835570Z"
    }
   },
   "outputs": [],
   "source": [
    "def load_excel_file(data_path: str) -> pd.DataFrame:\n",
    "    # TODO: handle excle file with multiple sheets\n",
    "    data = pd.ExcelFile(data_path)\n",
    "    # check for sheet\n",
    "    if len(data.sheet_names) == 1:\n",
    "        return data.parse(data.sheet_names[0])\n",
    "    else:\n",
    "        raise Exception(\"Excel file should have exactly one sheet!\")"
   ]
  },
  {
   "cell_type": "code",
   "execution_count": 3,
   "id": "1a2de78e-92b9-4bea-9684-e4ae51c6e364",
   "metadata": {
    "execution": {
     "iopub.execute_input": "2025-09-10T10:09:45.846728Z",
     "iopub.status.busy": "2025-09-10T10:09:45.845893Z",
     "iopub.status.idle": "2025-09-10T10:09:46.207168Z",
     "shell.execute_reply": "2025-09-10T10:09:46.205613Z",
     "shell.execute_reply.started": "2025-09-10T10:09:45.846654Z"
    }
   },
   "outputs": [],
   "source": [
    "supplier_1 = load_excel_file(\"../resources/task_1/supplier_data1.xlsx\")\n",
    "supplier_2 = load_excel_file(\"../resources/task_1/supplier_data2.xlsx\")"
   ]
  },
  {
   "cell_type": "markdown",
   "id": "177d411e-ecd2-4bd4-b3a9-e47bcaf4e123",
   "metadata": {},
   "source": [
    "# Initial Exploration of Supplier Data\n",
    "We examine the first few rows, shape, info, and basic statistics of both datasets.  \n",
    "We also check for missing values and duplicate rows to understand data quality."
   ]
  },
  {
   "cell_type": "code",
   "execution_count": 4,
   "id": "8f558c44-9081-4ba2-a653-b03815ece7f9",
   "metadata": {
    "execution": {
     "iopub.execute_input": "2025-09-10T10:09:46.212709Z",
     "iopub.status.busy": "2025-09-10T10:09:46.211604Z",
     "iopub.status.idle": "2025-09-10T10:09:46.259137Z",
     "shell.execute_reply": "2025-09-10T10:09:46.257038Z",
     "shell.execute_reply.started": "2025-09-10T10:09:46.212619Z"
    }
   },
   "outputs": [
    {
     "data": {
      "text/html": [
       "<div>\n",
       "<style scoped>\n",
       "    .dataframe tbody tr th:only-of-type {\n",
       "        vertical-align: middle;\n",
       "    }\n",
       "\n",
       "    .dataframe tbody tr th {\n",
       "        vertical-align: top;\n",
       "    }\n",
       "\n",
       "    .dataframe thead th {\n",
       "        text-align: right;\n",
       "    }\n",
       "</style>\n",
       "<table border=\"1\" class=\"dataframe\">\n",
       "  <thead>\n",
       "    <tr style=\"text-align: right;\">\n",
       "      <th></th>\n",
       "      <th>Quality/Choice</th>\n",
       "      <th>Grade</th>\n",
       "      <th>Finish</th>\n",
       "      <th>Thickness (mm)</th>\n",
       "      <th>Width (mm)</th>\n",
       "      <th>Description</th>\n",
       "      <th>Gross weight (kg)</th>\n",
       "      <th>RP02</th>\n",
       "      <th>RM</th>\n",
       "      <th>Quantity</th>\n",
       "      <th>AG</th>\n",
       "      <th>AI</th>\n",
       "    </tr>\n",
       "  </thead>\n",
       "  <tbody>\n",
       "    <tr>\n",
       "      <th>0</th>\n",
       "      <td>3rd</td>\n",
       "      <td>C200S</td>\n",
       "      <td>gebeizt und geglüht</td>\n",
       "      <td>2.77</td>\n",
       "      <td>1100</td>\n",
       "      <td>Längs- oder Querisse</td>\n",
       "      <td>13983</td>\n",
       "      <td>333.6</td>\n",
       "      <td>606.2</td>\n",
       "      <td>0.00</td>\n",
       "      <td>16.11</td>\n",
       "      <td>0.0054</td>\n",
       "    </tr>\n",
       "    <tr>\n",
       "      <th>1</th>\n",
       "      <td>3rd</td>\n",
       "      <td>C300S</td>\n",
       "      <td>ungebeizt</td>\n",
       "      <td>2.65</td>\n",
       "      <td>1075</td>\n",
       "      <td>Längs- oder Querisse</td>\n",
       "      <td>13047</td>\n",
       "      <td>717.7</td>\n",
       "      <td>0.0</td>\n",
       "      <td>0.00</td>\n",
       "      <td>16.11</td>\n",
       "      <td>0.0046</td>\n",
       "    </tr>\n",
       "    <tr>\n",
       "      <th>2</th>\n",
       "      <td>3rd</td>\n",
       "      <td>C100S</td>\n",
       "      <td>gebeizt und geglüht</td>\n",
       "      <td>2.20</td>\n",
       "      <td>1100</td>\n",
       "      <td>Kantenfehler - FS-Kantenrisse</td>\n",
       "      <td>14155</td>\n",
       "      <td>368.9</td>\n",
       "      <td>0.0</td>\n",
       "      <td>10.84</td>\n",
       "      <td>0.00</td>\n",
       "      <td>0.0061</td>\n",
       "    </tr>\n",
       "    <tr>\n",
       "      <th>3</th>\n",
       "      <td>2nd</td>\n",
       "      <td>C100S</td>\n",
       "      <td>gebeizt</td>\n",
       "      <td>2.86</td>\n",
       "      <td>1100</td>\n",
       "      <td>Längs- oder Querisse</td>\n",
       "      <td>11381</td>\n",
       "      <td>368.9</td>\n",
       "      <td>601.7</td>\n",
       "      <td>22.87</td>\n",
       "      <td>0.00</td>\n",
       "      <td>0.0062</td>\n",
       "    </tr>\n",
       "    <tr>\n",
       "      <th>4</th>\n",
       "      <td>1st</td>\n",
       "      <td>C300S</td>\n",
       "      <td>ungebeizt</td>\n",
       "      <td>2.88</td>\n",
       "      <td>1050</td>\n",
       "      <td>Sollmasse (Gewicht) unterschritten</td>\n",
       "      <td>10072</td>\n",
       "      <td>0.0</td>\n",
       "      <td>1213.0</td>\n",
       "      <td>22.87</td>\n",
       "      <td>0.00</td>\n",
       "      <td>0.0041</td>\n",
       "    </tr>\n",
       "  </tbody>\n",
       "</table>\n",
       "</div>"
      ],
      "text/plain": [
       "  Quality/Choice  Grade               Finish  Thickness (mm)  Width (mm)  \\\n",
       "0            3rd  C200S  gebeizt und geglüht            2.77        1100   \n",
       "1            3rd  C300S            ungebeizt            2.65        1075   \n",
       "2            3rd  C100S  gebeizt und geglüht            2.20        1100   \n",
       "3            2nd  C100S              gebeizt            2.86        1100   \n",
       "4            1st  C300S            ungebeizt            2.88        1050   \n",
       "\n",
       "                          Description  Gross weight (kg)   RP02      RM  \\\n",
       "0                Längs- oder Querisse              13983  333.6   606.2   \n",
       "1                Längs- oder Querisse              13047  717.7     0.0   \n",
       "2       Kantenfehler - FS-Kantenrisse              14155  368.9     0.0   \n",
       "3                Längs- oder Querisse              11381  368.9   601.7   \n",
       "4  Sollmasse (Gewicht) unterschritten              10072    0.0  1213.0   \n",
       "\n",
       "   Quantity     AG      AI  \n",
       "0      0.00  16.11  0.0054  \n",
       "1      0.00  16.11  0.0046  \n",
       "2     10.84   0.00  0.0061  \n",
       "3     22.87   0.00  0.0062  \n",
       "4     22.87   0.00  0.0041  "
      ]
     },
     "execution_count": 4,
     "metadata": {},
     "output_type": "execute_result"
    }
   ],
   "source": [
    "# Look at 5 first rows\n",
    "supplier_1.head()"
   ]
  },
  {
   "cell_type": "code",
   "execution_count": 5,
   "id": "466ec699-c8f4-478d-bad1-511c52697225",
   "metadata": {
    "execution": {
     "iopub.execute_input": "2025-09-10T10:09:46.262853Z",
     "iopub.status.busy": "2025-09-10T10:09:46.261434Z",
     "iopub.status.idle": "2025-09-10T10:09:46.275754Z",
     "shell.execute_reply": "2025-09-10T10:09:46.273488Z",
     "shell.execute_reply.started": "2025-09-10T10:09:46.262775Z"
    }
   },
   "outputs": [
    {
     "data": {
      "text/plain": [
       "(50, 12)"
      ]
     },
     "execution_count": 5,
     "metadata": {},
     "output_type": "execute_result"
    }
   ],
   "source": [
    "supplier_1.shape"
   ]
  },
  {
   "cell_type": "code",
   "execution_count": 6,
   "id": "695dd0ab-6e15-4180-8e22-36260df24a48",
   "metadata": {
    "execution": {
     "iopub.execute_input": "2025-09-10T10:09:46.279777Z",
     "iopub.status.busy": "2025-09-10T10:09:46.278130Z",
     "iopub.status.idle": "2025-09-10T10:09:46.314095Z",
     "shell.execute_reply": "2025-09-10T10:09:46.311964Z",
     "shell.execute_reply.started": "2025-09-10T10:09:46.279689Z"
    }
   },
   "outputs": [
    {
     "name": "stdout",
     "output_type": "stream",
     "text": [
      "<class 'pandas.core.frame.DataFrame'>\n",
      "RangeIndex: 50 entries, 0 to 49\n",
      "Data columns (total 12 columns):\n",
      " #   Column             Non-Null Count  Dtype  \n",
      "---  ------             --------------  -----  \n",
      " 0   Quality/Choice     50 non-null     object \n",
      " 1   Grade              50 non-null     object \n",
      " 2   Finish             50 non-null     object \n",
      " 3   Thickness (mm)     50 non-null     float64\n",
      " 4   Width (mm)         50 non-null     int64  \n",
      " 5   Description        50 non-null     object \n",
      " 6   Gross weight (kg)  50 non-null     int64  \n",
      " 7   RP02               50 non-null     float64\n",
      " 8   RM                 50 non-null     float64\n",
      " 9   Quantity           50 non-null     float64\n",
      " 10  AG                 50 non-null     float64\n",
      " 11  AI                 50 non-null     float64\n",
      "dtypes: float64(6), int64(2), object(4)\n",
      "memory usage: 4.8+ KB\n"
     ]
    }
   ],
   "source": [
    "supplier_1.info()"
   ]
  },
  {
   "cell_type": "code",
   "execution_count": 7,
   "id": "0c06315b-491d-4f2c-bf39-143bd64f64e0",
   "metadata": {
    "execution": {
     "iopub.execute_input": "2025-09-10T10:09:46.317339Z",
     "iopub.status.busy": "2025-09-10T10:09:46.316474Z",
     "iopub.status.idle": "2025-09-10T10:09:46.405158Z",
     "shell.execute_reply": "2025-09-10T10:09:46.402878Z",
     "shell.execute_reply.started": "2025-09-10T10:09:46.317245Z"
    }
   },
   "outputs": [
    {
     "data": {
      "text/html": [
       "<div>\n",
       "<style scoped>\n",
       "    .dataframe tbody tr th:only-of-type {\n",
       "        vertical-align: middle;\n",
       "    }\n",
       "\n",
       "    .dataframe tbody tr th {\n",
       "        vertical-align: top;\n",
       "    }\n",
       "\n",
       "    .dataframe thead th {\n",
       "        text-align: right;\n",
       "    }\n",
       "</style>\n",
       "<table border=\"1\" class=\"dataframe\">\n",
       "  <thead>\n",
       "    <tr style=\"text-align: right;\">\n",
       "      <th></th>\n",
       "      <th>Thickness (mm)</th>\n",
       "      <th>Width (mm)</th>\n",
       "      <th>Gross weight (kg)</th>\n",
       "      <th>RP02</th>\n",
       "      <th>RM</th>\n",
       "      <th>Quantity</th>\n",
       "      <th>AG</th>\n",
       "      <th>AI</th>\n",
       "    </tr>\n",
       "  </thead>\n",
       "  <tbody>\n",
       "    <tr>\n",
       "      <th>count</th>\n",
       "      <td>50.000000</td>\n",
       "      <td>50.000000</td>\n",
       "      <td>50.000000</td>\n",
       "      <td>50.00000</td>\n",
       "      <td>50.000000</td>\n",
       "      <td>50.000000</td>\n",
       "      <td>50.000000</td>\n",
       "      <td>50.000000</td>\n",
       "    </tr>\n",
       "    <tr>\n",
       "      <th>mean</th>\n",
       "      <td>2.508800</td>\n",
       "      <td>1075.000000</td>\n",
       "      <td>10227.840000</td>\n",
       "      <td>336.39200</td>\n",
       "      <td>653.682000</td>\n",
       "      <td>13.536200</td>\n",
       "      <td>9.706120</td>\n",
       "      <td>0.005500</td>\n",
       "    </tr>\n",
       "    <tr>\n",
       "      <th>std</th>\n",
       "      <td>0.273112</td>\n",
       "      <td>48.968961</td>\n",
       "      <td>2900.401516</td>\n",
       "      <td>245.12073</td>\n",
       "      <td>403.594141</td>\n",
       "      <td>10.380396</td>\n",
       "      <td>7.080155</td>\n",
       "      <td>0.000886</td>\n",
       "    </tr>\n",
       "    <tr>\n",
       "      <th>min</th>\n",
       "      <td>2.010000</td>\n",
       "      <td>1000.000000</td>\n",
       "      <td>5011.000000</td>\n",
       "      <td>0.00000</td>\n",
       "      <td>0.000000</td>\n",
       "      <td>0.000000</td>\n",
       "      <td>0.000000</td>\n",
       "      <td>0.004100</td>\n",
       "    </tr>\n",
       "    <tr>\n",
       "      <th>25%</th>\n",
       "      <td>2.292500</td>\n",
       "      <td>1050.000000</td>\n",
       "      <td>8065.500000</td>\n",
       "      <td>83.40000</td>\n",
       "      <td>601.700000</td>\n",
       "      <td>0.000000</td>\n",
       "      <td>0.000000</td>\n",
       "      <td>0.004725</td>\n",
       "    </tr>\n",
       "    <tr>\n",
       "      <th>50%</th>\n",
       "      <td>2.510000</td>\n",
       "      <td>1075.000000</td>\n",
       "      <td>10167.000000</td>\n",
       "      <td>368.90000</td>\n",
       "      <td>606.200000</td>\n",
       "      <td>10.840000</td>\n",
       "      <td>15.050000</td>\n",
       "      <td>0.005450</td>\n",
       "    </tr>\n",
       "    <tr>\n",
       "      <th>75%</th>\n",
       "      <td>2.750000</td>\n",
       "      <td>1100.000000</td>\n",
       "      <td>12844.000000</td>\n",
       "      <td>368.90000</td>\n",
       "      <td>1061.300000</td>\n",
       "      <td>22.870000</td>\n",
       "      <td>16.110000</td>\n",
       "      <td>0.006200</td>\n",
       "    </tr>\n",
       "    <tr>\n",
       "      <th>max</th>\n",
       "      <td>2.980000</td>\n",
       "      <td>1150.000000</td>\n",
       "      <td>14839.000000</td>\n",
       "      <td>717.70000</td>\n",
       "      <td>1213.000000</td>\n",
       "      <td>25.460000</td>\n",
       "      <td>16.110000</td>\n",
       "      <td>0.007000</td>\n",
       "    </tr>\n",
       "  </tbody>\n",
       "</table>\n",
       "</div>"
      ],
      "text/plain": [
       "       Thickness (mm)   Width (mm)  Gross weight (kg)       RP02           RM  \\\n",
       "count       50.000000    50.000000          50.000000   50.00000    50.000000   \n",
       "mean         2.508800  1075.000000       10227.840000  336.39200   653.682000   \n",
       "std          0.273112    48.968961        2900.401516  245.12073   403.594141   \n",
       "min          2.010000  1000.000000        5011.000000    0.00000     0.000000   \n",
       "25%          2.292500  1050.000000        8065.500000   83.40000   601.700000   \n",
       "50%          2.510000  1075.000000       10167.000000  368.90000   606.200000   \n",
       "75%          2.750000  1100.000000       12844.000000  368.90000  1061.300000   \n",
       "max          2.980000  1150.000000       14839.000000  717.70000  1213.000000   \n",
       "\n",
       "        Quantity         AG         AI  \n",
       "count  50.000000  50.000000  50.000000  \n",
       "mean   13.536200   9.706120   0.005500  \n",
       "std    10.380396   7.080155   0.000886  \n",
       "min     0.000000   0.000000   0.004100  \n",
       "25%     0.000000   0.000000   0.004725  \n",
       "50%    10.840000  15.050000   0.005450  \n",
       "75%    22.870000  16.110000   0.006200  \n",
       "max    25.460000  16.110000   0.007000  "
      ]
     },
     "execution_count": 7,
     "metadata": {},
     "output_type": "execute_result"
    }
   ],
   "source": [
    "supplier_1.describe()"
   ]
  },
  {
   "cell_type": "code",
   "execution_count": 8,
   "id": "849c1df0-3adf-4e91-b3b0-c397fea5eeaf",
   "metadata": {
    "execution": {
     "iopub.execute_input": "2025-09-10T10:09:46.408312Z",
     "iopub.status.busy": "2025-09-10T10:09:46.407486Z",
     "iopub.status.idle": "2025-09-10T10:09:46.427536Z",
     "shell.execute_reply": "2025-09-10T10:09:46.425597Z",
     "shell.execute_reply.started": "2025-09-10T10:09:46.408221Z"
    }
   },
   "outputs": [
    {
     "data": {
      "text/plain": [
       "Quality/Choice       0\n",
       "Grade                0\n",
       "Finish               0\n",
       "Thickness (mm)       0\n",
       "Width (mm)           0\n",
       "Description          0\n",
       "Gross weight (kg)    0\n",
       "RP02                 0\n",
       "RM                   0\n",
       "Quantity             0\n",
       "AG                   0\n",
       "AI                   0\n",
       "dtype: int64"
      ]
     },
     "execution_count": 8,
     "metadata": {},
     "output_type": "execute_result"
    }
   ],
   "source": [
    "# Look for missing values -> 0\n",
    "supplier_1.isna().sum()"
   ]
  },
  {
   "cell_type": "code",
   "execution_count": 9,
   "id": "635512ec-6a33-4d32-b153-13f456b8d70a",
   "metadata": {
    "execution": {
     "iopub.execute_input": "2025-09-10T10:09:46.430441Z",
     "iopub.status.busy": "2025-09-10T10:09:46.429471Z",
     "iopub.status.idle": "2025-09-10T10:09:46.456117Z",
     "shell.execute_reply": "2025-09-10T10:09:46.453525Z",
     "shell.execute_reply.started": "2025-09-10T10:09:46.430328Z"
    }
   },
   "outputs": [
    {
     "data": {
      "text/plain": [
       "np.int64(0)"
      ]
     },
     "execution_count": 9,
     "metadata": {},
     "output_type": "execute_result"
    }
   ],
   "source": [
    "# Look for duplicated rows -> 0\n",
    "supplier_1.duplicated().sum()"
   ]
  },
  {
   "cell_type": "code",
   "execution_count": 10,
   "id": "110ac579-4e6b-4e58-9192-d60801b2dd31",
   "metadata": {
    "execution": {
     "iopub.execute_input": "2025-09-10T10:09:46.471298Z",
     "iopub.status.busy": "2025-09-10T10:09:46.469888Z",
     "iopub.status.idle": "2025-09-10T10:09:46.502950Z",
     "shell.execute_reply": "2025-09-10T10:09:46.500308Z",
     "shell.execute_reply.started": "2025-09-10T10:09:46.471182Z"
    }
   },
   "outputs": [
    {
     "data": {
      "text/html": [
       "<div>\n",
       "<style scoped>\n",
       "    .dataframe tbody tr th:only-of-type {\n",
       "        vertical-align: middle;\n",
       "    }\n",
       "\n",
       "    .dataframe tbody tr th {\n",
       "        vertical-align: top;\n",
       "    }\n",
       "\n",
       "    .dataframe thead th {\n",
       "        text-align: right;\n",
       "    }\n",
       "</style>\n",
       "<table border=\"1\" class=\"dataframe\">\n",
       "  <thead>\n",
       "    <tr style=\"text-align: right;\">\n",
       "      <th></th>\n",
       "      <th>Material</th>\n",
       "      <th>Description</th>\n",
       "      <th>Article ID</th>\n",
       "      <th>Weight (kg)</th>\n",
       "      <th>Quantity</th>\n",
       "      <th>Reserved</th>\n",
       "    </tr>\n",
       "  </thead>\n",
       "  <tbody>\n",
       "    <tr>\n",
       "      <th>0</th>\n",
       "      <td>HDC</td>\n",
       "      <td>Material is Oiled</td>\n",
       "      <td>23048203</td>\n",
       "      <td>24469</td>\n",
       "      <td>52</td>\n",
       "      <td>NOT RESERVED</td>\n",
       "    </tr>\n",
       "    <tr>\n",
       "      <th>1</th>\n",
       "      <td>S235JR</td>\n",
       "      <td>Material is Oiled</td>\n",
       "      <td>23040547</td>\n",
       "      <td>16984</td>\n",
       "      <td>41</td>\n",
       "      <td>NOT RESERVED</td>\n",
       "    </tr>\n",
       "    <tr>\n",
       "      <th>2</th>\n",
       "      <td>S235JR</td>\n",
       "      <td>Material is Painted</td>\n",
       "      <td>23046057</td>\n",
       "      <td>9162</td>\n",
       "      <td>28</td>\n",
       "      <td>NOT RESERVED</td>\n",
       "    </tr>\n",
       "    <tr>\n",
       "      <th>3</th>\n",
       "      <td>DX51D +AZ150</td>\n",
       "      <td>Material is Oiled</td>\n",
       "      <td>23041966</td>\n",
       "      <td>12119</td>\n",
       "      <td>66</td>\n",
       "      <td>VANILLA</td>\n",
       "    </tr>\n",
       "    <tr>\n",
       "      <th>4</th>\n",
       "      <td>HDC</td>\n",
       "      <td>Material is Painted</td>\n",
       "      <td>23043884</td>\n",
       "      <td>17260</td>\n",
       "      <td>26</td>\n",
       "      <td>NOT RESERVED</td>\n",
       "    </tr>\n",
       "  </tbody>\n",
       "</table>\n",
       "</div>"
      ],
      "text/plain": [
       "       Material          Description  Article ID  Weight (kg)  Quantity  \\\n",
       "0           HDC    Material is Oiled    23048203        24469        52   \n",
       "1        S235JR    Material is Oiled    23040547        16984        41   \n",
       "2        S235JR  Material is Painted    23046057         9162        28   \n",
       "3  DX51D +AZ150    Material is Oiled    23041966        12119        66   \n",
       "4           HDC  Material is Painted    23043884        17260        26   \n",
       "\n",
       "       Reserved  \n",
       "0  NOT RESERVED  \n",
       "1  NOT RESERVED  \n",
       "2  NOT RESERVED  \n",
       "3       VANILLA  \n",
       "4  NOT RESERVED  "
      ]
     },
     "execution_count": 10,
     "metadata": {},
     "output_type": "execute_result"
    }
   ],
   "source": [
    "# Look at 5 first rows\n",
    "supplier_2.head()"
   ]
  },
  {
   "cell_type": "code",
   "execution_count": 11,
   "id": "501baa03-ba50-46aa-b63e-1416430b721e",
   "metadata": {
    "execution": {
     "iopub.execute_input": "2025-09-10T10:09:46.508054Z",
     "iopub.status.busy": "2025-09-10T10:09:46.506158Z",
     "iopub.status.idle": "2025-09-10T10:09:46.527643Z",
     "shell.execute_reply": "2025-09-10T10:09:46.524691Z",
     "shell.execute_reply.started": "2025-09-10T10:09:46.507933Z"
    }
   },
   "outputs": [
    {
     "data": {
      "text/plain": [
       "(50, 6)"
      ]
     },
     "execution_count": 11,
     "metadata": {},
     "output_type": "execute_result"
    }
   ],
   "source": [
    "supplier_2.shape"
   ]
  },
  {
   "cell_type": "code",
   "execution_count": 12,
   "id": "bcca3eb9-685a-4b03-9304-077ff42de403",
   "metadata": {
    "execution": {
     "iopub.execute_input": "2025-09-10T10:09:46.530890Z",
     "iopub.status.busy": "2025-09-10T10:09:46.529990Z",
     "iopub.status.idle": "2025-09-10T10:09:46.566315Z",
     "shell.execute_reply": "2025-09-10T10:09:46.563330Z",
     "shell.execute_reply.started": "2025-09-10T10:09:46.530824Z"
    }
   },
   "outputs": [
    {
     "name": "stdout",
     "output_type": "stream",
     "text": [
      "<class 'pandas.core.frame.DataFrame'>\n",
      "RangeIndex: 50 entries, 0 to 49\n",
      "Data columns (total 6 columns):\n",
      " #   Column       Non-Null Count  Dtype \n",
      "---  ------       --------------  ----- \n",
      " 0   Material     50 non-null     object\n",
      " 1   Description  50 non-null     object\n",
      " 2   Article ID   50 non-null     int64 \n",
      " 3   Weight (kg)  50 non-null     int64 \n",
      " 4   Quantity     50 non-null     int64 \n",
      " 5   Reserved     50 non-null     object\n",
      "dtypes: int64(3), object(3)\n",
      "memory usage: 2.5+ KB\n"
     ]
    }
   ],
   "source": [
    "supplier_2.info()"
   ]
  },
  {
   "cell_type": "code",
   "execution_count": 13,
   "id": "780adac3-18a3-45fb-825a-1d7b18e54b38",
   "metadata": {
    "execution": {
     "iopub.execute_input": "2025-09-10T10:09:46.571334Z",
     "iopub.status.busy": "2025-09-10T10:09:46.569143Z",
     "iopub.status.idle": "2025-09-10T10:09:46.623675Z",
     "shell.execute_reply": "2025-09-10T10:09:46.621131Z",
     "shell.execute_reply.started": "2025-09-10T10:09:46.571199Z"
    }
   },
   "outputs": [
    {
     "data": {
      "text/html": [
       "<div>\n",
       "<style scoped>\n",
       "    .dataframe tbody tr th:only-of-type {\n",
       "        vertical-align: middle;\n",
       "    }\n",
       "\n",
       "    .dataframe tbody tr th {\n",
       "        vertical-align: top;\n",
       "    }\n",
       "\n",
       "    .dataframe thead th {\n",
       "        text-align: right;\n",
       "    }\n",
       "</style>\n",
       "<table border=\"1\" class=\"dataframe\">\n",
       "  <thead>\n",
       "    <tr style=\"text-align: right;\">\n",
       "      <th></th>\n",
       "      <th>Article ID</th>\n",
       "      <th>Weight (kg)</th>\n",
       "      <th>Quantity</th>\n",
       "    </tr>\n",
       "  </thead>\n",
       "  <tbody>\n",
       "    <tr>\n",
       "      <th>count</th>\n",
       "      <td>5.000000e+01</td>\n",
       "      <td>50.000000</td>\n",
       "      <td>50.000000</td>\n",
       "    </tr>\n",
       "    <tr>\n",
       "      <th>mean</th>\n",
       "      <td>2.304538e+07</td>\n",
       "      <td>16307.520000</td>\n",
       "      <td>57.920000</td>\n",
       "    </tr>\n",
       "    <tr>\n",
       "      <th>std</th>\n",
       "      <td>2.876349e+03</td>\n",
       "      <td>5669.798014</td>\n",
       "      <td>25.197052</td>\n",
       "    </tr>\n",
       "    <tr>\n",
       "      <th>min</th>\n",
       "      <td>2.304027e+07</td>\n",
       "      <td>5302.000000</td>\n",
       "      <td>10.000000</td>\n",
       "    </tr>\n",
       "    <tr>\n",
       "      <th>25%</th>\n",
       "      <td>2.304345e+07</td>\n",
       "      <td>11367.750000</td>\n",
       "      <td>33.250000</td>\n",
       "    </tr>\n",
       "    <tr>\n",
       "      <th>50%</th>\n",
       "      <td>2.304551e+07</td>\n",
       "      <td>16660.000000</td>\n",
       "      <td>62.000000</td>\n",
       "    </tr>\n",
       "    <tr>\n",
       "      <th>75%</th>\n",
       "      <td>2.304778e+07</td>\n",
       "      <td>21278.000000</td>\n",
       "      <td>74.500000</td>\n",
       "    </tr>\n",
       "    <tr>\n",
       "      <th>max</th>\n",
       "      <td>2.304991e+07</td>\n",
       "      <td>24951.000000</td>\n",
       "      <td>98.000000</td>\n",
       "    </tr>\n",
       "  </tbody>\n",
       "</table>\n",
       "</div>"
      ],
      "text/plain": [
       "         Article ID   Weight (kg)   Quantity\n",
       "count  5.000000e+01     50.000000  50.000000\n",
       "mean   2.304538e+07  16307.520000  57.920000\n",
       "std    2.876349e+03   5669.798014  25.197052\n",
       "min    2.304027e+07   5302.000000  10.000000\n",
       "25%    2.304345e+07  11367.750000  33.250000\n",
       "50%    2.304551e+07  16660.000000  62.000000\n",
       "75%    2.304778e+07  21278.000000  74.500000\n",
       "max    2.304991e+07  24951.000000  98.000000"
      ]
     },
     "execution_count": 13,
     "metadata": {},
     "output_type": "execute_result"
    }
   ],
   "source": [
    "supplier_2.describe()"
   ]
  },
  {
   "cell_type": "code",
   "execution_count": 14,
   "id": "7e572dbb-b0c5-4718-90bf-0b94d13007f8",
   "metadata": {
    "execution": {
     "iopub.execute_input": "2025-09-10T10:09:46.626945Z",
     "iopub.status.busy": "2025-09-10T10:09:46.625994Z",
     "iopub.status.idle": "2025-09-10T10:09:46.649192Z",
     "shell.execute_reply": "2025-09-10T10:09:46.645787Z",
     "shell.execute_reply.started": "2025-09-10T10:09:46.626888Z"
    }
   },
   "outputs": [
    {
     "data": {
      "text/plain": [
       "Material       0\n",
       "Description    0\n",
       "Article ID     0\n",
       "Weight (kg)    0\n",
       "Quantity       0\n",
       "Reserved       0\n",
       "dtype: int64"
      ]
     },
     "execution_count": 14,
     "metadata": {},
     "output_type": "execute_result"
    }
   ],
   "source": [
    "# Look for missing values -> 0\n",
    "supplier_2.isna().sum()"
   ]
  },
  {
   "cell_type": "code",
   "execution_count": 15,
   "id": "9ed201cc-9064-482a-8a2b-3b8c0c6c75e6",
   "metadata": {
    "execution": {
     "iopub.execute_input": "2025-09-10T10:09:46.654319Z",
     "iopub.status.busy": "2025-09-10T10:09:46.652980Z",
     "iopub.status.idle": "2025-09-10T10:09:46.678384Z",
     "shell.execute_reply": "2025-09-10T10:09:46.674778Z",
     "shell.execute_reply.started": "2025-09-10T10:09:46.654169Z"
    }
   },
   "outputs": [
    {
     "data": {
      "text/plain": [
       "np.int64(0)"
      ]
     },
     "execution_count": 15,
     "metadata": {},
     "output_type": "execute_result"
    }
   ],
   "source": [
    "# Look for duplicated rows -> 0\n",
    "supplier_2.duplicated().sum()"
   ]
  },
  {
   "cell_type": "markdown",
   "id": "9f779a61-0325-4208-80cc-c6b80916c466",
   "metadata": {},
   "source": [
    "# Preprocessing Supplier 1\n",
    "\n",
    "## Normalize Column Names\n",
    "We create a function `clean_column` to normalize and clean column names:  \n",
    "- convert to lowercase  \n",
    "- replace spaces and special characters with underscores  \n",
    "- remove redundant underscores"
   ]
  },
  {
   "cell_type": "code",
   "execution_count": 16,
   "id": "3a840968-bad3-4830-97c3-ec9ff1e35da9",
   "metadata": {
    "execution": {
     "iopub.execute_input": "2025-09-10T10:09:46.683804Z",
     "iopub.status.busy": "2025-09-10T10:09:46.680697Z",
     "iopub.status.idle": "2025-09-10T10:09:46.707333Z",
     "shell.execute_reply": "2025-09-10T10:09:46.704338Z",
     "shell.execute_reply.started": "2025-09-10T10:09:46.683696Z"
    }
   },
   "outputs": [],
   "source": [
    "def clean_column(name: str) -> str:\n",
    "    name = name.lower()\n",
    "    if \"(\" in name and \")\" in name:\n",
    "        start = name.index(\"(\")\n",
    "        end = name.index(\")\")\n",
    "        name = (name[:start] + name[end + 1 :]).strip()\n",
    "    # Replace common separators with underscore\n",
    "    for ch in [\" \", \"/\", \"-\", \".\", \"+\"]:\n",
    "        name = name.replace(ch, \"_\")\n",
    "    # Remove double underscores\n",
    "    while \"__\" in name:\n",
    "        name = name.replace(\"__\", \"_\")\n",
    "    # Strip underscores at ends\n",
    "    name = name.strip(\"_\")\n",
    "    return name"
   ]
  },
  {
   "cell_type": "code",
   "execution_count": 17,
   "id": "f0b7523a-6140-46bb-8fa3-311e9ebe59bf",
   "metadata": {
    "execution": {
     "iopub.execute_input": "2025-09-10T10:09:46.712884Z",
     "iopub.status.busy": "2025-09-10T10:09:46.711733Z",
     "iopub.status.idle": "2025-09-10T10:09:46.729674Z",
     "shell.execute_reply": "2025-09-10T10:09:46.725516Z",
     "shell.execute_reply.started": "2025-09-10T10:09:46.712780Z"
    }
   },
   "outputs": [],
   "source": [
    "supplier_1.columns = [clean_column(c) for c in supplier_1.columns]"
   ]
  },
  {
   "cell_type": "code",
   "execution_count": 18,
   "id": "6cd059a6-f3f7-4b68-bbfd-5fbd4a304c8a",
   "metadata": {
    "execution": {
     "iopub.execute_input": "2025-09-10T10:09:46.737196Z",
     "iopub.status.busy": "2025-09-10T10:09:46.733923Z",
     "iopub.status.idle": "2025-09-10T10:09:46.767897Z",
     "shell.execute_reply": "2025-09-10T10:09:46.764801Z",
     "shell.execute_reply.started": "2025-09-10T10:09:46.737043Z"
    }
   },
   "outputs": [
    {
     "data": {
      "text/plain": [
       "Index(['quality_choice', 'grade', 'finish', 'thickness', 'width',\n",
       "       'description', 'gross_weight', 'rp02', 'rm', 'quantity', 'ag', 'ai'],\n",
       "      dtype='object')"
      ]
     },
     "execution_count": 18,
     "metadata": {},
     "output_type": "execute_result"
    }
   ],
   "source": [
    "supplier_1.columns"
   ]
  },
  {
   "cell_type": "markdown",
   "id": "20618b04-280b-4756-9a83-ea7542d299c8",
   "metadata": {},
   "source": [
    "## Standardize Description Column\n",
    "We translate German descriptions to English and ensure consistent uppercase format for categories."
   ]
  },
  {
   "cell_type": "code",
   "execution_count": 19,
   "id": "a33da67a-ed91-4974-a945-419a7fdfee4d",
   "metadata": {
    "execution": {
     "iopub.execute_input": "2025-09-10T10:09:46.772097Z",
     "iopub.status.busy": "2025-09-10T10:09:46.770873Z",
     "iopub.status.idle": "2025-09-10T10:09:46.793205Z",
     "shell.execute_reply": "2025-09-10T10:09:46.790366Z",
     "shell.execute_reply.started": "2025-09-10T10:09:46.771987Z"
    }
   },
   "outputs": [
    {
     "data": {
      "text/plain": [
       "array(['Längs- oder Querisse', 'Kantenfehler - FS-Kantenrisse',\n",
       "       'Sollmasse (Gewicht) unterschritten'], dtype=object)"
      ]
     },
     "execution_count": 19,
     "metadata": {},
     "output_type": "execute_result"
    }
   ],
   "source": [
    "supplier_1['description'].unique()"
   ]
  },
  {
   "cell_type": "code",
   "execution_count": 20,
   "id": "9154dacf-5bf1-4805-b268-d16d207c1be8",
   "metadata": {
    "execution": {
     "iopub.execute_input": "2025-09-10T10:09:46.797776Z",
     "iopub.status.busy": "2025-09-10T10:09:46.796425Z",
     "iopub.status.idle": "2025-09-10T10:09:46.818665Z",
     "shell.execute_reply": "2025-09-10T10:09:46.814837Z",
     "shell.execute_reply.started": "2025-09-10T10:09:46.797669Z"
    }
   },
   "outputs": [],
   "source": [
    "# Translate to English with uppercase\n",
    "# TODO: we can also use automatic translation\n",
    "description_mapping_1 = {\n",
    "    'Längs- oder Querisse': 'CRACKS',\n",
    "    'Kantenfehler - FS-Kantenrisse': 'EDGE CRACKS',\n",
    "    'Sollmasse (Gewicht) unterschritten': 'UNDERWEIGHT'\n",
    "}\n",
    "\n",
    "supplier_1['description'] = supplier_1['description'].apply(lambda x : description_mapping_1.get(x, x))"
   ]
  },
  {
   "cell_type": "markdown",
   "id": "711d0196-dc89-4bb2-9c62-c4f7379dc9d4",
   "metadata": {},
   "source": [
    "## Standardize Finish Column\n",
    "Translate finish-related values to English and uppercase to maintain consistency."
   ]
  },
  {
   "cell_type": "code",
   "execution_count": 21,
   "id": "1ccc9e29-1544-4ae7-908c-df8fc7875600",
   "metadata": {
    "execution": {
     "iopub.execute_input": "2025-09-10T10:09:46.827267Z",
     "iopub.status.busy": "2025-09-10T10:09:46.821952Z",
     "iopub.status.idle": "2025-09-10T10:09:46.856336Z",
     "shell.execute_reply": "2025-09-10T10:09:46.852719Z",
     "shell.execute_reply.started": "2025-09-10T10:09:46.827123Z"
    }
   },
   "outputs": [
    {
     "data": {
      "text/plain": [
       "array(['gebeizt und geglüht', 'ungebeizt', 'gebeizt'], dtype=object)"
      ]
     },
     "execution_count": 21,
     "metadata": {},
     "output_type": "execute_result"
    }
   ],
   "source": [
    "supplier_1[\"finish\"].unique()"
   ]
  },
  {
   "cell_type": "code",
   "execution_count": 22,
   "id": "8a6b5e82-9928-4267-b362-0d1254952344",
   "metadata": {
    "execution": {
     "iopub.execute_input": "2025-09-10T10:09:46.862535Z",
     "iopub.status.busy": "2025-09-10T10:09:46.859802Z",
     "iopub.status.idle": "2025-09-10T10:09:46.882660Z",
     "shell.execute_reply": "2025-09-10T10:09:46.878910Z",
     "shell.execute_reply.started": "2025-09-10T10:09:46.862390Z"
    }
   },
   "outputs": [],
   "source": [
    "# Translate to English with uppercase\n",
    "# TODO: we can also use automatic translation\n",
    "finish_mapping_1 = {\n",
    "    'gebeizt und geglüht' : 'PICKLED & ANNEALED', # 'PICKLED, ANNEALED'\n",
    "    'ungebeizt' : 'UNPICKLED',\n",
    "    'gebeizt' : 'PICKLED'    \n",
    "}\n",
    "supplier_1[\"finish\"] = supplier_1[\"finish\"].apply(lambda x : finish_mapping_1.get(x, x))"
   ]
  },
  {
   "cell_type": "markdown",
   "id": "805d2277-41e9-4ca2-9549-34d9d641f91b",
   "metadata": {},
   "source": [
    "## Standardize Quality Column\n",
    "Convert quality choices to uppercase strings for consistency."
   ]
  },
  {
   "cell_type": "code",
   "execution_count": 23,
   "id": "772ae0d9-66cf-4d65-9cfd-3682bc9656f1",
   "metadata": {
    "execution": {
     "iopub.execute_input": "2025-09-10T10:09:46.888993Z",
     "iopub.status.busy": "2025-09-10T10:09:46.885850Z",
     "iopub.status.idle": "2025-09-10T10:09:46.915007Z",
     "shell.execute_reply": "2025-09-10T10:09:46.912295Z",
     "shell.execute_reply.started": "2025-09-10T10:09:46.888840Z"
    }
   },
   "outputs": [
    {
     "data": {
      "text/plain": [
       "array(['3rd', '2nd', '1st'], dtype=object)"
      ]
     },
     "execution_count": 23,
     "metadata": {},
     "output_type": "execute_result"
    }
   ],
   "source": [
    "supplier_1[\"quality_choice\"].unique()"
   ]
  },
  {
   "cell_type": "code",
   "execution_count": 24,
   "id": "7335473a-efea-4f90-ba48-e1ef4d4cc2eb",
   "metadata": {
    "execution": {
     "iopub.execute_input": "2025-09-10T10:09:46.921013Z",
     "iopub.status.busy": "2025-09-10T10:09:46.918921Z",
     "iopub.status.idle": "2025-09-10T10:09:46.939337Z",
     "shell.execute_reply": "2025-09-10T10:09:46.935355Z",
     "shell.execute_reply.started": "2025-09-10T10:09:46.920868Z"
    }
   },
   "outputs": [],
   "source": [
    "# Uppercase for consistency with other categorical columns\n",
    "# Leave that as string in case of other possible values for quality (e.g., good, bad)\n",
    "supplier_1[\"quality_choice\"] = supplier_1[\"quality_choice\"].str.upper()"
   ]
  },
  {
   "cell_type": "markdown",
   "id": "56600617-cfd6-4383-a77a-40f12bb0f2fd",
   "metadata": {},
   "source": [
    "# Preprocessing Supplier 2\n",
    "Normalize columns and map descriptions (which seem to correspond to finish)."
   ]
  },
  {
   "cell_type": "code",
   "execution_count": 25,
   "id": "6926f835-ccae-4fa9-a404-930b8bb5031b",
   "metadata": {
    "execution": {
     "iopub.execute_input": "2025-09-10T10:09:46.943982Z",
     "iopub.status.busy": "2025-09-10T10:09:46.942585Z",
     "iopub.status.idle": "2025-09-10T10:09:46.976886Z",
     "shell.execute_reply": "2025-09-10T10:09:46.972759Z",
     "shell.execute_reply.started": "2025-09-10T10:09:46.943821Z"
    }
   },
   "outputs": [],
   "source": [
    "supplier_2.columns = [clean_column(c) for c in supplier_2.columns]"
   ]
  },
  {
   "cell_type": "code",
   "execution_count": 26,
   "id": "c6b9d7c3-1815-4e7e-bb7d-b28ec320c691",
   "metadata": {
    "execution": {
     "iopub.execute_input": "2025-09-10T10:09:46.983419Z",
     "iopub.status.busy": "2025-09-10T10:09:46.981841Z",
     "iopub.status.idle": "2025-09-10T10:09:47.012778Z",
     "shell.execute_reply": "2025-09-10T10:09:47.009817Z",
     "shell.execute_reply.started": "2025-09-10T10:09:46.983267Z"
    }
   },
   "outputs": [
    {
     "data": {
      "text/plain": [
       "Index(['material', 'description', 'article_id', 'weight', 'quantity',\n",
       "       'reserved'],\n",
       "      dtype='object')"
      ]
     },
     "execution_count": 26,
     "metadata": {},
     "output_type": "execute_result"
    }
   ],
   "source": [
    "supplier_2.columns"
   ]
  },
  {
   "cell_type": "markdown",
   "id": "658d1adb-1d57-4737-9777-0abe4fc55462",
   "metadata": {},
   "source": [
    "## Description"
   ]
  },
  {
   "cell_type": "code",
   "execution_count": 27,
   "id": "afc38e22-74d8-4c03-aab0-462a01df3dda",
   "metadata": {
    "execution": {
     "iopub.execute_input": "2025-09-10T10:09:47.017918Z",
     "iopub.status.busy": "2025-09-10T10:09:47.016762Z",
     "iopub.status.idle": "2025-09-10T10:09:47.041194Z",
     "shell.execute_reply": "2025-09-10T10:09:47.036371Z",
     "shell.execute_reply.started": "2025-09-10T10:09:47.017821Z"
    }
   },
   "outputs": [],
   "source": [
    "# Descripion looks like finish feature based on the values\n",
    "# Possible improvement: extract different features (e.g., finish, coating) from description column\n",
    "description_mapping_2 = {\n",
    "    'Material is Oiled' : 'OILED',\n",
    "    'Material is Painted' : 'PAINTED',\n",
    "    'Material is not Oiled' : 'NOT PAINTED'   \n",
    "}\n",
    "supplier_2[\"description\"] = supplier_2[\"description\"].apply(lambda x : description_mapping_2.get(x, x))"
   ]
  },
  {
   "cell_type": "markdown",
   "id": "2927b3e2-b0d0-4124-a276-7e25afc8a67f",
   "metadata": {},
   "source": [
    "# Merge Supplier Datasets\n",
    "We rename columns for consistency, add a `source` column to identify suppliers, and generate unique article IDs for Supplier 1."
   ]
  },
  {
   "cell_type": "code",
   "execution_count": 28,
   "id": "be22782a-31c7-4675-b786-bb32b5ca5ef1",
   "metadata": {
    "execution": {
     "iopub.execute_input": "2025-09-10T10:09:47.072989Z",
     "iopub.status.busy": "2025-09-10T10:09:47.071214Z",
     "iopub.status.idle": "2025-09-10T10:09:47.091473Z",
     "shell.execute_reply": "2025-09-10T10:09:47.087982Z",
     "shell.execute_reply.started": "2025-09-10T10:09:47.072863Z"
    }
   },
   "outputs": [],
   "source": [
    "# Rename for consistency\n",
    "supplier_1.rename(columns={\"grade\": \"grade_material\", \"gross_weight\": \"weight\", }, inplace=True) \n",
    "supplier_2.rename(columns={\"material\": \"grade_material\", \"description\": \"finish\"}, inplace=True)"
   ]
  },
  {
   "cell_type": "code",
   "execution_count": 29,
   "id": "46e0cde1-d6a1-40d3-88d8-a6694def2037",
   "metadata": {
    "execution": {
     "iopub.execute_input": "2025-09-10T10:09:47.097623Z",
     "iopub.status.busy": "2025-09-10T10:09:47.095083Z",
     "iopub.status.idle": "2025-09-10T10:09:47.117659Z",
     "shell.execute_reply": "2025-09-10T10:09:47.113626Z",
     "shell.execute_reply.started": "2025-09-10T10:09:47.097496Z"
    }
   },
   "outputs": [],
   "source": [
    "# Indicate supplier in a new column\n",
    "supplier_1[[\"source\"]] = \"SUPPLIER_1\"\n",
    "supplier_2[[\"source\"]] = \"SUPPLIER_2\""
   ]
  },
  {
   "cell_type": "code",
   "execution_count": 30,
   "id": "67c87f24-040b-444b-87db-83059a590d69",
   "metadata": {
    "execution": {
     "iopub.execute_input": "2025-09-10T10:09:47.124582Z",
     "iopub.status.busy": "2025-09-10T10:09:47.121732Z",
     "iopub.status.idle": "2025-09-10T10:09:47.140139Z",
     "shell.execute_reply": "2025-09-10T10:09:47.136118Z",
     "shell.execute_reply.started": "2025-09-10T10:09:47.124446Z"
    }
   },
   "outputs": [],
   "source": [
    "# Add article id to supplier 1\n",
    "def generate_uuid() -> str:\n",
    "    return str(uuid.uuid4())"
   ]
  },
  {
   "cell_type": "code",
   "execution_count": 31,
   "id": "256fca5e-3455-4a33-8a25-476f2aa8931f",
   "metadata": {
    "execution": {
     "iopub.execute_input": "2025-09-10T10:09:47.146655Z",
     "iopub.status.busy": "2025-09-10T10:09:47.143975Z",
     "iopub.status.idle": "2025-09-10T10:09:47.171975Z",
     "shell.execute_reply": "2025-09-10T10:09:47.167877Z",
     "shell.execute_reply.started": "2025-09-10T10:09:47.146527Z"
    }
   },
   "outputs": [],
   "source": [
    "supplier_1[\"article_id\"] = supplier_1.apply(lambda _: generate_uuid(), axis=1)"
   ]
  },
  {
   "cell_type": "markdown",
   "id": "5b81fa9b-cb16-4c33-8e39-4f9162815465",
   "metadata": {},
   "source": [
    "# Remove Unwanted Columns\n",
    "We remove unnecessary columns from Supplier 1 before merging."
   ]
  },
  {
   "cell_type": "code",
   "execution_count": 32,
   "id": "c459441e-e20e-4ca8-8db2-db313a0960cf",
   "metadata": {
    "execution": {
     "iopub.execute_input": "2025-09-10T10:09:47.176995Z",
     "iopub.status.busy": "2025-09-10T10:09:47.175620Z",
     "iopub.status.idle": "2025-09-10T10:09:47.212647Z",
     "shell.execute_reply": "2025-09-10T10:09:47.209348Z",
     "shell.execute_reply.started": "2025-09-10T10:09:47.176850Z"
    }
   },
   "outputs": [],
   "source": [
    "# Select columns based on instruction -> remove: rp02, rm, ag, ai\n",
    "unwanted_columns_1 = [\"rp02\", \"rm\", \"ag\", \"ai\"]\n",
    "supplier_1 = supplier_1.drop(columns=unwanted_columns_1)"
   ]
  },
  {
   "cell_type": "markdown",
   "id": "996f5256-dfec-4ad3-8cd3-e927a2f4442e",
   "metadata": {},
   "source": [
    "# Combine Datasets\n",
    "Merge both suppliers into a single `inventory_dataset`."
   ]
  },
  {
   "cell_type": "code",
   "execution_count": 33,
   "id": "54a5d0a0-d259-47d7-8312-34d834d7006a",
   "metadata": {
    "execution": {
     "iopub.execute_input": "2025-09-10T10:09:47.216897Z",
     "iopub.status.busy": "2025-09-10T10:09:47.215676Z",
     "iopub.status.idle": "2025-09-10T10:09:47.237644Z",
     "shell.execute_reply": "2025-09-10T10:09:47.235376Z",
     "shell.execute_reply.started": "2025-09-10T10:09:47.216791Z"
    }
   },
   "outputs": [],
   "source": [
    "inventory_dataset = pd.concat([supplier_1, supplier_2], ignore_index=True)"
   ]
  },
  {
   "cell_type": "code",
   "execution_count": 34,
   "id": "c3d010d0-756e-4d92-837e-79b5d4933211",
   "metadata": {
    "execution": {
     "iopub.execute_input": "2025-09-10T10:09:47.240656Z",
     "iopub.status.busy": "2025-09-10T10:09:47.239689Z",
     "iopub.status.idle": "2025-09-10T10:09:47.301041Z",
     "shell.execute_reply": "2025-09-10T10:09:47.299040Z",
     "shell.execute_reply.started": "2025-09-10T10:09:47.240548Z"
    }
   },
   "outputs": [
    {
     "data": {
      "text/html": [
       "<div>\n",
       "<style scoped>\n",
       "    .dataframe tbody tr th:only-of-type {\n",
       "        vertical-align: middle;\n",
       "    }\n",
       "\n",
       "    .dataframe tbody tr th {\n",
       "        vertical-align: top;\n",
       "    }\n",
       "\n",
       "    .dataframe thead th {\n",
       "        text-align: right;\n",
       "    }\n",
       "</style>\n",
       "<table border=\"1\" class=\"dataframe\">\n",
       "  <thead>\n",
       "    <tr style=\"text-align: right;\">\n",
       "      <th></th>\n",
       "      <th>quality_choice</th>\n",
       "      <th>grade_material</th>\n",
       "      <th>finish</th>\n",
       "      <th>thickness</th>\n",
       "      <th>width</th>\n",
       "      <th>description</th>\n",
       "      <th>weight</th>\n",
       "      <th>quantity</th>\n",
       "      <th>source</th>\n",
       "      <th>article_id</th>\n",
       "      <th>reserved</th>\n",
       "    </tr>\n",
       "  </thead>\n",
       "  <tbody>\n",
       "    <tr>\n",
       "      <th>0</th>\n",
       "      <td>3RD</td>\n",
       "      <td>C200S</td>\n",
       "      <td>PICKLED &amp; ANNEALED</td>\n",
       "      <td>2.77</td>\n",
       "      <td>1100.0</td>\n",
       "      <td>CRACKS</td>\n",
       "      <td>13983</td>\n",
       "      <td>0.00</td>\n",
       "      <td>SUPPLIER_1</td>\n",
       "      <td>53f1ee28-25ca-4224-af4e-3f821dfd7d39</td>\n",
       "      <td>NaN</td>\n",
       "    </tr>\n",
       "    <tr>\n",
       "      <th>1</th>\n",
       "      <td>3RD</td>\n",
       "      <td>C300S</td>\n",
       "      <td>UNPICKLED</td>\n",
       "      <td>2.65</td>\n",
       "      <td>1075.0</td>\n",
       "      <td>CRACKS</td>\n",
       "      <td>13047</td>\n",
       "      <td>0.00</td>\n",
       "      <td>SUPPLIER_1</td>\n",
       "      <td>1bdc9016-a79d-448e-bd32-bd1dac800072</td>\n",
       "      <td>NaN</td>\n",
       "    </tr>\n",
       "    <tr>\n",
       "      <th>2</th>\n",
       "      <td>3RD</td>\n",
       "      <td>C100S</td>\n",
       "      <td>PICKLED &amp; ANNEALED</td>\n",
       "      <td>2.20</td>\n",
       "      <td>1100.0</td>\n",
       "      <td>EDGE CRACKS</td>\n",
       "      <td>14155</td>\n",
       "      <td>10.84</td>\n",
       "      <td>SUPPLIER_1</td>\n",
       "      <td>27babe91-34ca-4348-afd9-180acd0b2a55</td>\n",
       "      <td>NaN</td>\n",
       "    </tr>\n",
       "    <tr>\n",
       "      <th>3</th>\n",
       "      <td>2ND</td>\n",
       "      <td>C100S</td>\n",
       "      <td>PICKLED</td>\n",
       "      <td>2.86</td>\n",
       "      <td>1100.0</td>\n",
       "      <td>CRACKS</td>\n",
       "      <td>11381</td>\n",
       "      <td>22.87</td>\n",
       "      <td>SUPPLIER_1</td>\n",
       "      <td>3b079bf4-8634-4ec7-b6f6-75706603da62</td>\n",
       "      <td>NaN</td>\n",
       "    </tr>\n",
       "    <tr>\n",
       "      <th>4</th>\n",
       "      <td>1ST</td>\n",
       "      <td>C300S</td>\n",
       "      <td>UNPICKLED</td>\n",
       "      <td>2.88</td>\n",
       "      <td>1050.0</td>\n",
       "      <td>UNDERWEIGHT</td>\n",
       "      <td>10072</td>\n",
       "      <td>22.87</td>\n",
       "      <td>SUPPLIER_1</td>\n",
       "      <td>3ced38d7-b78d-4318-985a-76caaf853822</td>\n",
       "      <td>NaN</td>\n",
       "    </tr>\n",
       "  </tbody>\n",
       "</table>\n",
       "</div>"
      ],
      "text/plain": [
       "  quality_choice grade_material              finish  thickness   width  \\\n",
       "0            3RD          C200S  PICKLED & ANNEALED       2.77  1100.0   \n",
       "1            3RD          C300S           UNPICKLED       2.65  1075.0   \n",
       "2            3RD          C100S  PICKLED & ANNEALED       2.20  1100.0   \n",
       "3            2ND          C100S             PICKLED       2.86  1100.0   \n",
       "4            1ST          C300S           UNPICKLED       2.88  1050.0   \n",
       "\n",
       "   description  weight  quantity      source  \\\n",
       "0       CRACKS   13983      0.00  SUPPLIER_1   \n",
       "1       CRACKS   13047      0.00  SUPPLIER_1   \n",
       "2  EDGE CRACKS   14155     10.84  SUPPLIER_1   \n",
       "3       CRACKS   11381     22.87  SUPPLIER_1   \n",
       "4  UNDERWEIGHT   10072     22.87  SUPPLIER_1   \n",
       "\n",
       "                             article_id reserved  \n",
       "0  53f1ee28-25ca-4224-af4e-3f821dfd7d39      NaN  \n",
       "1  1bdc9016-a79d-448e-bd32-bd1dac800072      NaN  \n",
       "2  27babe91-34ca-4348-afd9-180acd0b2a55      NaN  \n",
       "3  3b079bf4-8634-4ec7-b6f6-75706603da62      NaN  \n",
       "4  3ced38d7-b78d-4318-985a-76caaf853822      NaN  "
      ]
     },
     "execution_count": 34,
     "metadata": {},
     "output_type": "execute_result"
    }
   ],
   "source": [
    "inventory_dataset.head()"
   ]
  },
  {
   "cell_type": "markdown",
   "id": "fd27ac5f-bb3d-47a2-806e-7fea6befe592",
   "metadata": {},
   "source": [
    "# Handle Missing Values\n",
    "- Categorical columns (`quality_choice`, `reserved`) are filled with `\"UNKNOWN\"`  \n",
    "- Numerical columns could be filled with mean if needed for ML purposes"
   ]
  },
  {
   "cell_type": "code",
   "execution_count": 35,
   "id": "00af22f2-4d9c-4fd4-a719-7f831f5abd80",
   "metadata": {
    "execution": {
     "iopub.execute_input": "2025-09-10T10:09:47.304557Z",
     "iopub.status.busy": "2025-09-10T10:09:47.303086Z",
     "iopub.status.idle": "2025-09-10T10:09:47.326672Z",
     "shell.execute_reply": "2025-09-10T10:09:47.323813Z",
     "shell.execute_reply.started": "2025-09-10T10:09:47.304462Z"
    }
   },
   "outputs": [
    {
     "data": {
      "text/plain": [
       "quality_choice    50\n",
       "grade_material     0\n",
       "finish             0\n",
       "thickness         50\n",
       "width             50\n",
       "description       50\n",
       "weight             0\n",
       "quantity           0\n",
       "source             0\n",
       "article_id         0\n",
       "reserved          50\n",
       "dtype: int64"
      ]
     },
     "execution_count": 35,
     "metadata": {},
     "output_type": "execute_result"
    }
   ],
   "source": [
    "# In case to use this data with machine learning model we need to handle missing values.\n",
    "# If we want to use this for analysis, it's not necessary to fill missing values.\n",
    "inventory_dataset.isna().sum()"
   ]
  },
  {
   "cell_type": "code",
   "execution_count": 36,
   "id": "af04531c-189a-4345-a015-f60f89b8d6ea",
   "metadata": {
    "execution": {
     "iopub.execute_input": "2025-09-10T10:09:47.330708Z",
     "iopub.status.busy": "2025-09-10T10:09:47.329552Z",
     "iopub.status.idle": "2025-09-10T10:09:47.346767Z",
     "shell.execute_reply": "2025-09-10T10:09:47.344581Z",
     "shell.execute_reply.started": "2025-09-10T10:09:47.330611Z"
    }
   },
   "outputs": [],
   "source": [
    "# Categorical feature\n",
    "inventory_dataset[[\"quality_choice\", \"reserved\"]] = inventory_dataset[[\"quality_choice\", \"reserved\"]].fillna(\"UNKNOWN\")"
   ]
  },
  {
   "cell_type": "code",
   "execution_count": 37,
   "id": "2728254e-4ac0-44c4-b621-5287d61059b0",
   "metadata": {
    "execution": {
     "iopub.execute_input": "2025-09-10T10:09:47.350344Z",
     "iopub.status.busy": "2025-09-10T10:09:47.349178Z",
     "iopub.status.idle": "2025-09-10T10:09:47.366984Z",
     "shell.execute_reply": "2025-09-10T10:09:47.364712Z",
     "shell.execute_reply.started": "2025-09-10T10:09:47.350236Z"
    }
   },
   "outputs": [],
   "source": [
    "# Numerical feature\n",
    "# Optional for machine learning purpose\n",
    "# inventory_dataset[[\"thickness_mm\", \"width_mm\"]].fillna(inventory_dataset[[\"thickness_mm\", \"width_mm\"]].mean())"
   ]
  },
  {
   "cell_type": "code",
   "execution_count": 38,
   "id": "684ef3c6-85fa-4483-9ffb-9dc0dd90a646",
   "metadata": {
    "execution": {
     "iopub.execute_input": "2025-09-10T10:09:47.370697Z",
     "iopub.status.busy": "2025-09-10T10:09:47.369352Z",
     "iopub.status.idle": "2025-09-10T10:09:47.412168Z",
     "shell.execute_reply": "2025-09-10T10:09:47.410166Z",
     "shell.execute_reply.started": "2025-09-10T10:09:47.370589Z"
    }
   },
   "outputs": [
    {
     "data": {
      "text/html": [
       "<div>\n",
       "<style scoped>\n",
       "    .dataframe tbody tr th:only-of-type {\n",
       "        vertical-align: middle;\n",
       "    }\n",
       "\n",
       "    .dataframe tbody tr th {\n",
       "        vertical-align: top;\n",
       "    }\n",
       "\n",
       "    .dataframe thead th {\n",
       "        text-align: right;\n",
       "    }\n",
       "</style>\n",
       "<table border=\"1\" class=\"dataframe\">\n",
       "  <thead>\n",
       "    <tr style=\"text-align: right;\">\n",
       "      <th></th>\n",
       "      <th>quality_choice</th>\n",
       "      <th>grade_material</th>\n",
       "      <th>finish</th>\n",
       "      <th>thickness</th>\n",
       "      <th>width</th>\n",
       "      <th>description</th>\n",
       "      <th>weight</th>\n",
       "      <th>quantity</th>\n",
       "      <th>source</th>\n",
       "      <th>article_id</th>\n",
       "      <th>reserved</th>\n",
       "    </tr>\n",
       "  </thead>\n",
       "  <tbody>\n",
       "    <tr>\n",
       "      <th>95</th>\n",
       "      <td>UNKNOWN</td>\n",
       "      <td>DX51D +Z140</td>\n",
       "      <td>NOT PAINTED</td>\n",
       "      <td>NaN</td>\n",
       "      <td>NaN</td>\n",
       "      <td>NaN</td>\n",
       "      <td>9940</td>\n",
       "      <td>96.0</td>\n",
       "      <td>SUPPLIER_2</td>\n",
       "      <td>23047543</td>\n",
       "      <td>NOT RESERVED</td>\n",
       "    </tr>\n",
       "    <tr>\n",
       "      <th>96</th>\n",
       "      <td>UNKNOWN</td>\n",
       "      <td>DX51D +AZ150</td>\n",
       "      <td>PAINTED</td>\n",
       "      <td>NaN</td>\n",
       "      <td>NaN</td>\n",
       "      <td>NaN</td>\n",
       "      <td>23884</td>\n",
       "      <td>51.0</td>\n",
       "      <td>SUPPLIER_2</td>\n",
       "      <td>23045292</td>\n",
       "      <td>NOT RESERVED</td>\n",
       "    </tr>\n",
       "    <tr>\n",
       "      <th>97</th>\n",
       "      <td>UNKNOWN</td>\n",
       "      <td>S235JR</td>\n",
       "      <td>OILED</td>\n",
       "      <td>NaN</td>\n",
       "      <td>NaN</td>\n",
       "      <td>NaN</td>\n",
       "      <td>5302</td>\n",
       "      <td>12.0</td>\n",
       "      <td>SUPPLIER_2</td>\n",
       "      <td>23047408</td>\n",
       "      <td>VANILLA</td>\n",
       "    </tr>\n",
       "    <tr>\n",
       "      <th>98</th>\n",
       "      <td>UNKNOWN</td>\n",
       "      <td>DX51D +Z140</td>\n",
       "      <td>OILED</td>\n",
       "      <td>NaN</td>\n",
       "      <td>NaN</td>\n",
       "      <td>NaN</td>\n",
       "      <td>16927</td>\n",
       "      <td>69.0</td>\n",
       "      <td>SUPPLIER_2</td>\n",
       "      <td>23043348</td>\n",
       "      <td>VANILLA</td>\n",
       "    </tr>\n",
       "    <tr>\n",
       "      <th>99</th>\n",
       "      <td>UNKNOWN</td>\n",
       "      <td>HDC</td>\n",
       "      <td>NOT PAINTED</td>\n",
       "      <td>NaN</td>\n",
       "      <td>NaN</td>\n",
       "      <td>NaN</td>\n",
       "      <td>11191</td>\n",
       "      <td>75.0</td>\n",
       "      <td>SUPPLIER_2</td>\n",
       "      <td>23043386</td>\n",
       "      <td>VANILLA</td>\n",
       "    </tr>\n",
       "  </tbody>\n",
       "</table>\n",
       "</div>"
      ],
      "text/plain": [
       "   quality_choice grade_material       finish  thickness  width description  \\\n",
       "95        UNKNOWN    DX51D +Z140  NOT PAINTED        NaN    NaN         NaN   \n",
       "96        UNKNOWN   DX51D +AZ150      PAINTED        NaN    NaN         NaN   \n",
       "97        UNKNOWN         S235JR        OILED        NaN    NaN         NaN   \n",
       "98        UNKNOWN    DX51D +Z140        OILED        NaN    NaN         NaN   \n",
       "99        UNKNOWN            HDC  NOT PAINTED        NaN    NaN         NaN   \n",
       "\n",
       "    weight  quantity      source article_id      reserved  \n",
       "95    9940      96.0  SUPPLIER_2   23047543  NOT RESERVED  \n",
       "96   23884      51.0  SUPPLIER_2   23045292  NOT RESERVED  \n",
       "97    5302      12.0  SUPPLIER_2   23047408       VANILLA  \n",
       "98   16927      69.0  SUPPLIER_2   23043348       VANILLA  \n",
       "99   11191      75.0  SUPPLIER_2   23043386       VANILLA  "
      ]
     },
     "execution_count": 38,
     "metadata": {},
     "output_type": "execute_result"
    }
   ],
   "source": [
    "inventory_dataset.tail()"
   ]
  },
  {
   "cell_type": "markdown",
   "id": "6079149c-0485-4973-b8a7-a1976e656fd1",
   "metadata": {},
   "source": [
    "# Export Cleaned Dataset\n",
    "Save the merged and cleaned inventory dataset to CSV for further analysis or machine learning tasks."
   ]
  },
  {
   "cell_type": "code",
   "execution_count": 39,
   "id": "806bbcd1-d2fb-4088-80b1-3e0c916f9fa4",
   "metadata": {
    "execution": {
     "iopub.execute_input": "2025-09-10T10:09:47.415035Z",
     "iopub.status.busy": "2025-09-10T10:09:47.414256Z",
     "iopub.status.idle": "2025-09-10T10:09:47.430588Z",
     "shell.execute_reply": "2025-09-10T10:09:47.428408Z",
     "shell.execute_reply.started": "2025-09-10T10:09:47.414960Z"
    }
   },
   "outputs": [],
   "source": [
    "inventory_dataset.to_csv(\"../resources/export/inventory_dataset.csv\", index=False)"
   ]
  },
  {
   "cell_type": "code",
   "execution_count": 40,
   "id": "55f11a79-6f09-429c-ac22-77c124e14fce",
   "metadata": {
    "execution": {
     "iopub.execute_input": "2025-09-10T10:09:47.434250Z",
     "iopub.status.busy": "2025-09-10T10:09:47.433353Z",
     "iopub.status.idle": "2025-09-10T10:09:47.490552Z",
     "shell.execute_reply": "2025-09-10T10:09:47.484228Z",
     "shell.execute_reply.started": "2025-09-10T10:09:47.434161Z"
    }
   },
   "outputs": [
    {
     "data": {
      "text/html": [
       "<div>\n",
       "<style scoped>\n",
       "    .dataframe tbody tr th:only-of-type {\n",
       "        vertical-align: middle;\n",
       "    }\n",
       "\n",
       "    .dataframe tbody tr th {\n",
       "        vertical-align: top;\n",
       "    }\n",
       "\n",
       "    .dataframe thead th {\n",
       "        text-align: right;\n",
       "    }\n",
       "</style>\n",
       "<table border=\"1\" class=\"dataframe\">\n",
       "  <thead>\n",
       "    <tr style=\"text-align: right;\">\n",
       "      <th></th>\n",
       "      <th>quality_choice</th>\n",
       "      <th>grade_material</th>\n",
       "      <th>finish</th>\n",
       "      <th>thickness</th>\n",
       "      <th>width</th>\n",
       "      <th>description</th>\n",
       "      <th>weight</th>\n",
       "      <th>quantity</th>\n",
       "      <th>source</th>\n",
       "      <th>article_id</th>\n",
       "      <th>reserved</th>\n",
       "    </tr>\n",
       "  </thead>\n",
       "  <tbody>\n",
       "    <tr>\n",
       "      <th>0</th>\n",
       "      <td>3RD</td>\n",
       "      <td>C200S</td>\n",
       "      <td>PICKLED &amp; ANNEALED</td>\n",
       "      <td>2.77</td>\n",
       "      <td>1100.0</td>\n",
       "      <td>CRACKS</td>\n",
       "      <td>13983</td>\n",
       "      <td>0.00</td>\n",
       "      <td>SUPPLIER_1</td>\n",
       "      <td>53f1ee28-25ca-4224-af4e-3f821dfd7d39</td>\n",
       "      <td>UNKNOWN</td>\n",
       "    </tr>\n",
       "    <tr>\n",
       "      <th>1</th>\n",
       "      <td>3RD</td>\n",
       "      <td>C300S</td>\n",
       "      <td>UNPICKLED</td>\n",
       "      <td>2.65</td>\n",
       "      <td>1075.0</td>\n",
       "      <td>CRACKS</td>\n",
       "      <td>13047</td>\n",
       "      <td>0.00</td>\n",
       "      <td>SUPPLIER_1</td>\n",
       "      <td>1bdc9016-a79d-448e-bd32-bd1dac800072</td>\n",
       "      <td>UNKNOWN</td>\n",
       "    </tr>\n",
       "    <tr>\n",
       "      <th>2</th>\n",
       "      <td>3RD</td>\n",
       "      <td>C100S</td>\n",
       "      <td>PICKLED &amp; ANNEALED</td>\n",
       "      <td>2.20</td>\n",
       "      <td>1100.0</td>\n",
       "      <td>EDGE CRACKS</td>\n",
       "      <td>14155</td>\n",
       "      <td>10.84</td>\n",
       "      <td>SUPPLIER_1</td>\n",
       "      <td>27babe91-34ca-4348-afd9-180acd0b2a55</td>\n",
       "      <td>UNKNOWN</td>\n",
       "    </tr>\n",
       "    <tr>\n",
       "      <th>3</th>\n",
       "      <td>2ND</td>\n",
       "      <td>C100S</td>\n",
       "      <td>PICKLED</td>\n",
       "      <td>2.86</td>\n",
       "      <td>1100.0</td>\n",
       "      <td>CRACKS</td>\n",
       "      <td>11381</td>\n",
       "      <td>22.87</td>\n",
       "      <td>SUPPLIER_1</td>\n",
       "      <td>3b079bf4-8634-4ec7-b6f6-75706603da62</td>\n",
       "      <td>UNKNOWN</td>\n",
       "    </tr>\n",
       "    <tr>\n",
       "      <th>4</th>\n",
       "      <td>1ST</td>\n",
       "      <td>C300S</td>\n",
       "      <td>UNPICKLED</td>\n",
       "      <td>2.88</td>\n",
       "      <td>1050.0</td>\n",
       "      <td>UNDERWEIGHT</td>\n",
       "      <td>10072</td>\n",
       "      <td>22.87</td>\n",
       "      <td>SUPPLIER_1</td>\n",
       "      <td>3ced38d7-b78d-4318-985a-76caaf853822</td>\n",
       "      <td>UNKNOWN</td>\n",
       "    </tr>\n",
       "    <tr>\n",
       "      <th>...</th>\n",
       "      <td>...</td>\n",
       "      <td>...</td>\n",
       "      <td>...</td>\n",
       "      <td>...</td>\n",
       "      <td>...</td>\n",
       "      <td>...</td>\n",
       "      <td>...</td>\n",
       "      <td>...</td>\n",
       "      <td>...</td>\n",
       "      <td>...</td>\n",
       "      <td>...</td>\n",
       "    </tr>\n",
       "    <tr>\n",
       "      <th>95</th>\n",
       "      <td>UNKNOWN</td>\n",
       "      <td>DX51D +Z140</td>\n",
       "      <td>NOT PAINTED</td>\n",
       "      <td>NaN</td>\n",
       "      <td>NaN</td>\n",
       "      <td>NaN</td>\n",
       "      <td>9940</td>\n",
       "      <td>96.00</td>\n",
       "      <td>SUPPLIER_2</td>\n",
       "      <td>23047543</td>\n",
       "      <td>NOT RESERVED</td>\n",
       "    </tr>\n",
       "    <tr>\n",
       "      <th>96</th>\n",
       "      <td>UNKNOWN</td>\n",
       "      <td>DX51D +AZ150</td>\n",
       "      <td>PAINTED</td>\n",
       "      <td>NaN</td>\n",
       "      <td>NaN</td>\n",
       "      <td>NaN</td>\n",
       "      <td>23884</td>\n",
       "      <td>51.00</td>\n",
       "      <td>SUPPLIER_2</td>\n",
       "      <td>23045292</td>\n",
       "      <td>NOT RESERVED</td>\n",
       "    </tr>\n",
       "    <tr>\n",
       "      <th>97</th>\n",
       "      <td>UNKNOWN</td>\n",
       "      <td>S235JR</td>\n",
       "      <td>OILED</td>\n",
       "      <td>NaN</td>\n",
       "      <td>NaN</td>\n",
       "      <td>NaN</td>\n",
       "      <td>5302</td>\n",
       "      <td>12.00</td>\n",
       "      <td>SUPPLIER_2</td>\n",
       "      <td>23047408</td>\n",
       "      <td>VANILLA</td>\n",
       "    </tr>\n",
       "    <tr>\n",
       "      <th>98</th>\n",
       "      <td>UNKNOWN</td>\n",
       "      <td>DX51D +Z140</td>\n",
       "      <td>OILED</td>\n",
       "      <td>NaN</td>\n",
       "      <td>NaN</td>\n",
       "      <td>NaN</td>\n",
       "      <td>16927</td>\n",
       "      <td>69.00</td>\n",
       "      <td>SUPPLIER_2</td>\n",
       "      <td>23043348</td>\n",
       "      <td>VANILLA</td>\n",
       "    </tr>\n",
       "    <tr>\n",
       "      <th>99</th>\n",
       "      <td>UNKNOWN</td>\n",
       "      <td>HDC</td>\n",
       "      <td>NOT PAINTED</td>\n",
       "      <td>NaN</td>\n",
       "      <td>NaN</td>\n",
       "      <td>NaN</td>\n",
       "      <td>11191</td>\n",
       "      <td>75.00</td>\n",
       "      <td>SUPPLIER_2</td>\n",
       "      <td>23043386</td>\n",
       "      <td>VANILLA</td>\n",
       "    </tr>\n",
       "  </tbody>\n",
       "</table>\n",
       "<p>100 rows × 11 columns</p>\n",
       "</div>"
      ],
      "text/plain": [
       "   quality_choice grade_material              finish  thickness   width  \\\n",
       "0             3RD          C200S  PICKLED & ANNEALED       2.77  1100.0   \n",
       "1             3RD          C300S           UNPICKLED       2.65  1075.0   \n",
       "2             3RD          C100S  PICKLED & ANNEALED       2.20  1100.0   \n",
       "3             2ND          C100S             PICKLED       2.86  1100.0   \n",
       "4             1ST          C300S           UNPICKLED       2.88  1050.0   \n",
       "..            ...            ...                 ...        ...     ...   \n",
       "95        UNKNOWN    DX51D +Z140         NOT PAINTED        NaN     NaN   \n",
       "96        UNKNOWN   DX51D +AZ150             PAINTED        NaN     NaN   \n",
       "97        UNKNOWN         S235JR               OILED        NaN     NaN   \n",
       "98        UNKNOWN    DX51D +Z140               OILED        NaN     NaN   \n",
       "99        UNKNOWN            HDC         NOT PAINTED        NaN     NaN   \n",
       "\n",
       "    description  weight  quantity      source  \\\n",
       "0        CRACKS   13983      0.00  SUPPLIER_1   \n",
       "1        CRACKS   13047      0.00  SUPPLIER_1   \n",
       "2   EDGE CRACKS   14155     10.84  SUPPLIER_1   \n",
       "3        CRACKS   11381     22.87  SUPPLIER_1   \n",
       "4   UNDERWEIGHT   10072     22.87  SUPPLIER_1   \n",
       "..          ...     ...       ...         ...   \n",
       "95          NaN    9940     96.00  SUPPLIER_2   \n",
       "96          NaN   23884     51.00  SUPPLIER_2   \n",
       "97          NaN    5302     12.00  SUPPLIER_2   \n",
       "98          NaN   16927     69.00  SUPPLIER_2   \n",
       "99          NaN   11191     75.00  SUPPLIER_2   \n",
       "\n",
       "                              article_id      reserved  \n",
       "0   53f1ee28-25ca-4224-af4e-3f821dfd7d39       UNKNOWN  \n",
       "1   1bdc9016-a79d-448e-bd32-bd1dac800072       UNKNOWN  \n",
       "2   27babe91-34ca-4348-afd9-180acd0b2a55       UNKNOWN  \n",
       "3   3b079bf4-8634-4ec7-b6f6-75706603da62       UNKNOWN  \n",
       "4   3ced38d7-b78d-4318-985a-76caaf853822       UNKNOWN  \n",
       "..                                   ...           ...  \n",
       "95                              23047543  NOT RESERVED  \n",
       "96                              23045292  NOT RESERVED  \n",
       "97                              23047408       VANILLA  \n",
       "98                              23043348       VANILLA  \n",
       "99                              23043386       VANILLA  \n",
       "\n",
       "[100 rows x 11 columns]"
      ]
     },
     "execution_count": 40,
     "metadata": {},
     "output_type": "execute_result"
    }
   ],
   "source": [
    "pd.read_csv(\"../resources/export/inventory_dataset.csv\")"
   ]
  }
 ],
 "metadata": {
  "kernelspec": {
   "display_name": "Python 3 (ipykernel)",
   "language": "python",
   "name": "python3"
  },
  "language_info": {
   "codemirror_mode": {
    "name": "ipython",
    "version": 3
   },
   "file_extension": ".py",
   "mimetype": "text/x-python",
   "name": "python",
   "nbconvert_exporter": "python",
   "pygments_lexer": "ipython3",
   "version": "3.12.9"
  }
 },
 "nbformat": 4,
 "nbformat_minor": 5
}
